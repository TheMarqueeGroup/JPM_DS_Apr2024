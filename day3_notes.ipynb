{
 "cells": [
  {
   "cell_type": "markdown",
   "id": "cb00858f-e9dd-43d4-9f80-ecebd6965e67",
   "metadata": {},
   "source": [
    "# Day 3 - Data Science Essentials Program\n",
    "NAMR - Apr 2024\n",
    "\n",
    "**Agenda for today**\n",
    "- Morning\n",
    "    - Takeup of FF3 model\n",
    "    - Classification: Logistic Regressions\n",
    "- Afternoon\n",
    "    - Classification: Decision Trees\n",
    " \n",
    "**Before we get started**\n",
    "- open up the `Logistic Regression.ipynb` file"
   ]
  },
  {
   "cell_type": "markdown",
   "id": "68b1aff7-f6c2-42e0-8cb7-de464f6a316c",
   "metadata": {},
   "source": [
    "## Take-up Fama French 3 Factor Model"
   ]
  },
  {
   "cell_type": "code",
   "execution_count": 1,
   "id": "9894044b-07ab-4a8a-8f49-7dd6f24c5352",
   "metadata": {},
   "outputs": [],
   "source": [
    "#Step 1 - Import packages and data\n",
    "import pandas as pd\n",
    "import statsmodels.api as sm"
   ]
  },
  {
   "cell_type": "code",
   "execution_count": 2,
   "id": "7769d6c1-b12e-4da0-af03-d83dfa005004",
   "metadata": {},
   "outputs": [],
   "source": [
    "import matplotlib.pyplot as plt"
   ]
  },
  {
   "cell_type": "code",
   "execution_count": 13,
   "id": "bdc9ff76-c6a8-4281-96b6-14a148df297a",
   "metadata": {},
   "outputs": [],
   "source": [
    "aapl = pd.read_csv('StockData/AAPL.csv', parse_dates=['Date'], date_format='%m/%d/%y')\n",
    "# ff3 = pd.read_csv('ExData/ff3_daily.csv', parse_dates=['date'])\n",
    "ff3 = pd.read_csv('ExData/ff3_daily.csv')"
   ]
  },
  {
   "cell_type": "code",
   "execution_count": 15,
   "id": "75adcf55-0d92-4b11-bac8-335bb6d6f5e1",
   "metadata": {},
   "outputs": [],
   "source": [
    "ff3['date'] = pd.to_datetime(ff3['date'], format='%Y%m%d')"
   ]
  },
  {
   "cell_type": "code",
   "execution_count": 20,
   "id": "4f25ff86-0915-4371-8d39-b58af4464b7f",
   "metadata": {},
   "outputs": [],
   "source": [
    "# aapl.head()\n",
    "# ff3.info()\n",
    "# ff3.head()"
   ]
  },
  {
   "cell_type": "code",
   "execution_count": 21,
   "id": "89de33d0-1dae-4f71-8d4b-4d9101f2800d",
   "metadata": {},
   "outputs": [],
   "source": [
    "aapl['Returns'] = aapl['Adj Close'].pct_change()\n",
    "aapl['Returns'] *= 100"
   ]
  },
  {
   "cell_type": "code",
   "execution_count": 31,
   "id": "e52f5e0f-27d4-496d-b437-8e45b4201f79",
   "metadata": {},
   "outputs": [],
   "source": [
    "# aapl['Returns']\n",
    "data = ff3.merge(aapl, how='inner', left_on='date', right_on='Date')\n",
    "data['Excess Returns'] = data['Returns'] - data['RF']\n",
    "# data.tail()"
   ]
  },
  {
   "cell_type": "code",
   "execution_count": 33,
   "id": "578e09cc-9fdc-461c-94f4-3dc57c4801c0",
   "metadata": {},
   "outputs": [],
   "source": [
    "data = data.dropna()"
   ]
  },
  {
   "cell_type": "code",
   "execution_count": 37,
   "id": "dd391323-1050-4749-a860-6327d8fd42cd",
   "metadata": {},
   "outputs": [
    {
     "data": {
      "text/html": [
       "<div>\n",
       "<style scoped>\n",
       "    .dataframe tbody tr th:only-of-type {\n",
       "        vertical-align: middle;\n",
       "    }\n",
       "\n",
       "    .dataframe tbody tr th {\n",
       "        vertical-align: top;\n",
       "    }\n",
       "\n",
       "    .dataframe thead th {\n",
       "        text-align: right;\n",
       "    }\n",
       "</style>\n",
       "<table border=\"1\" class=\"dataframe\">\n",
       "  <thead>\n",
       "    <tr style=\"text-align: right;\">\n",
       "      <th></th>\n",
       "      <th>date</th>\n",
       "      <th>Mkt-RF</th>\n",
       "      <th>SMB</th>\n",
       "      <th>HML</th>\n",
       "      <th>RF</th>\n",
       "      <th>Date</th>\n",
       "      <th>Open</th>\n",
       "      <th>High</th>\n",
       "      <th>Low</th>\n",
       "      <th>Close</th>\n",
       "      <th>Adj Close</th>\n",
       "      <th>Volume</th>\n",
       "      <th>Returns</th>\n",
       "      <th>Excess Returns</th>\n",
       "    </tr>\n",
       "  </thead>\n",
       "  <tbody>\n",
       "    <tr>\n",
       "      <th>1</th>\n",
       "      <td>2013-10-02</td>\n",
       "      <td>-0.10</td>\n",
       "      <td>-0.37</td>\n",
       "      <td>-0.08</td>\n",
       "      <td>0.0</td>\n",
       "      <td>2013-10-02</td>\n",
       "      <td>69.375717</td>\n",
       "      <td>70.257141</td>\n",
       "      <td>69.107140</td>\n",
       "      <td>69.937141</td>\n",
       "      <td>63.731426</td>\n",
       "      <td>72296000</td>\n",
       "      <td>0.327914</td>\n",
       "      <td>0.327914</td>\n",
       "    </tr>\n",
       "    <tr>\n",
       "      <th>2</th>\n",
       "      <td>2013-10-03</td>\n",
       "      <td>-0.88</td>\n",
       "      <td>-0.19</td>\n",
       "      <td>0.20</td>\n",
       "      <td>0.0</td>\n",
       "      <td>2013-10-03</td>\n",
       "      <td>70.072861</td>\n",
       "      <td>70.335716</td>\n",
       "      <td>68.677139</td>\n",
       "      <td>69.058571</td>\n",
       "      <td>62.930801</td>\n",
       "      <td>80688300</td>\n",
       "      <td>-1.256248</td>\n",
       "      <td>-1.256248</td>\n",
       "    </tr>\n",
       "  </tbody>\n",
       "</table>\n",
       "</div>"
      ],
      "text/plain": [
       "        date  Mkt-RF   SMB   HML   RF       Date       Open       High  \\\n",
       "1 2013-10-02   -0.10 -0.37 -0.08  0.0 2013-10-02  69.375717  70.257141   \n",
       "2 2013-10-03   -0.88 -0.19  0.20  0.0 2013-10-03  70.072861  70.335716   \n",
       "\n",
       "         Low      Close  Adj Close    Volume   Returns  Excess Returns  \n",
       "1  69.107140  69.937141  63.731426  72296000  0.327914        0.327914  \n",
       "2  68.677139  69.058571  62.930801  80688300 -1.256248       -1.256248  "
      ]
     },
     "execution_count": 37,
     "metadata": {},
     "output_type": "execute_result"
    }
   ],
   "source": [
    "data.head(2)"
   ]
  },
  {
   "cell_type": "code",
   "execution_count": 60,
   "id": "8dc4f75b-7d07-4ad0-a5ae-a3375a2d4028",
   "metadata": {},
   "outputs": [
    {
     "name": "stderr",
     "output_type": "stream",
     "text": [
      "C:\\Users\\V806013\\AppData\\Local\\Temp\\4\\ipykernel_100652\\546132453.py:1: SettingWithCopyWarning: \n",
      "A value is trying to be set on a copy of a slice from a DataFrame.\n",
      "Try using .loc[row_indexer,col_indexer] = value instead\n",
      "\n",
      "See the caveats in the documentation: https://pandas.pydata.org/pandas-docs/stable/user_guide/indexing.html#returning-a-view-versus-a-copy\n",
      "  data['Const'] = 1\n"
     ]
    },
    {
     "data": {
      "text/html": [
       "<table class=\"simpletable\">\n",
       "<caption>OLS Regression Results</caption>\n",
       "<tr>\n",
       "  <th>Dep. Variable:</th>     <td>Excess Returns</td>  <th>  R-squared:         </th> <td>   0.350</td> \n",
       "</tr>\n",
       "<tr>\n",
       "  <th>Model:</th>                   <td>OLS</td>       <th>  Adj. R-squared:    </th> <td>   0.348</td> \n",
       "</tr>\n",
       "<tr>\n",
       "  <th>Method:</th>             <td>Least Squares</td>  <th>  F-statistic:       </th> <td>   224.8</td> \n",
       "</tr>\n",
       "<tr>\n",
       "  <th>Date:</th>             <td>Thu, 04 Apr 2024</td> <th>  Prob (F-statistic):</th> <td>1.11e-116</td>\n",
       "</tr>\n",
       "<tr>\n",
       "  <th>Time:</th>                 <td>10:01:44</td>     <th>  Log-Likelihood:    </th> <td> -1951.3</td> \n",
       "</tr>\n",
       "<tr>\n",
       "  <th>No. Observations:</th>      <td>  1258</td>      <th>  AIC:               </th> <td>   3911.</td> \n",
       "</tr>\n",
       "<tr>\n",
       "  <th>Df Residuals:</th>          <td>  1254</td>      <th>  BIC:               </th> <td>   3931.</td> \n",
       "</tr>\n",
       "<tr>\n",
       "  <th>Df Model:</th>              <td>     3</td>      <th>                     </th>     <td> </td>    \n",
       "</tr>\n",
       "<tr>\n",
       "  <th>Covariance Type:</th>      <td>nonrobust</td>    <th>                     </th>     <td> </td>    \n",
       "</tr>\n",
       "</table>\n",
       "<table class=\"simpletable\">\n",
       "<tr>\n",
       "     <td></td>       <th>coef</th>     <th>std err</th>      <th>t</th>      <th>P>|t|</th>  <th>[0.025</th>    <th>0.975]</th>  \n",
       "</tr>\n",
       "<tr>\n",
       "  <th>Const</th>  <td>    0.0491</td> <td>    0.032</td> <td>    1.519</td> <td> 0.129</td> <td>   -0.014</td> <td>    0.112</td>\n",
       "</tr>\n",
       "<tr>\n",
       "  <th>Mkt-RF</th> <td>    1.0091</td> <td>    0.041</td> <td>   24.502</td> <td> 0.000</td> <td>    0.928</td> <td>    1.090</td>\n",
       "</tr>\n",
       "<tr>\n",
       "  <th>SMB</th>    <td>   -0.2567</td> <td>    0.065</td> <td>   -3.923</td> <td> 0.000</td> <td>   -0.385</td> <td>   -0.128</td>\n",
       "</tr>\n",
       "<tr>\n",
       "  <th>HML</th>    <td>   -0.5526</td> <td>    0.067</td> <td>   -8.201</td> <td> 0.000</td> <td>   -0.685</td> <td>   -0.420</td>\n",
       "</tr>\n",
       "</table>\n",
       "<table class=\"simpletable\">\n",
       "<tr>\n",
       "  <th>Omnibus:</th>       <td>227.104</td> <th>  Durbin-Watson:     </th> <td>   1.961</td>\n",
       "</tr>\n",
       "<tr>\n",
       "  <th>Prob(Omnibus):</th> <td> 0.000</td>  <th>  Jarque-Bera (JB):  </th> <td>3618.842</td>\n",
       "</tr>\n",
       "<tr>\n",
       "  <th>Skew:</th>          <td> 0.318</td>  <th>  Prob(JB):          </th> <td>    0.00</td>\n",
       "</tr>\n",
       "<tr>\n",
       "  <th>Kurtosis:</th>      <td>11.285</td>  <th>  Cond. No.          </th> <td>    2.24</td>\n",
       "</tr>\n",
       "</table><br/><br/>Notes:<br/>[1] Standard Errors assume that the covariance matrix of the errors is correctly specified."
      ],
      "text/latex": [
       "\\begin{center}\n",
       "\\begin{tabular}{lclc}\n",
       "\\toprule\n",
       "\\textbf{Dep. Variable:}    &  Excess Returns  & \\textbf{  R-squared:         } &     0.350   \\\\\n",
       "\\textbf{Model:}            &       OLS        & \\textbf{  Adj. R-squared:    } &     0.348   \\\\\n",
       "\\textbf{Method:}           &  Least Squares   & \\textbf{  F-statistic:       } &     224.8   \\\\\n",
       "\\textbf{Date:}             & Thu, 04 Apr 2024 & \\textbf{  Prob (F-statistic):} & 1.11e-116   \\\\\n",
       "\\textbf{Time:}             &     10:01:44     & \\textbf{  Log-Likelihood:    } &   -1951.3   \\\\\n",
       "\\textbf{No. Observations:} &        1258      & \\textbf{  AIC:               } &     3911.   \\\\\n",
       "\\textbf{Df Residuals:}     &        1254      & \\textbf{  BIC:               } &     3931.   \\\\\n",
       "\\textbf{Df Model:}         &           3      & \\textbf{                     } &             \\\\\n",
       "\\textbf{Covariance Type:}  &    nonrobust     & \\textbf{                     } &             \\\\\n",
       "\\bottomrule\n",
       "\\end{tabular}\n",
       "\\begin{tabular}{lcccccc}\n",
       "                & \\textbf{coef} & \\textbf{std err} & \\textbf{t} & \\textbf{P$> |$t$|$} & \\textbf{[0.025} & \\textbf{0.975]}  \\\\\n",
       "\\midrule\n",
       "\\textbf{Const}  &       0.0491  &        0.032     &     1.519  &         0.129        &       -0.014    &        0.112     \\\\\n",
       "\\textbf{Mkt-RF} &       1.0091  &        0.041     &    24.502  &         0.000        &        0.928    &        1.090     \\\\\n",
       "\\textbf{SMB}    &      -0.2567  &        0.065     &    -3.923  &         0.000        &       -0.385    &       -0.128     \\\\\n",
       "\\textbf{HML}    &      -0.5526  &        0.067     &    -8.201  &         0.000        &       -0.685    &       -0.420     \\\\\n",
       "\\bottomrule\n",
       "\\end{tabular}\n",
       "\\begin{tabular}{lclc}\n",
       "\\textbf{Omnibus:}       & 227.104 & \\textbf{  Durbin-Watson:     } &    1.961  \\\\\n",
       "\\textbf{Prob(Omnibus):} &   0.000 & \\textbf{  Jarque-Bera (JB):  } & 3618.842  \\\\\n",
       "\\textbf{Skew:}          &   0.318 & \\textbf{  Prob(JB):          } &     0.00  \\\\\n",
       "\\textbf{Kurtosis:}      &  11.285 & \\textbf{  Cond. No.          } &     2.24  \\\\\n",
       "\\bottomrule\n",
       "\\end{tabular}\n",
       "%\\caption{OLS Regression Results}\n",
       "\\end{center}\n",
       "\n",
       "Notes: \\newline\n",
       " [1] Standard Errors assume that the covariance matrix of the errors is correctly specified."
      ],
      "text/plain": [
       "<class 'statsmodels.iolib.summary.Summary'>\n",
       "\"\"\"\n",
       "                            OLS Regression Results                            \n",
       "==============================================================================\n",
       "Dep. Variable:         Excess Returns   R-squared:                       0.350\n",
       "Model:                            OLS   Adj. R-squared:                  0.348\n",
       "Method:                 Least Squares   F-statistic:                     224.8\n",
       "Date:                Thu, 04 Apr 2024   Prob (F-statistic):          1.11e-116\n",
       "Time:                        10:01:44   Log-Likelihood:                -1951.3\n",
       "No. Observations:                1258   AIC:                             3911.\n",
       "Df Residuals:                    1254   BIC:                             3931.\n",
       "Df Model:                           3                                         \n",
       "Covariance Type:            nonrobust                                         \n",
       "==============================================================================\n",
       "                 coef    std err          t      P>|t|      [0.025      0.975]\n",
       "------------------------------------------------------------------------------\n",
       "Const          0.0491      0.032      1.519      0.129      -0.014       0.112\n",
       "Mkt-RF         1.0091      0.041     24.502      0.000       0.928       1.090\n",
       "SMB           -0.2567      0.065     -3.923      0.000      -0.385      -0.128\n",
       "HML           -0.5526      0.067     -8.201      0.000      -0.685      -0.420\n",
       "==============================================================================\n",
       "Omnibus:                      227.104   Durbin-Watson:                   1.961\n",
       "Prob(Omnibus):                  0.000   Jarque-Bera (JB):             3618.842\n",
       "Skew:                           0.318   Prob(JB):                         0.00\n",
       "Kurtosis:                      11.285   Cond. No.                         2.24\n",
       "==============================================================================\n",
       "\n",
       "Notes:\n",
       "[1] Standard Errors assume that the covariance matrix of the errors is correctly specified.\n",
       "\"\"\""
      ]
     },
     "execution_count": 60,
     "metadata": {},
     "output_type": "execute_result"
    }
   ],
   "source": [
    "data['Const'] = 1\n",
    "model2 = sm.OLS(data['Excess Returns'], data[['Const','Mkt-RF', 'SMB', 'HML']])\n",
    "results2 = model2.fit()\n",
    "results2.summary()"
   ]
  },
  {
   "cell_type": "code",
   "execution_count": 44,
   "id": "f13e60dc-b597-43d8-9b7a-fbc8e28ee086",
   "metadata": {},
   "outputs": [],
   "source": [
    "from sklearn.metrics import mean_absolute_error,  mean_squared_error"
   ]
  },
  {
   "cell_type": "code",
   "execution_count": 61,
   "id": "7cc74698-cd04-4af4-9ed6-bcca0bee8401",
   "metadata": {},
   "outputs": [
    {
     "data": {
      "text/html": [
       "<table class=\"simpletable\">\n",
       "<caption>OLS Regression Results</caption>\n",
       "<tr>\n",
       "  <th>Dep. Variable:</th>     <td>Excess Returns</td>  <th>  R-squared (uncentered):</th>      <td>   0.352</td> \n",
       "</tr>\n",
       "<tr>\n",
       "  <th>Model:</th>                   <td>OLS</td>       <th>  Adj. R-squared (uncentered):</th> <td>   0.351</td> \n",
       "</tr>\n",
       "<tr>\n",
       "  <th>Method:</th>             <td>Least Squares</td>  <th>  F-statistic:       </th>          <td>   227.6</td> \n",
       "</tr>\n",
       "<tr>\n",
       "  <th>Date:</th>             <td>Thu, 04 Apr 2024</td> <th>  Prob (F-statistic):</th>          <td>6.91e-118</td>\n",
       "</tr>\n",
       "<tr>\n",
       "  <th>Time:</th>                 <td>10:01:51</td>     <th>  Log-Likelihood:    </th>          <td> -1952.5</td> \n",
       "</tr>\n",
       "<tr>\n",
       "  <th>No. Observations:</th>      <td>  1258</td>      <th>  AIC:               </th>          <td>   3911.</td> \n",
       "</tr>\n",
       "<tr>\n",
       "  <th>Df Residuals:</th>          <td>  1255</td>      <th>  BIC:               </th>          <td>   3926.</td> \n",
       "</tr>\n",
       "<tr>\n",
       "  <th>Df Model:</th>              <td>     3</td>      <th>                     </th>              <td> </td>    \n",
       "</tr>\n",
       "<tr>\n",
       "  <th>Covariance Type:</th>      <td>nonrobust</td>    <th>                     </th>              <td> </td>    \n",
       "</tr>\n",
       "</table>\n",
       "<table class=\"simpletable\">\n",
       "<tr>\n",
       "     <td></td>       <th>coef</th>     <th>std err</th>      <th>t</th>      <th>P>|t|</th>  <th>[0.025</th>    <th>0.975]</th>  \n",
       "</tr>\n",
       "<tr>\n",
       "  <th>Mkt-RF</th> <td>    1.0133</td> <td>    0.041</td> <td>   24.647</td> <td> 0.000</td> <td>    0.933</td> <td>    1.094</td>\n",
       "</tr>\n",
       "<tr>\n",
       "  <th>SMB</th>    <td>   -0.2589</td> <td>    0.065</td> <td>   -3.954</td> <td> 0.000</td> <td>   -0.387</td> <td>   -0.130</td>\n",
       "</tr>\n",
       "<tr>\n",
       "  <th>HML</th>    <td>   -0.5551</td> <td>    0.067</td> <td>   -8.237</td> <td> 0.000</td> <td>   -0.687</td> <td>   -0.423</td>\n",
       "</tr>\n",
       "</table>\n",
       "<table class=\"simpletable\">\n",
       "<tr>\n",
       "  <th>Omnibus:</th>       <td>227.246</td> <th>  Durbin-Watson:     </th> <td>   1.958</td>\n",
       "</tr>\n",
       "<tr>\n",
       "  <th>Prob(Omnibus):</th> <td> 0.000</td>  <th>  Jarque-Bera (JB):  </th> <td>3620.127</td>\n",
       "</tr>\n",
       "<tr>\n",
       "  <th>Skew:</th>          <td> 0.319</td>  <th>  Prob(JB):          </th> <td>    0.00</td>\n",
       "</tr>\n",
       "<tr>\n",
       "  <th>Kurtosis:</th>      <td>11.286</td>  <th>  Cond. No.          </th> <td>    1.79</td>\n",
       "</tr>\n",
       "</table><br/><br/>Notes:<br/>[1] R² is computed without centering (uncentered) since the model does not contain a constant.<br/>[2] Standard Errors assume that the covariance matrix of the errors is correctly specified."
      ],
      "text/latex": [
       "\\begin{center}\n",
       "\\begin{tabular}{lclc}\n",
       "\\toprule\n",
       "\\textbf{Dep. Variable:}    &  Excess Returns  & \\textbf{  R-squared (uncentered):}      &     0.352   \\\\\n",
       "\\textbf{Model:}            &       OLS        & \\textbf{  Adj. R-squared (uncentered):} &     0.351   \\\\\n",
       "\\textbf{Method:}           &  Least Squares   & \\textbf{  F-statistic:       }          &     227.6   \\\\\n",
       "\\textbf{Date:}             & Thu, 04 Apr 2024 & \\textbf{  Prob (F-statistic):}          & 6.91e-118   \\\\\n",
       "\\textbf{Time:}             &     10:01:51     & \\textbf{  Log-Likelihood:    }          &   -1952.5   \\\\\n",
       "\\textbf{No. Observations:} &        1258      & \\textbf{  AIC:               }          &     3911.   \\\\\n",
       "\\textbf{Df Residuals:}     &        1255      & \\textbf{  BIC:               }          &     3926.   \\\\\n",
       "\\textbf{Df Model:}         &           3      & \\textbf{                     }          &             \\\\\n",
       "\\textbf{Covariance Type:}  &    nonrobust     & \\textbf{                     }          &             \\\\\n",
       "\\bottomrule\n",
       "\\end{tabular}\n",
       "\\begin{tabular}{lcccccc}\n",
       "                & \\textbf{coef} & \\textbf{std err} & \\textbf{t} & \\textbf{P$> |$t$|$} & \\textbf{[0.025} & \\textbf{0.975]}  \\\\\n",
       "\\midrule\n",
       "\\textbf{Mkt-RF} &       1.0133  &        0.041     &    24.647  &         0.000        &        0.933    &        1.094     \\\\\n",
       "\\textbf{SMB}    &      -0.2589  &        0.065     &    -3.954  &         0.000        &       -0.387    &       -0.130     \\\\\n",
       "\\textbf{HML}    &      -0.5551  &        0.067     &    -8.237  &         0.000        &       -0.687    &       -0.423     \\\\\n",
       "\\bottomrule\n",
       "\\end{tabular}\n",
       "\\begin{tabular}{lclc}\n",
       "\\textbf{Omnibus:}       & 227.246 & \\textbf{  Durbin-Watson:     } &    1.958  \\\\\n",
       "\\textbf{Prob(Omnibus):} &   0.000 & \\textbf{  Jarque-Bera (JB):  } & 3620.127  \\\\\n",
       "\\textbf{Skew:}          &   0.319 & \\textbf{  Prob(JB):          } &     0.00  \\\\\n",
       "\\textbf{Kurtosis:}      &  11.286 & \\textbf{  Cond. No.          } &     1.79  \\\\\n",
       "\\bottomrule\n",
       "\\end{tabular}\n",
       "%\\caption{OLS Regression Results}\n",
       "\\end{center}\n",
       "\n",
       "Notes: \\newline\n",
       " [1] R² is computed without centering (uncentered) since the model does not contain a constant. \\newline\n",
       " [2] Standard Errors assume that the covariance matrix of the errors is correctly specified."
      ],
      "text/plain": [
       "<class 'statsmodels.iolib.summary.Summary'>\n",
       "\"\"\"\n",
       "                                 OLS Regression Results                                \n",
       "=======================================================================================\n",
       "Dep. Variable:         Excess Returns   R-squared (uncentered):                   0.352\n",
       "Model:                            OLS   Adj. R-squared (uncentered):              0.351\n",
       "Method:                 Least Squares   F-statistic:                              227.6\n",
       "Date:                Thu, 04 Apr 2024   Prob (F-statistic):                   6.91e-118\n",
       "Time:                        10:01:51   Log-Likelihood:                         -1952.5\n",
       "No. Observations:                1258   AIC:                                      3911.\n",
       "Df Residuals:                    1255   BIC:                                      3926.\n",
       "Df Model:                           3                                                  \n",
       "Covariance Type:            nonrobust                                                  \n",
       "==============================================================================\n",
       "                 coef    std err          t      P>|t|      [0.025      0.975]\n",
       "------------------------------------------------------------------------------\n",
       "Mkt-RF         1.0133      0.041     24.647      0.000       0.933       1.094\n",
       "SMB           -0.2589      0.065     -3.954      0.000      -0.387      -0.130\n",
       "HML           -0.5551      0.067     -8.237      0.000      -0.687      -0.423\n",
       "==============================================================================\n",
       "Omnibus:                      227.246   Durbin-Watson:                   1.958\n",
       "Prob(Omnibus):                  0.000   Jarque-Bera (JB):             3620.127\n",
       "Skew:                           0.319   Prob(JB):                         0.00\n",
       "Kurtosis:                      11.286   Cond. No.                         1.79\n",
       "==============================================================================\n",
       "\n",
       "Notes:\n",
       "[1] R² is computed without centering (uncentered) since the model does not contain a constant.\n",
       "[2] Standard Errors assume that the covariance matrix of the errors is correctly specified.\n",
       "\"\"\""
      ]
     },
     "execution_count": 61,
     "metadata": {},
     "output_type": "execute_result"
    }
   ],
   "source": [
    "model = sm.OLS(data['Excess Returns'], data[['Mkt-RF', 'SMB', 'HML']])\n",
    "results = model.fit()\n",
    "results.summary()"
   ]
  },
  {
   "cell_type": "code",
   "execution_count": 62,
   "id": "06150296-a6a0-419e-af26-a081f45185a3",
   "metadata": {},
   "outputs": [
    {
     "name": "stderr",
     "output_type": "stream",
     "text": [
      "C:\\Users\\V806013\\AppData\\Local\\Temp\\4\\ipykernel_100652\\2950803465.py:1: SettingWithCopyWarning: \n",
      "A value is trying to be set on a copy of a slice from a DataFrame.\n",
      "Try using .loc[row_indexer,col_indexer] = value instead\n",
      "\n",
      "See the caveats in the documentation: https://pandas.pydata.org/pandas-docs/stable/user_guide/indexing.html#returning-a-view-versus-a-copy\n",
      "  data['Predict wo int'] = results.predict(data[['Mkt-RF', 'SMB', 'HML']])\n",
      "C:\\Users\\V806013\\AppData\\Local\\Temp\\4\\ipykernel_100652\\2950803465.py:2: SettingWithCopyWarning: \n",
      "A value is trying to be set on a copy of a slice from a DataFrame.\n",
      "Try using .loc[row_indexer,col_indexer] = value instead\n",
      "\n",
      "See the caveats in the documentation: https://pandas.pydata.org/pandas-docs/stable/user_guide/indexing.html#returning-a-view-versus-a-copy\n",
      "  data['Predict w int'] = results2.predict(data[['Const','Mkt-RF', 'SMB', 'HML']])\n"
     ]
    }
   ],
   "source": [
    "data['Predict wo int'] = results.predict(data[['Mkt-RF', 'SMB', 'HML']])\n",
    "data['Predict w int'] = results2.predict(data[['Const','Mkt-RF', 'SMB', 'HML']])"
   ]
  },
  {
   "cell_type": "code",
   "execution_count": 63,
   "id": "b0541aa0-0ae8-4358-8e20-e45f5ee5ba18",
   "metadata": {},
   "outputs": [
    {
     "data": {
      "text/plain": [
       "(0.7883910480897249, 1.305032040500066)"
      ]
     },
     "execution_count": 63,
     "metadata": {},
     "output_type": "execute_result"
    }
   ],
   "source": [
    "mas = mean_absolute_error(data['Excess Returns'], data['Predict wo int'])\n",
    "mse = mean_squared_error(data['Excess Returns'], data['Predict wo int'])\n",
    "mas, mse"
   ]
  },
  {
   "cell_type": "code",
   "execution_count": 69,
   "id": "36ea7bff-52fc-4b6b-881c-45674c13253c",
   "metadata": {},
   "outputs": [
    {
     "data": {
      "text/plain": [
       "1.3081516390032537"
      ]
     },
     "execution_count": 69,
     "metadata": {},
     "output_type": "execute_result"
    }
   ],
   "source": [
    "results.scale #MSE"
   ]
  },
  {
   "cell_type": "code",
   "execution_count": 67,
   "id": "0839a025-832b-48c9-8a66-68c00b535d05",
   "metadata": {},
   "outputs": [
    {
     "data": {
      "text/html": [
       "<table class=\"simpletable\">\n",
       "<tr>\n",
       "          <td>Model:</td>                 <td>OLS</td>       <td>Adj. R-squared (uncentered):</td>   <td>0.351</td>  \n",
       "</tr>\n",
       "<tr>\n",
       "    <td>Dependent Variable:</td>    <td>Excess Returns</td>              <td>AIC:</td>             <td>3910.9637</td>\n",
       "</tr>\n",
       "<tr>\n",
       "           <td>Date:</td>          <td>2024-04-04 10:02</td>             <td>BIC:</td>             <td>3926.3755</td>\n",
       "</tr>\n",
       "<tr>\n",
       "     <td>No. Observations:</td>          <td>1258</td>              <td>Log-Likelihood:</td>        <td>-1952.5</td> \n",
       "</tr>\n",
       "<tr>\n",
       "         <td>Df Model:</td>                <td>3</td>                <td>F-statistic:</td>           <td>227.6</td>  \n",
       "</tr>\n",
       "<tr>\n",
       "       <td>Df Residuals:</td>            <td>1255</td>            <td>Prob (F-statistic):</td>     <td>6.91e-118</td>\n",
       "</tr>\n",
       "<tr>\n",
       "  <td>R-squared (uncentered):</td>       <td>0.352</td>                 <td>Scale:</td>             <td>1.3082</td>  \n",
       "</tr>\n",
       "</table>\n",
       "<table class=\"simpletable\">\n",
       "<tr>\n",
       "     <td></td>     <th>Coef.</th>  <th>Std.Err.</th>    <th>t</th>     <th>P>|t|</th> <th>[0.025</th>  <th>0.975]</th> \n",
       "</tr>\n",
       "<tr>\n",
       "  <th>Mkt-RF</th> <td>1.0133</td>   <td>0.0411</td>  <td>24.6468</td> <td>0.0000</td> <td>0.9327</td>  <td>1.0940</td> \n",
       "</tr>\n",
       "<tr>\n",
       "  <th>SMB</th>    <td>-0.2589</td>  <td>0.0655</td>  <td>-3.9543</td> <td>0.0001</td> <td>-0.3873</td> <td>-0.1304</td>\n",
       "</tr>\n",
       "<tr>\n",
       "  <th>HML</th>    <td>-0.5551</td>  <td>0.0674</td>  <td>-8.2374</td> <td>0.0000</td> <td>-0.6874</td> <td>-0.4229</td>\n",
       "</tr>\n",
       "</table>\n",
       "<table class=\"simpletable\">\n",
       "<tr>\n",
       "     <td>Omnibus:</td>    <td>227.246</td>  <td>Durbin-Watson:</td>     <td>1.958</td> \n",
       "</tr>\n",
       "<tr>\n",
       "  <td>Prob(Omnibus):</td>  <td>0.000</td>  <td>Jarque-Bera (JB):</td> <td>3620.127</td>\n",
       "</tr>\n",
       "<tr>\n",
       "       <td>Skew:</td>      <td>0.319</td>      <td>Prob(JB):</td>       <td>0.000</td> \n",
       "</tr>\n",
       "<tr>\n",
       "     <td>Kurtosis:</td>   <td>11.286</td>   <td>Condition No.:</td>       <td>2</td>   \n",
       "</tr>\n",
       "</table><br/>\n",
       "Notes:<br/>\n",
       "[1] R² is computed without centering (uncentered) since the                 model does not contain a constant.<br/>\n",
       "[2] Standard Errors assume that the covariance matrix of the errors is correctly specified."
      ],
      "text/latex": [
       "\\begin{table}\n",
       "\\caption{Results: Ordinary least squares}\n",
       "\\label{}\n",
       "\\begin{center}\n",
       "\\begin{tabular}{llll}\n",
       "\\hline\n",
       "Model:                  & OLS              & Adj. R-squared (uncentered): & 0.351      \\\\\n",
       "Dependent Variable:     & Excess Returns   & AIC:                         & 3910.9637  \\\\\n",
       "Date:                   & 2024-04-04 10:02 & BIC:                         & 3926.3755  \\\\\n",
       "No. Observations:       & 1258             & Log-Likelihood:              & -1952.5    \\\\\n",
       "Df Model:               & 3                & F-statistic:                 & 227.6      \\\\\n",
       "Df Residuals:           & 1255             & Prob (F-statistic):          & 6.91e-118  \\\\\n",
       "R-squared (uncentered): & 0.352            & Scale:                       & 1.3082     \\\\\n",
       "\\hline\n",
       "\\end{tabular}\n",
       "\\end{center}\n",
       "\n",
       "\\begin{center}\n",
       "\\begin{tabular}{lrrrrrr}\n",
       "\\hline\n",
       "       &   Coef. & Std.Err. &       t & P$> |$t$|$ &  [0.025 &  0.975]  \\\\\n",
       "\\hline\n",
       "Mkt-RF &  1.0133 &   0.0411 & 24.6468 &      0.0000 &  0.9327 &  1.0940  \\\\\n",
       "SMB    & -0.2589 &   0.0655 & -3.9543 &      0.0001 & -0.3873 & -0.1304  \\\\\n",
       "HML    & -0.5551 &   0.0674 & -8.2374 &      0.0000 & -0.6874 & -0.4229  \\\\\n",
       "\\hline\n",
       "\\end{tabular}\n",
       "\\end{center}\n",
       "\n",
       "\\begin{center}\n",
       "\\begin{tabular}{llll}\n",
       "\\hline\n",
       "Omnibus:       & 227.246 & Durbin-Watson:    & 1.958     \\\\\n",
       "Prob(Omnibus): & 0.000   & Jarque-Bera (JB): & 3620.127  \\\\\n",
       "Skew:          & 0.319   & Prob(JB):         & 0.000     \\\\\n",
       "Kurtosis:      & 11.286  & Condition No.:    & 2         \\\\\n",
       "\\hline\n",
       "\\end{tabular}\n",
       "\\end{center}\n",
       "\\end{table}\n",
       "\\bigskip\n",
       "Notes: \\newline \n",
       "[1] R² is computed without centering (uncentered) since the                 model does not contain a constant. \\newline \n",
       "[2] Standard Errors assume that the covariance matrix of the errors is correctly specified."
      ],
      "text/plain": [
       "<class 'statsmodels.iolib.summary2.Summary'>\n",
       "\"\"\"\n",
       "                        Results: Ordinary least squares\n",
       "===============================================================================\n",
       "Model:                  OLS              Adj. R-squared (uncentered): 0.351    \n",
       "Dependent Variable:     Excess Returns   AIC:                         3910.9637\n",
       "Date:                   2024-04-04 10:02 BIC:                         3926.3755\n",
       "No. Observations:       1258             Log-Likelihood:              -1952.5  \n",
       "Df Model:               3                F-statistic:                 227.6    \n",
       "Df Residuals:           1255             Prob (F-statistic):          6.91e-118\n",
       "R-squared (uncentered): 0.352            Scale:                       1.3082   \n",
       "------------------------------------------------------------------------------------\n",
       "             Coef.       Std.Err.         t         P>|t|        [0.025       0.975]\n",
       "------------------------------------------------------------------------------------\n",
       "Mkt-RF       1.0133        0.0411      24.6468      0.0000       0.9327       1.0940\n",
       "SMB         -0.2589        0.0655      -3.9543      0.0001      -0.3873      -0.1304\n",
       "HML         -0.5551        0.0674      -8.2374      0.0000      -0.6874      -0.4229\n",
       "-------------------------------------------------------------------------------\n",
       "Omnibus:                 227.246           Durbin-Watson:              1.958   \n",
       "Prob(Omnibus):           0.000             Jarque-Bera (JB):           3620.127\n",
       "Skew:                    0.319             Prob(JB):                   0.000   \n",
       "Kurtosis:                11.286            Condition No.:              2       \n",
       "===============================================================================\n",
       "Notes:\n",
       "[1] R² is computed without centering (uncentered) since the\n",
       "model does not contain a constant.\n",
       "[2] Standard Errors assume that the covariance matrix of the errors is\n",
       "correctly specified.\n",
       "\"\"\""
      ]
     },
     "execution_count": 67,
     "metadata": {},
     "output_type": "execute_result"
    }
   ],
   "source": [
    "results.summary2()"
   ]
  },
  {
   "cell_type": "markdown",
   "id": "193f166e-15af-4e02-b1e5-a760b5dbd82e",
   "metadata": {},
   "source": [
    "**Coffee break until 10:15am EST**\n",
    "- when you're back from coffee, go ahead and import the packages and data from Logistic Regression file"
   ]
  },
  {
   "cell_type": "markdown",
   "id": "d5f23194-8750-4146-ab09-7550e9a3eca3",
   "metadata": {},
   "source": [
    "## Logistic Regression"
   ]
  },
  {
   "cell_type": "code",
   "execution_count": 75,
   "id": "1b5f5097-717d-4013-a45e-e9004933b714",
   "metadata": {},
   "outputs": [],
   "source": [
    "import os #package to access folders/files\n",
    "\n",
    "#data manipulation\n",
    "import numpy as np #array/matrix manipulation\n",
    "import pandas as pd\n",
    "\n",
    "#Visualization packages\n",
    "import matplotlib.pyplot as plt\n",
    "import seaborn as sns\n",
    "\n",
    "#ML - Forecasting Models\n",
    "from sklearn.linear_model import LogisticRegression\n",
    "from scipy.special import expit\n",
    "\n",
    "#metrics to determine how good the model is\n",
    "from sklearn.metrics import confusion_matrix\n",
    "from sklearn.metrics import classification_report\n",
    "from sklearn.metrics import roc_curve, auc"
   ]
  },
  {
   "cell_type": "markdown",
   "id": "c2b50cfb-e0fb-45cc-be19-5124e499fe53",
   "metadata": {},
   "source": [
    "### Intuition behind the sigmoid function"
   ]
  },
  {
   "cell_type": "code",
   "execution_count": 93,
   "id": "4bd4454d-850b-4b8a-a219-af2dfd7333fa",
   "metadata": {},
   "outputs": [
    {
     "data": {
      "text/plain": [
       "[<matplotlib.lines.Line2D at 0x1bea200ec10>]"
      ]
     },
     "execution_count": 93,
     "metadata": {},
     "output_type": "execute_result"
    },
    {
     "data": {
      "image/png": "[encoded data removed]",
      "text/plain": [
       "<Figure size 640x480 with 1 Axes>"
      ]
     },
     "metadata": {},
     "output_type": "display_data"
    }
   ],
   "source": [
    "x = np.arange(-10,11,1)\n",
    "y = 1 / (1 + np.exp(-x))\n",
    "y2 = 1 / (1 + np.exp(-x * 0.5 + 2))\n",
    "y3 = expit(0.5 * x - 2) # same as y2\n",
    "plt.plot(x, y)\n",
    "plt.plot(x, y2)"
   ]
  },
  {
   "cell_type": "markdown",
   "id": "c10eb1b7-73a7-4bef-b57b-45412e03727b",
   "metadata": {},
   "source": [
    "## Log Regression on Exams Data Set"
   ]
  },
  {
   "cell_type": "code",
   "execution_count": 73,
   "id": "a0af7e46-6f87-4d66-9e78-bac31a476d44",
   "metadata": {},
   "outputs": [],
   "source": [
    "df = pd.read_csv(\"ExData/score.csv\")"
   ]
  },
  {
   "cell_type": "code",
   "execution_count": 98,
   "id": "4d64b884-2bc8-4986-8b90-1e36865506da",
   "metadata": {},
   "outputs": [],
   "source": [
    "#Add a column for the Outcome (if score >=50, 1, score<50, 0)\n",
    "# def createOutcome(x):\n",
    "#     if x >=50:\n",
    "#         return 1\n",
    "#     else:\n",
    "#         return 0\n",
    "df['Outcome'] = df['Scores'].apply(lambda x: 1 if x >=50  else 0)\n",
    "# df.sort_values('Scores')"
   ]
  },
  {
   "cell_type": "code",
   "execution_count": 102,
   "id": "ba6e29e5-1e74-4442-8b88-65a0a4eb4f18",
   "metadata": {},
   "outputs": [
    {
     "data": {
      "image/png": "[encoded data removed]",
      "text/plain": [
       "<Figure size 640x480 with 1 Axes>"
      ]
     },
     "metadata": {},
     "output_type": "display_data"
    }
   ],
   "source": [
    "plt.scatter(df['Hours'], df['Outcome'])\n",
    "plt.vlines(5, ymin=0, ymax=1, color='r')\n",
    "plt.vlines(5.25, ymin=0, ymax=1, color='b')\n",
    "plt.show()"
   ]
  },
  {
   "cell_type": "code",
   "execution_count": 107,
   "id": "d73c395a-8fc5-45d2-a063-f9237e91baa5",
   "metadata": {},
   "outputs": [
    {
     "data": {
      "text/plain": [
       "pandas.core.series.Series"
      ]
     },
     "execution_count": 107,
     "metadata": {},
     "output_type": "execute_result"
    }
   ],
   "source": [
    "type(df['Hours']) #1-d array, series"
   ]
  },
  {
   "cell_type": "code",
   "execution_count": 106,
   "id": "0473b42c-c448-4cf0-ae5f-57fc0b591204",
   "metadata": {},
   "outputs": [
    {
     "data": {
      "text/plain": [
       "pandas.core.frame.DataFrame"
      ]
     },
     "execution_count": 106,
     "metadata": {},
     "output_type": "execute_result"
    }
   ],
   "source": [
    "type(df[['Hours']]) #2-d array, dataframe"
   ]
  },
  {
   "cell_type": "code",
   "execution_count": 108,
   "id": "2c91b78a-1471-4301-894d-21f45927df17",
   "metadata": {},
   "outputs": [],
   "source": [
    "X = df[['Hours']]  #X variables HAS to be a 2-d matrix, so use [[]]\n",
    "y = df['Outcome']"
   ]
  },
  {
   "cell_type": "code",
   "execution_count": 111,
   "id": "7091ca73-6b2e-4bef-bf7b-1ae4fe32c30b",
   "metadata": {},
   "outputs": [
    {
     "data": {
      "text/html": [
       "<style>#sk-container-id-2 {color: black;}#sk-container-id-2 pre{padding: 0;}#sk-container-id-2 div.sk-toggleable {background-color: white;}#sk-container-id-2 label.sk-toggleable__label {cursor: pointer;display: block;width: 100%;margin-bottom: 0;padding: 0.3em;box-sizing: border-box;text-align: center;}#sk-container-id-2 label.sk-toggleable__label-arrow:before {content: \"▸\";float: left;margin-right: 0.25em;color: #696969;}#sk-container-id-2 label.sk-toggleable__label-arrow:hover:before {color: black;}#sk-container-id-2 div.sk-estimator:hover label.sk-toggleable__label-arrow:before {color: black;}#sk-container-id-2 div.sk-toggleable__content {max-height: 0;max-width: 0;overflow: hidden;text-align: left;background-color: #f0f8ff;}#sk-container-id-2 div.sk-toggleable__content pre {margin: 0.2em;color: black;border-radius: 0.25em;background-color: #f0f8ff;}#sk-container-id-2 input.sk-toggleable__control:checked~div.sk-toggleable__content {max-height: 200px;max-width: 100%;overflow: auto;}#sk-container-id-2 input.sk-toggleable__control:checked~label.sk-toggleable__label-arrow:before {content: \"▾\";}#sk-container-id-2 div.sk-estimator input.sk-toggleable__control:checked~label.sk-toggleable__label {background-color: #d4ebff;}#sk-container-id-2 div.sk-label input.sk-toggleable__control:checked~label.sk-toggleable__label {background-color: #d4ebff;}#sk-container-id-2 input.sk-hidden--visually {border: 0;clip: rect(1px 1px 1px 1px);clip: rect(1px, 1px, 1px, 1px);height: 1px;margin: -1px;overflow: hidden;padding: 0;position: absolute;width: 1px;}#sk-container-id-2 div.sk-estimator {font-family: monospace;background-color: #f0f8ff;border: 1px dotted black;border-radius: 0.25em;box-sizing: border-box;margin-bottom: 0.5em;}#sk-container-id-2 div.sk-estimator:hover {background-color: #d4ebff;}#sk-container-id-2 div.sk-parallel-item::after {content: \"\";width: 100%;border-bottom: 1px solid gray;flex-grow: 1;}#sk-container-id-2 div.sk-label:hover label.sk-toggleable__label {background-color: #d4ebff;}#sk-container-id-2 div.sk-serial::before {content: \"\";position: absolute;border-left: 1px solid gray;box-sizing: border-box;top: 0;bottom: 0;left: 50%;z-index: 0;}#sk-container-id-2 div.sk-serial {display: flex;flex-direction: column;align-items: center;background-color: white;padding-right: 0.2em;padding-left: 0.2em;position: relative;}#sk-container-id-2 div.sk-item {position: relative;z-index: 1;}#sk-container-id-2 div.sk-parallel {display: flex;align-items: stretch;justify-content: center;background-color: white;position: relative;}#sk-container-id-2 div.sk-item::before, #sk-container-id-2 div.sk-parallel-item::before {content: \"\";position: absolute;border-left: 1px solid gray;box-sizing: border-box;top: 0;bottom: 0;left: 50%;z-index: -1;}#sk-container-id-2 div.sk-parallel-item {display: flex;flex-direction: column;z-index: 1;position: relative;background-color: white;}#sk-container-id-2 div.sk-parallel-item:first-child::after {align-self: flex-end;width: 50%;}#sk-container-id-2 div.sk-parallel-item:last-child::after {align-self: flex-start;width: 50%;}#sk-container-id-2 div.sk-parallel-item:only-child::after {width: 0;}#sk-container-id-2 div.sk-dashed-wrapped {border: 1px dashed gray;margin: 0 0.4em 0.5em 0.4em;box-sizing: border-box;padding-bottom: 0.4em;background-color: white;}#sk-container-id-2 div.sk-label label {font-family: monospace;font-weight: bold;display: inline-block;line-height: 1.2em;}#sk-container-id-2 div.sk-label-container {text-align: center;}#sk-container-id-2 div.sk-container {/* jupyter's `normalize.less` sets `[hidden] { display: none; }` but bootstrap.min.css set `[hidden] { display: none !important; }` so we also need the `!important` here to be able to override the default hidden behavior on the sphinx rendered scikit-learn.org. See: https://github.com/scikit-learn/scikit-learn/issues/21755 */display: inline-block !important;position: relative;}#sk-container-id-2 div.sk-text-repr-fallback {display: none;}</style><div id=\"sk-container-id-2\" class=\"sk-top-container\"><div class=\"sk-text-repr-fallback\"><pre>LogisticRegression(random_state=0)</pre><b>In a Jupyter environment, please rerun this cell to show the HTML representation or trust the notebook. <br />On GitHub, the HTML representation is unable to render, please try loading this page with nbviewer.org.</b></div><div class=\"sk-container\" hidden><div class=\"sk-item\"><div class=\"sk-estimator sk-toggleable\"><input class=\"sk-toggleable__control sk-hidden--visually\" id=\"sk-estimator-id-2\" type=\"checkbox\" checked><label for=\"sk-estimator-id-2\" class=\"sk-toggleable__label sk-toggleable__label-arrow\">LogisticRegression</label><div class=\"sk-toggleable__content\"><pre>LogisticRegression(random_state=0)</pre></div></div></div></div></div>"
      ],
      "text/plain": [
       "LogisticRegression(random_state=0)"
      ]
     },
     "execution_count": 111,
     "metadata": {},
     "output_type": "execute_result"
    }
   ],
   "source": [
    "clf = LogisticRegression(random_state=0)\n",
    "    #clf is short for classifier model, you can call this what you want, e.g. model\n",
    "clf.fit(X, y)"
   ]
  },
  {
   "cell_type": "code",
   "execution_count": 112,
   "id": "037bb6fa-71a6-479f-958a-a8283628f4b6",
   "metadata": {},
   "outputs": [
    {
     "data": {
      "text/plain": [
       "(array([[1.13737908]]), array([-5.50079133]))"
      ]
     },
     "execution_count": 112,
     "metadata": {},
     "output_type": "execute_result"
    }
   ],
   "source": [
    "clf.coef_, clf.intercept_ # beta1, beta0"
   ]
  },
  {
   "cell_type": "code",
   "execution_count": 135,
   "id": "22dd4684-8d6b-487c-9f74-9f466168610e",
   "metadata": {},
   "outputs": [
    {
     "data": {
      "text/html": [
       "<div>\n",
       "<style scoped>\n",
       "    .dataframe tbody tr th:only-of-type {\n",
       "        vertical-align: middle;\n",
       "    }\n",
       "\n",
       "    .dataframe tbody tr th {\n",
       "        vertical-align: top;\n",
       "    }\n",
       "\n",
       "    .dataframe thead th {\n",
       "        text-align: right;\n",
       "    }\n",
       "</style>\n",
       "<table border=\"1\" class=\"dataframe\">\n",
       "  <thead>\n",
       "    <tr style=\"text-align: right;\">\n",
       "      <th></th>\n",
       "      <th>Hours</th>\n",
       "      <th>Scores</th>\n",
       "      <th>Outcome</th>\n",
       "      <th>Probability</th>\n",
       "      <th>Predict</th>\n",
       "      <th>Predict 60% Thres</th>\n",
       "      <th>Predict 80% Thres</th>\n",
       "    </tr>\n",
       "  </thead>\n",
       "  <tbody>\n",
       "    <tr>\n",
       "      <th>0</th>\n",
       "      <td>2.5</td>\n",
       "      <td>21</td>\n",
       "      <td>0</td>\n",
       "      <td>0.065538</td>\n",
       "      <td>0</td>\n",
       "      <td>0</td>\n",
       "      <td>0</td>\n",
       "    </tr>\n",
       "    <tr>\n",
       "      <th>1</th>\n",
       "      <td>5.1</td>\n",
       "      <td>47</td>\n",
       "      <td>0</td>\n",
       "      <td>0.574404</td>\n",
       "      <td>1</td>\n",
       "      <td>0</td>\n",
       "      <td>0</td>\n",
       "    </tr>\n",
       "    <tr>\n",
       "      <th>2</th>\n",
       "      <td>3.2</td>\n",
       "      <td>27</td>\n",
       "      <td>0</td>\n",
       "      <td>0.134566</td>\n",
       "      <td>0</td>\n",
       "      <td>0</td>\n",
       "      <td>0</td>\n",
       "    </tr>\n",
       "    <tr>\n",
       "      <th>3</th>\n",
       "      <td>8.5</td>\n",
       "      <td>75</td>\n",
       "      <td>1</td>\n",
       "      <td>0.984737</td>\n",
       "      <td>1</td>\n",
       "      <td>1</td>\n",
       "      <td>1</td>\n",
       "    </tr>\n",
       "    <tr>\n",
       "      <th>4</th>\n",
       "      <td>3.5</td>\n",
       "      <td>30</td>\n",
       "      <td>0</td>\n",
       "      <td>0.179467</td>\n",
       "      <td>0</td>\n",
       "      <td>0</td>\n",
       "      <td>0</td>\n",
       "    </tr>\n",
       "  </tbody>\n",
       "</table>\n",
       "</div>"
      ],
      "text/plain": [
       "   Hours  Scores  Outcome  Probability  Predict  Predict 60% Thres  \\\n",
       "0    2.5      21        0     0.065538        0                  0   \n",
       "1    5.1      47        0     0.574404        1                  0   \n",
       "2    3.2      27        0     0.134566        0                  0   \n",
       "3    8.5      75        1     0.984737        1                  1   \n",
       "4    3.5      30        0     0.179467        0                  0   \n",
       "\n",
       "   Predict 80% Thres  \n",
       "0                  0  \n",
       "1                  0  \n",
       "2                  0  \n",
       "3                  1  \n",
       "4                  0  "
      ]
     },
     "execution_count": 135,
     "metadata": {},
     "output_type": "execute_result"
    }
   ],
   "source": [
    "prob = expit(clf.intercept_ + clf.coef_ * X)\n",
    "df['Probability'] = prob\n",
    "df['Predict'] = clf.predict(X) #categorizes outcomes as a 1 if the probability is >=50%\n",
    "df['Predict 60% Thres'] = df['Probability'].apply(lambda x: 1 if x >=0.6  else 0)\n",
    "df['Predict 80% Thres'] = df['Probability'].apply(lambda x: 1 if x >=0.8  else 0)\n",
    "df.head()"
   ]
  },
  {
   "cell_type": "code",
   "execution_count": 128,
   "id": "0f082362-dd56-4c87-b015-08c82340de91",
   "metadata": {},
   "outputs": [
    {
     "name": "stderr",
     "output_type": "stream",
     "text": [
      "c:\\users\\v806013\\ds\\tools\\python3.8\\latest\\lib\\site-packages\\sklearn\\base.py:465: UserWarning: X does not have valid feature names, but LogisticRegression was fitted with feature names\n",
      "  warnings.warn(\n"
     ]
    },
    {
     "data": {
      "text/plain": [
       "array([1, 0, 0, 1, 1], dtype=int64)"
      ]
     },
     "execution_count": 128,
     "metadata": {},
     "output_type": "execute_result"
    }
   ],
   "source": [
    "newStudent = np.array([5, 4.25, 1.15, 9.9, 7.7]).reshape(-1,1)\n",
    "clf.predict(newStudent)"
   ]
  },
  {
   "cell_type": "code",
   "execution_count": 122,
   "id": "61cc8094-6fbe-4a90-b942-b8b550422bc7",
   "metadata": {},
   "outputs": [
    {
     "data": {
      "image/png": "[encoded data removed]",
      "text/plain": [
       "<Figure size 640x480 with 1 Axes>"
      ]
     },
     "metadata": {},
     "output_type": "display_data"
    }
   ],
   "source": [
    "#Sigmoid probability curve\n",
    "X_axis_values = np.linspace(df['Hours'].min(), df['Hours'].max(), 20)\n",
    "y_sig = expit(X_axis_values * clf.coef_ + clf.intercept_).ravel()\n",
    "\n",
    "#Actuals vs predictions\n",
    "plt.scatter(df['Hours'], df['Outcome'], color='darkblue', marker='o')\n",
    "plt.scatter(df['Hours'], df['Predict'], color='orange', marker='*', alpha=0.9) #predictions\n",
    "\n",
    "#50% probability cutoff\n",
    "plt.hlines(0.5, xmin=1, xmax=9, color='g', linestyles='--')\n",
    "\n",
    "plt.plot(X_axis_values, y_sig)\n",
    "plt.show()"
   ]
  },
  {
   "cell_type": "markdown",
   "id": "20595574-ec7b-4eea-8d08-b990d461e8c0",
   "metadata": {},
   "source": [
    "## Classification Metrics to Check Model Performance\n",
    "- there are various metrics to figure out how \"accurate\" the model is\n",
    "- confusion matrix --> shows you the predictions split up between True Positive, False Pos, True Neg, False Neg\n",
    "- accuracy score\n",
    "- precision\n",
    "- recall\n",
    "- f1 score"
   ]
  },
  {
   "cell_type": "code",
   "execution_count": 129,
   "id": "760db669-e1b1-4fea-b0a5-d4a77e334b61",
   "metadata": {},
   "outputs": [
    {
     "data": {
      "text/plain": [
       "array([[13,  1],\n",
       "       [ 2, 11]], dtype=int64)"
      ]
     },
     "execution_count": 129,
     "metadata": {},
     "output_type": "execute_result"
    }
   ],
   "source": [
    "confusion_matrix(df['Outcome'],df['Predict'])"
   ]
  },
  {
   "cell_type": "code",
   "execution_count": 130,
   "id": "e5a68c5e-d43f-4cfb-85a0-98f0a9038c67",
   "metadata": {},
   "outputs": [
    {
     "data": {
      "text/plain": [
       "0.8888888888888888"
      ]
     },
     "execution_count": 130,
     "metadata": {},
     "output_type": "execute_result"
    }
   ],
   "source": [
    "#accuracy\n",
    "(13 + 11) / (13 + 1 + 2 + 11)"
   ]
  },
  {
   "cell_type": "code",
   "execution_count": 131,
   "id": "7a333bd7-f956-44e7-8ac7-97cd87213fbb",
   "metadata": {},
   "outputs": [
    {
     "data": {
      "text/plain": [
       "0.8888888888888888"
      ]
     },
     "execution_count": 131,
     "metadata": {},
     "output_type": "execute_result"
    }
   ],
   "source": [
    "clf.score(X, y)"
   ]
  },
  {
   "cell_type": "code",
   "execution_count": 132,
   "id": "a9912d7b-8397-421d-a624-fae4ad5cd292",
   "metadata": {},
   "outputs": [
    {
     "data": {
      "text/plain": [
       "(0.8461538461538461, 0.9166666666666666)"
      ]
     },
     "execution_count": 132,
     "metadata": {},
     "output_type": "execute_result"
    }
   ],
   "source": [
    "recall = 11 / (11 + 2)\n",
    "precision = (11) / (11+1)\n",
    "recall, precision"
   ]
  },
  {
   "cell_type": "code",
   "execution_count": 134,
   "id": "014aa20a-5dfa-40eb-bfda-63db1e0f3b2d",
   "metadata": {},
   "outputs": [
    {
     "name": "stdout",
     "output_type": "stream",
     "text": [
      "              precision    recall  f1-score   support\n",
      "\n",
      "           0       0.87      0.93      0.90        14\n",
      "           1       0.92      0.85      0.88        13\n",
      "\n",
      "    accuracy                           0.89        27\n",
      "   macro avg       0.89      0.89      0.89        27\n",
      "weighted avg       0.89      0.89      0.89        27\n",
      "\n"
     ]
    }
   ],
   "source": [
    "print(classification_report(df['Outcome'], df['Predict']))"
   ]
  },
  {
   "cell_type": "code",
   "execution_count": 136,
   "id": "ee2af9bf-5b26-4aef-999b-cefa39604b43",
   "metadata": {},
   "outputs": [
    {
     "name": "stdout",
     "output_type": "stream",
     "text": [
      "              precision    recall  f1-score   support\n",
      "\n",
      "           0       0.78      1.00      0.88        14\n",
      "           1       1.00      0.69      0.82        13\n",
      "\n",
      "    accuracy                           0.85        27\n",
      "   macro avg       0.89      0.85      0.85        27\n",
      "weighted avg       0.88      0.85      0.85        27\n",
      "\n"
     ]
    }
   ],
   "source": [
    "print(classification_report(df['Outcome'], df['Predict 80% Thres']))"
   ]
  },
  {
   "cell_type": "code",
   "execution_count": 144,
   "id": "1ba59db1-db71-49c7-8f67-6387dec37fda",
   "metadata": {},
   "outputs": [
    {
     "data": {
      "text/html": [
       "<div>\n",
       "<style scoped>\n",
       "    .dataframe tbody tr th:only-of-type {\n",
       "        vertical-align: middle;\n",
       "    }\n",
       "\n",
       "    .dataframe tbody tr th {\n",
       "        vertical-align: top;\n",
       "    }\n",
       "\n",
       "    .dataframe thead th {\n",
       "        text-align: right;\n",
       "    }\n",
       "</style>\n",
       "<table border=\"1\" class=\"dataframe\">\n",
       "  <thead>\n",
       "    <tr style=\"text-align: right;\">\n",
       "      <th></th>\n",
       "      <th>Fail Prob</th>\n",
       "      <th>Pass Prob</th>\n",
       "    </tr>\n",
       "  </thead>\n",
       "  <tbody>\n",
       "    <tr>\n",
       "      <th>0</th>\n",
       "      <td>0.934462</td>\n",
       "      <td>0.065538</td>\n",
       "    </tr>\n",
       "    <tr>\n",
       "      <th>1</th>\n",
       "      <td>0.425596</td>\n",
       "      <td>0.574404</td>\n",
       "    </tr>\n",
       "    <tr>\n",
       "      <th>2</th>\n",
       "      <td>0.865434</td>\n",
       "      <td>0.134566</td>\n",
       "    </tr>\n",
       "    <tr>\n",
       "      <th>3</th>\n",
       "      <td>0.015263</td>\n",
       "      <td>0.984737</td>\n",
       "    </tr>\n",
       "    <tr>\n",
       "      <th>4</th>\n",
       "      <td>0.820533</td>\n",
       "      <td>0.179467</td>\n",
       "    </tr>\n",
       "  </tbody>\n",
       "</table>\n",
       "</div>"
      ],
      "text/plain": [
       "   Fail Prob  Pass Prob\n",
       "0   0.934462   0.065538\n",
       "1   0.425596   0.574404\n",
       "2   0.865434   0.134566\n",
       "3   0.015263   0.984737\n",
       "4   0.820533   0.179467"
      ]
     },
     "execution_count": 144,
     "metadata": {},
     "output_type": "execute_result"
    }
   ],
   "source": [
    "#Extracting probabilities from the model\n",
    "#you can use the expit function, or their built in function\n",
    "prob = expit(clf.intercept_ + clf.coef_ * X)\n",
    "prob_table = pd.DataFrame(clf.predict_proba(X))\n",
    "prob_table.columns = ['Fail Prob', 'Pass Prob']\n",
    "prob_table.head()\n",
    "#[:, 0] #column 0 or column 1\n",
    "\n",
    "# df.iloc[:, 2]"
   ]
  },
  {
   "cell_type": "markdown",
   "id": "2c36cb23-0346-4b4b-baa5-8988af9332cd",
   "metadata": {},
   "source": [
    "## Calculating the AUC"
   ]
  },
  {
   "cell_type": "code",
   "execution_count": 146,
   "id": "227ae24d-158c-4f36-8c54-b76dd41cdee2",
   "metadata": {},
   "outputs": [
    {
     "data": {
      "text/plain": [
       "Index(['Hours', 'Scores', 'Outcome', 'Probability', 'Predict',\n",
       "       'Predict 60% Thres', 'Predict 80% Thres'],\n",
       "      dtype='object')"
      ]
     },
     "execution_count": 146,
     "metadata": {},
     "output_type": "execute_result"
    }
   ],
   "source": [
    "df.columns"
   ]
  },
  {
   "cell_type": "code",
   "execution_count": 148,
   "id": "09bd476e-6fcb-43fa-86a7-4197baf901fd",
   "metadata": {},
   "outputs": [
    {
     "data": {
      "text/plain": [
       "0.9395604395604397"
      ]
     },
     "execution_count": 148,
     "metadata": {},
     "output_type": "execute_result"
    }
   ],
   "source": [
    "fpr, tpr, thresholds = roc_curve(df['Outcome'], df['Probability']) #y, y_prob of 1s\n",
    "clf_auc = auc(fpr, tpr)\n",
    "clf_auc"
   ]
  },
  {
   "cell_type": "markdown",
   "id": "b14739c3-7f7d-46d7-b11e-3862a7f01bc3",
   "metadata": {},
   "source": [
    "## Lunch Break until 1pm EST\n",
    "- codes in the chat and will also post on github during lunch\n",
    "\n",
    "Q&A: how to remember which metric is which\n",
    "- **P**recision for **P**redicted values (TP as % of all *predicted* positives)\n",
    "- **R**ecall for **R**eal values (TP as % of all *real/actual* positives) <-- also known as TPR - True Positive Rate\n",
    "- **A**ccuracy for **A**ll correct predictions (both TP and TN) as % of **A**ll observations"
   ]
  },
  {
   "cell_type": "markdown",
   "id": "1d536e8c-a381-400a-983d-e89a26723653",
   "metadata": {},
   "source": [
    "## Logistic Regression - Car Purchase Dataset"
   ]
  },
  {
   "cell_type": "code",
   "execution_count": 159,
   "id": "4d7eee52-eb1d-4170-84f2-aac7b354d356",
   "metadata": {
    "scrolled": true
   },
   "outputs": [
    {
     "data": {
      "text/plain": [
       "Purchased\n",
       "0    0.598\n",
       "1    0.402\n",
       "Name: proportion, dtype: float64"
      ]
     },
     "execution_count": 159,
     "metadata": {},
     "output_type": "execute_result"
    }
   ],
   "source": [
    "df = pd.read_csv(\"ExData/car_data.csv\", index_col=['User ID'])\n",
    "df['Purchased'].value_counts(normalize=True) #show as a %"
   ]
  },
  {
   "cell_type": "code",
   "execution_count": 155,
   "id": "4d18ebdc-d09f-4a48-892e-f76858ef218c",
   "metadata": {},
   "outputs": [
    {
     "data": {
      "text/plain": [
       "Purchased  Gender\n",
       "0          Male      0.301\n",
       "           Female    0.297\n",
       "1          Female    0.219\n",
       "           Male      0.183\n",
       "Name: proportion, dtype: float64"
      ]
     },
     "execution_count": 155,
     "metadata": {},
     "output_type": "execute_result"
    }
   ],
   "source": [
    "df[['Purchased', 'Gender']].value_counts(normalize=True)"
   ]
  },
  {
   "cell_type": "code",
   "execution_count": 160,
   "id": "5a306f41-0c51-4e6b-9cad-7b2afec1dc63",
   "metadata": {},
   "outputs": [
    {
     "data": {
      "text/html": [
       "<div>\n",
       "<style scoped>\n",
       "    .dataframe tbody tr th:only-of-type {\n",
       "        vertical-align: middle;\n",
       "    }\n",
       "\n",
       "    .dataframe tbody tr th {\n",
       "        vertical-align: top;\n",
       "    }\n",
       "\n",
       "    .dataframe thead th {\n",
       "        text-align: right;\n",
       "    }\n",
       "</style>\n",
       "<table border=\"1\" class=\"dataframe\">\n",
       "  <thead>\n",
       "    <tr style=\"text-align: right;\">\n",
       "      <th></th>\n",
       "      <th>Age</th>\n",
       "      <th>AnnualSalary</th>\n",
       "      <th>Purchased</th>\n",
       "    </tr>\n",
       "  </thead>\n",
       "  <tbody>\n",
       "    <tr>\n",
       "      <th>count</th>\n",
       "      <td>1000.000000</td>\n",
       "      <td>1000.000000</td>\n",
       "      <td>1000.000000</td>\n",
       "    </tr>\n",
       "    <tr>\n",
       "      <th>mean</th>\n",
       "      <td>40.106000</td>\n",
       "      <td>72689.000000</td>\n",
       "      <td>0.402000</td>\n",
       "    </tr>\n",
       "    <tr>\n",
       "      <th>std</th>\n",
       "      <td>10.707073</td>\n",
       "      <td>34488.341867</td>\n",
       "      <td>0.490547</td>\n",
       "    </tr>\n",
       "    <tr>\n",
       "      <th>min</th>\n",
       "      <td>18.000000</td>\n",
       "      <td>15000.000000</td>\n",
       "      <td>0.000000</td>\n",
       "    </tr>\n",
       "    <tr>\n",
       "      <th>25%</th>\n",
       "      <td>32.000000</td>\n",
       "      <td>46375.000000</td>\n",
       "      <td>0.000000</td>\n",
       "    </tr>\n",
       "    <tr>\n",
       "      <th>50%</th>\n",
       "      <td>40.000000</td>\n",
       "      <td>72000.000000</td>\n",
       "      <td>0.000000</td>\n",
       "    </tr>\n",
       "    <tr>\n",
       "      <th>75%</th>\n",
       "      <td>48.000000</td>\n",
       "      <td>90000.000000</td>\n",
       "      <td>1.000000</td>\n",
       "    </tr>\n",
       "    <tr>\n",
       "      <th>max</th>\n",
       "      <td>63.000000</td>\n",
       "      <td>152500.000000</td>\n",
       "      <td>1.000000</td>\n",
       "    </tr>\n",
       "  </tbody>\n",
       "</table>\n",
       "</div>"
      ],
      "text/plain": [
       "               Age   AnnualSalary    Purchased\n",
       "count  1000.000000    1000.000000  1000.000000\n",
       "mean     40.106000   72689.000000     0.402000\n",
       "std      10.707073   34488.341867     0.490547\n",
       "min      18.000000   15000.000000     0.000000\n",
       "25%      32.000000   46375.000000     0.000000\n",
       "50%      40.000000   72000.000000     0.000000\n",
       "75%      48.000000   90000.000000     1.000000\n",
       "max      63.000000  152500.000000     1.000000"
      ]
     },
     "execution_count": 160,
     "metadata": {},
     "output_type": "execute_result"
    }
   ],
   "source": [
    "df.describe()"
   ]
  },
  {
   "cell_type": "code",
   "execution_count": 163,
   "id": "d5179c39-df83-4d9f-b553-2d209c7ee428",
   "metadata": {},
   "outputs": [
    {
     "data": {
      "text/html": [
       "<div>\n",
       "<style scoped>\n",
       "    .dataframe tbody tr th:only-of-type {\n",
       "        vertical-align: middle;\n",
       "    }\n",
       "\n",
       "    .dataframe tbody tr th {\n",
       "        vertical-align: top;\n",
       "    }\n",
       "\n",
       "    .dataframe thead th {\n",
       "        text-align: right;\n",
       "    }\n",
       "</style>\n",
       "<table border=\"1\" class=\"dataframe\">\n",
       "  <thead>\n",
       "    <tr style=\"text-align: right;\">\n",
       "      <th></th>\n",
       "      <th>Age</th>\n",
       "      <th>AnnualSalary</th>\n",
       "      <th>Purchased</th>\n",
       "    </tr>\n",
       "  </thead>\n",
       "  <tbody>\n",
       "    <tr>\n",
       "      <th>Age</th>\n",
       "      <td>1.000000</td>\n",
       "      <td>0.166042</td>\n",
       "      <td>0.616036</td>\n",
       "    </tr>\n",
       "    <tr>\n",
       "      <th>AnnualSalary</th>\n",
       "      <td>0.166042</td>\n",
       "      <td>1.000000</td>\n",
       "      <td>0.364974</td>\n",
       "    </tr>\n",
       "    <tr>\n",
       "      <th>Purchased</th>\n",
       "      <td>0.616036</td>\n",
       "      <td>0.364974</td>\n",
       "      <td>1.000000</td>\n",
       "    </tr>\n",
       "  </tbody>\n",
       "</table>\n",
       "</div>"
      ],
      "text/plain": [
       "                   Age  AnnualSalary  Purchased\n",
       "Age           1.000000      0.166042   0.616036\n",
       "AnnualSalary  0.166042      1.000000   0.364974\n",
       "Purchased     0.616036      0.364974   1.000000"
      ]
     },
     "execution_count": 163,
     "metadata": {},
     "output_type": "execute_result"
    }
   ],
   "source": [
    "df[['Age','AnnualSalary','Purchased']].corr()"
   ]
  },
  {
   "cell_type": "code",
   "execution_count": 161,
   "id": "251dd56c-3446-4455-9908-6cfb10bb3dc8",
   "metadata": {},
   "outputs": [
    {
     "data": {
      "text/plain": [
       "<seaborn.axisgrid.PairGrid at 0x1bea1b06cd0>"
      ]
     },
     "execution_count": 161,
     "metadata": {},
     "output_type": "execute_result"
    },
    {
     "data": {
      "image/png": "[encoded data removed]",
      "text/plain": [
       "<Figure size 582.986x500 with 6 Axes>"
      ]
     },
     "metadata": {},
     "output_type": "display_data"
    }
   ],
   "source": [
    "# sns.pairplot(df[['Age', 'AnnualSalary']])\n",
    "sns.pairplot(df, hue='Purchased')"
   ]
  },
  {
   "cell_type": "code",
   "execution_count": 164,
   "id": "bdb7133c-f3aa-4306-98e5-98aae3da4edf",
   "metadata": {},
   "outputs": [
    {
     "data": {
      "text/html": [
       "<style>#sk-container-id-3 {color: black;}#sk-container-id-3 pre{padding: 0;}#sk-container-id-3 div.sk-toggleable {background-color: white;}#sk-container-id-3 label.sk-toggleable__label {cursor: pointer;display: block;width: 100%;margin-bottom: 0;padding: 0.3em;box-sizing: border-box;text-align: center;}#sk-container-id-3 label.sk-toggleable__label-arrow:before {content: \"▸\";float: left;margin-right: 0.25em;color: #696969;}#sk-container-id-3 label.sk-toggleable__label-arrow:hover:before {color: black;}#sk-container-id-3 div.sk-estimator:hover label.sk-toggleable__label-arrow:before {color: black;}#sk-container-id-3 div.sk-toggleable__content {max-height: 0;max-width: 0;overflow: hidden;text-align: left;background-color: #f0f8ff;}#sk-container-id-3 div.sk-toggleable__content pre {margin: 0.2em;color: black;border-radius: 0.25em;background-color: #f0f8ff;}#sk-container-id-3 input.sk-toggleable__control:checked~div.sk-toggleable__content {max-height: 200px;max-width: 100%;overflow: auto;}#sk-container-id-3 input.sk-toggleable__control:checked~label.sk-toggleable__label-arrow:before {content: \"▾\";}#sk-container-id-3 div.sk-estimator input.sk-toggleable__control:checked~label.sk-toggleable__label {background-color: #d4ebff;}#sk-container-id-3 div.sk-label input.sk-toggleable__control:checked~label.sk-toggleable__label {background-color: #d4ebff;}#sk-container-id-3 input.sk-hidden--visually {border: 0;clip: rect(1px 1px 1px 1px);clip: rect(1px, 1px, 1px, 1px);height: 1px;margin: -1px;overflow: hidden;padding: 0;position: absolute;width: 1px;}#sk-container-id-3 div.sk-estimator {font-family: monospace;background-color: #f0f8ff;border: 1px dotted black;border-radius: 0.25em;box-sizing: border-box;margin-bottom: 0.5em;}#sk-container-id-3 div.sk-estimator:hover {background-color: #d4ebff;}#sk-container-id-3 div.sk-parallel-item::after {content: \"\";width: 100%;border-bottom: 1px solid gray;flex-grow: 1;}#sk-container-id-3 div.sk-label:hover label.sk-toggleable__label {background-color: #d4ebff;}#sk-container-id-3 div.sk-serial::before {content: \"\";position: absolute;border-left: 1px solid gray;box-sizing: border-box;top: 0;bottom: 0;left: 50%;z-index: 0;}#sk-container-id-3 div.sk-serial {display: flex;flex-direction: column;align-items: center;background-color: white;padding-right: 0.2em;padding-left: 0.2em;position: relative;}#sk-container-id-3 div.sk-item {position: relative;z-index: 1;}#sk-container-id-3 div.sk-parallel {display: flex;align-items: stretch;justify-content: center;background-color: white;position: relative;}#sk-container-id-3 div.sk-item::before, #sk-container-id-3 div.sk-parallel-item::before {content: \"\";position: absolute;border-left: 1px solid gray;box-sizing: border-box;top: 0;bottom: 0;left: 50%;z-index: -1;}#sk-container-id-3 div.sk-parallel-item {display: flex;flex-direction: column;z-index: 1;position: relative;background-color: white;}#sk-container-id-3 div.sk-parallel-item:first-child::after {align-self: flex-end;width: 50%;}#sk-container-id-3 div.sk-parallel-item:last-child::after {align-self: flex-start;width: 50%;}#sk-container-id-3 div.sk-parallel-item:only-child::after {width: 0;}#sk-container-id-3 div.sk-dashed-wrapped {border: 1px dashed gray;margin: 0 0.4em 0.5em 0.4em;box-sizing: border-box;padding-bottom: 0.4em;background-color: white;}#sk-container-id-3 div.sk-label label {font-family: monospace;font-weight: bold;display: inline-block;line-height: 1.2em;}#sk-container-id-3 div.sk-label-container {text-align: center;}#sk-container-id-3 div.sk-container {/* jupyter's `normalize.less` sets `[hidden] { display: none; }` but bootstrap.min.css set `[hidden] { display: none !important; }` so we also need the `!important` here to be able to override the default hidden behavior on the sphinx rendered scikit-learn.org. See: https://github.com/scikit-learn/scikit-learn/issues/21755 */display: inline-block !important;position: relative;}#sk-container-id-3 div.sk-text-repr-fallback {display: none;}</style><div id=\"sk-container-id-3\" class=\"sk-top-container\"><div class=\"sk-text-repr-fallback\"><pre>LogisticRegression(random_state=0)</pre><b>In a Jupyter environment, please rerun this cell to show the HTML representation or trust the notebook. <br />On GitHub, the HTML representation is unable to render, please try loading this page with nbviewer.org.</b></div><div class=\"sk-container\" hidden><div class=\"sk-item\"><div class=\"sk-estimator sk-toggleable\"><input class=\"sk-toggleable__control sk-hidden--visually\" id=\"sk-estimator-id-3\" type=\"checkbox\" checked><label for=\"sk-estimator-id-3\" class=\"sk-toggleable__label sk-toggleable__label-arrow\">LogisticRegression</label><div class=\"sk-toggleable__content\"><pre>LogisticRegression(random_state=0)</pre></div></div></div></div></div>"
      ],
      "text/plain": [
       "LogisticRegression(random_state=0)"
      ]
     },
     "execution_count": 164,
     "metadata": {},
     "output_type": "execute_result"
    }
   ],
   "source": [
    "X = df[['Age']]\n",
    "y = df['Purchased']\n",
    "clf_age = LogisticRegression(random_state=0)\n",
    "clf_age.fit(X,y)"
   ]
  },
  {
   "cell_type": "code",
   "execution_count": 165,
   "id": "a4b4ec4d-6c42-42f4-8c68-9fb7db558a8e",
   "metadata": {},
   "outputs": [
    {
     "data": {
      "text/html": [
       "<style>#sk-container-id-4 {color: black;}#sk-container-id-4 pre{padding: 0;}#sk-container-id-4 div.sk-toggleable {background-color: white;}#sk-container-id-4 label.sk-toggleable__label {cursor: pointer;display: block;width: 100%;margin-bottom: 0;padding: 0.3em;box-sizing: border-box;text-align: center;}#sk-container-id-4 label.sk-toggleable__label-arrow:before {content: \"▸\";float: left;margin-right: 0.25em;color: #696969;}#sk-container-id-4 label.sk-toggleable__label-arrow:hover:before {color: black;}#sk-container-id-4 div.sk-estimator:hover label.sk-toggleable__label-arrow:before {color: black;}#sk-container-id-4 div.sk-toggleable__content {max-height: 0;max-width: 0;overflow: hidden;text-align: left;background-color: #f0f8ff;}#sk-container-id-4 div.sk-toggleable__content pre {margin: 0.2em;color: black;border-radius: 0.25em;background-color: #f0f8ff;}#sk-container-id-4 input.sk-toggleable__control:checked~div.sk-toggleable__content {max-height: 200px;max-width: 100%;overflow: auto;}#sk-container-id-4 input.sk-toggleable__control:checked~label.sk-toggleable__label-arrow:before {content: \"▾\";}#sk-container-id-4 div.sk-estimator input.sk-toggleable__control:checked~label.sk-toggleable__label {background-color: #d4ebff;}#sk-container-id-4 div.sk-label input.sk-toggleable__control:checked~label.sk-toggleable__label {background-color: #d4ebff;}#sk-container-id-4 input.sk-hidden--visually {border: 0;clip: rect(1px 1px 1px 1px);clip: rect(1px, 1px, 1px, 1px);height: 1px;margin: -1px;overflow: hidden;padding: 0;position: absolute;width: 1px;}#sk-container-id-4 div.sk-estimator {font-family: monospace;background-color: #f0f8ff;border: 1px dotted black;border-radius: 0.25em;box-sizing: border-box;margin-bottom: 0.5em;}#sk-container-id-4 div.sk-estimator:hover {background-color: #d4ebff;}#sk-container-id-4 div.sk-parallel-item::after {content: \"\";width: 100%;border-bottom: 1px solid gray;flex-grow: 1;}#sk-container-id-4 div.sk-label:hover label.sk-toggleable__label {background-color: #d4ebff;}#sk-container-id-4 div.sk-serial::before {content: \"\";position: absolute;border-left: 1px solid gray;box-sizing: border-box;top: 0;bottom: 0;left: 50%;z-index: 0;}#sk-container-id-4 div.sk-serial {display: flex;flex-direction: column;align-items: center;background-color: white;padding-right: 0.2em;padding-left: 0.2em;position: relative;}#sk-container-id-4 div.sk-item {position: relative;z-index: 1;}#sk-container-id-4 div.sk-parallel {display: flex;align-items: stretch;justify-content: center;background-color: white;position: relative;}#sk-container-id-4 div.sk-item::before, #sk-container-id-4 div.sk-parallel-item::before {content: \"\";position: absolute;border-left: 1px solid gray;box-sizing: border-box;top: 0;bottom: 0;left: 50%;z-index: -1;}#sk-container-id-4 div.sk-parallel-item {display: flex;flex-direction: column;z-index: 1;position: relative;background-color: white;}#sk-container-id-4 div.sk-parallel-item:first-child::after {align-self: flex-end;width: 50%;}#sk-container-id-4 div.sk-parallel-item:last-child::after {align-self: flex-start;width: 50%;}#sk-container-id-4 div.sk-parallel-item:only-child::after {width: 0;}#sk-container-id-4 div.sk-dashed-wrapped {border: 1px dashed gray;margin: 0 0.4em 0.5em 0.4em;box-sizing: border-box;padding-bottom: 0.4em;background-color: white;}#sk-container-id-4 div.sk-label label {font-family: monospace;font-weight: bold;display: inline-block;line-height: 1.2em;}#sk-container-id-4 div.sk-label-container {text-align: center;}#sk-container-id-4 div.sk-container {/* jupyter's `normalize.less` sets `[hidden] { display: none; }` but bootstrap.min.css set `[hidden] { display: none !important; }` so we also need the `!important` here to be able to override the default hidden behavior on the sphinx rendered scikit-learn.org. See: https://github.com/scikit-learn/scikit-learn/issues/21755 */display: inline-block !important;position: relative;}#sk-container-id-4 div.sk-text-repr-fallback {display: none;}</style><div id=\"sk-container-id-4\" class=\"sk-top-container\"><div class=\"sk-text-repr-fallback\"><pre>LogisticRegression(random_state=0)</pre><b>In a Jupyter environment, please rerun this cell to show the HTML representation or trust the notebook. <br />On GitHub, the HTML representation is unable to render, please try loading this page with nbviewer.org.</b></div><div class=\"sk-container\" hidden><div class=\"sk-item\"><div class=\"sk-estimator sk-toggleable\"><input class=\"sk-toggleable__control sk-hidden--visually\" id=\"sk-estimator-id-4\" type=\"checkbox\" checked><label for=\"sk-estimator-id-4\" class=\"sk-toggleable__label sk-toggleable__label-arrow\">LogisticRegression</label><div class=\"sk-toggleable__content\"><pre>LogisticRegression(random_state=0)</pre></div></div></div></div></div>"
      ],
      "text/plain": [
       "LogisticRegression(random_state=0)"
      ]
     },
     "execution_count": 165,
     "metadata": {},
     "output_type": "execute_result"
    }
   ],
   "source": [
    "X2 = df[['AnnualSalary']]\n",
    "clf_salary = LogisticRegression(random_state=0)\n",
    "clf_salary.fit(X2,y)"
   ]
  },
  {
   "cell_type": "code",
   "execution_count": 166,
   "id": "04adb9fd-63d3-408b-8c47-e97778a784fd",
   "metadata": {},
   "outputs": [
    {
     "data": {
      "text/plain": [
       "(0.811, 0.598)"
      ]
     },
     "execution_count": 166,
     "metadata": {},
     "output_type": "execute_result"
    }
   ],
   "source": [
    "clf_age.score(X, y), clf_salary.score(X2, y)"
   ]
  },
  {
   "cell_type": "code",
   "execution_count": 167,
   "id": "8cd9af9f-1232-4fd7-b672-148678efb84d",
   "metadata": {},
   "outputs": [
    {
     "data": {
      "text/plain": [
       "array([[528,  70],\n",
       "       [119, 283]], dtype=int64)"
      ]
     },
     "execution_count": 167,
     "metadata": {},
     "output_type": "execute_result"
    }
   ],
   "source": [
    "confusion_matrix(y, clf_age.predict(X))"
   ]
  },
  {
   "cell_type": "code",
   "execution_count": 168,
   "id": "01e5e63d-1553-4b58-834b-ab7c49ce1dbc",
   "metadata": {},
   "outputs": [
    {
     "data": {
      "text/plain": [
       "array([[598,   0],\n",
       "       [402,   0]], dtype=int64)"
      ]
     },
     "execution_count": 168,
     "metadata": {},
     "output_type": "execute_result"
    }
   ],
   "source": [
    "confusion_matrix(y, clf_salary.predict(X2))"
   ]
  },
  {
   "cell_type": "code",
   "execution_count": 170,
   "id": "cf7970b3-0446-4d0f-a807-88ec53f5aea8",
   "metadata": {},
   "outputs": [
    {
     "name": "stdout",
     "output_type": "stream",
     "text": [
      "              precision    recall  f1-score   support\n",
      "\n",
      "           0       0.82      0.88      0.85       598\n",
      "           1       0.80      0.70      0.75       402\n",
      "\n",
      "    accuracy                           0.81      1000\n",
      "   macro avg       0.81      0.79      0.80      1000\n",
      "weighted avg       0.81      0.81      0.81      1000\n",
      "\n"
     ]
    }
   ],
   "source": [
    "print(classification_report(y, clf_age.predict(X)))"
   ]
  },
  {
   "cell_type": "code",
   "execution_count": 171,
   "id": "e9a2415d-3260-49ce-a9d9-e6eece3254bc",
   "metadata": {
    "scrolled": true
   },
   "outputs": [
    {
     "name": "stdout",
     "output_type": "stream",
     "text": [
      "              precision    recall  f1-score   support\n",
      "\n",
      "           0       0.60      1.00      0.75       598\n",
      "           1       0.00      0.00      0.00       402\n",
      "\n",
      "    accuracy                           0.60      1000\n",
      "   macro avg       0.30      0.50      0.37      1000\n",
      "weighted avg       0.36      0.60      0.45      1000\n",
      "\n"
     ]
    },
    {
     "name": "stderr",
     "output_type": "stream",
     "text": [
      "c:\\users\\v806013\\ds\\tools\\python3.8\\latest\\lib\\site-packages\\sklearn\\metrics\\_classification.py:1471: UndefinedMetricWarning: Precision and F-score are ill-defined and being set to 0.0 in labels with no predicted samples. Use `zero_division` parameter to control this behavior.\n",
      "  _warn_prf(average, modifier, msg_start, len(result))\n",
      "c:\\users\\v806013\\ds\\tools\\python3.8\\latest\\lib\\site-packages\\sklearn\\metrics\\_classification.py:1471: UndefinedMetricWarning: Precision and F-score are ill-defined and being set to 0.0 in labels with no predicted samples. Use `zero_division` parameter to control this behavior.\n",
      "  _warn_prf(average, modifier, msg_start, len(result))\n",
      "c:\\users\\v806013\\ds\\tools\\python3.8\\latest\\lib\\site-packages\\sklearn\\metrics\\_classification.py:1471: UndefinedMetricWarning: Precision and F-score are ill-defined and being set to 0.0 in labels with no predicted samples. Use `zero_division` parameter to control this behavior.\n",
      "  _warn_prf(average, modifier, msg_start, len(result))\n"
     ]
    }
   ],
   "source": [
    "print(classification_report(y, clf_salary.predict(X2)))"
   ]
  },
  {
   "cell_type": "markdown",
   "id": "110fc79c-9a98-4da2-ae0d-6ee67c21ac37",
   "metadata": {},
   "source": [
    "## Preprocessing Data\n",
    "- when using logistic regression models --> they don't handle well different scales of data\n",
    "    - e.g. age is in double digits, salary is in thousands\n",
    "- StandardScaler --> z-scores\n",
    "    - (x - avg) / std\n",
    "- MaxAbsScaler --> x / max(x's)"
   ]
  },
  {
   "cell_type": "code",
   "execution_count": 185,
   "id": "296b5f35-d333-4b7b-8dac-c3a0ad1ed9c0",
   "metadata": {},
   "outputs": [
    {
     "data": {
      "text/html": [
       "<div>\n",
       "<style scoped>\n",
       "    .dataframe tbody tr th:only-of-type {\n",
       "        vertical-align: middle;\n",
       "    }\n",
       "\n",
       "    .dataframe tbody tr th {\n",
       "        vertical-align: top;\n",
       "    }\n",
       "\n",
       "    .dataframe thead th {\n",
       "        text-align: right;\n",
       "    }\n",
       "</style>\n",
       "<table border=\"1\" class=\"dataframe\">\n",
       "  <thead>\n",
       "    <tr style=\"text-align: right;\">\n",
       "      <th></th>\n",
       "      <th>Gender</th>\n",
       "      <th>Age</th>\n",
       "      <th>AnnualSalary</th>\n",
       "      <th>Purchased</th>\n",
       "      <th>Salary Z-score</th>\n",
       "      <th>AnnualSalaryStd</th>\n",
       "    </tr>\n",
       "    <tr>\n",
       "      <th>User ID</th>\n",
       "      <th></th>\n",
       "      <th></th>\n",
       "      <th></th>\n",
       "      <th></th>\n",
       "      <th></th>\n",
       "      <th></th>\n",
       "    </tr>\n",
       "  </thead>\n",
       "  <tbody>\n",
       "    <tr>\n",
       "      <th>385</th>\n",
       "      <td>Male</td>\n",
       "      <td>35</td>\n",
       "      <td>20000</td>\n",
       "      <td>0</td>\n",
       "      <td>-1.527734</td>\n",
       "      <td>-1.528498</td>\n",
       "    </tr>\n",
       "    <tr>\n",
       "      <th>681</th>\n",
       "      <td>Male</td>\n",
       "      <td>40</td>\n",
       "      <td>43500</td>\n",
       "      <td>0</td>\n",
       "      <td>-0.846344</td>\n",
       "      <td>-0.846767</td>\n",
       "    </tr>\n",
       "    <tr>\n",
       "      <th>353</th>\n",
       "      <td>Male</td>\n",
       "      <td>49</td>\n",
       "      <td>74000</td>\n",
       "      <td>0</td>\n",
       "      <td>0.038013</td>\n",
       "      <td>0.038032</td>\n",
       "    </tr>\n",
       "  </tbody>\n",
       "</table>\n",
       "</div>"
      ],
      "text/plain": [
       "        Gender  Age  AnnualSalary  Purchased  Salary Z-score  AnnualSalaryStd\n",
       "User ID                                                                      \n",
       "385       Male   35         20000          0       -1.527734        -1.528498\n",
       "681       Male   40         43500          0       -0.846344        -0.846767\n",
       "353       Male   49         74000          0        0.038013         0.038032"
      ]
     },
     "execution_count": 185,
     "metadata": {},
     "output_type": "execute_result"
    }
   ],
   "source": [
    "from sklearn.preprocessing import StandardScaler\n",
    "df['Salary Z-score'] = (df['AnnualSalary'] - df['AnnualSalary'].mean()) / df['AnnualSalary'].std()\n",
    "            # zscore = (x-avg) / std\n",
    "# df.describe()\n",
    "df['AnnualSalaryStd'] = StandardScaler().fit_transform(df[['AnnualSalary']]) #this is the same thing as above\n",
    "df.head(3)"
   ]
  },
  {
   "cell_type": "code",
   "execution_count": 183,
   "id": "8d5eb40b-e677-411c-b343-cd9db7ca53d2",
   "metadata": {},
   "outputs": [
    {
     "data": {
      "text/html": [
       "<style>#sk-container-id-7 {color: black;}#sk-container-id-7 pre{padding: 0;}#sk-container-id-7 div.sk-toggleable {background-color: white;}#sk-container-id-7 label.sk-toggleable__label {cursor: pointer;display: block;width: 100%;margin-bottom: 0;padding: 0.3em;box-sizing: border-box;text-align: center;}#sk-container-id-7 label.sk-toggleable__label-arrow:before {content: \"▸\";float: left;margin-right: 0.25em;color: #696969;}#sk-container-id-7 label.sk-toggleable__label-arrow:hover:before {color: black;}#sk-container-id-7 div.sk-estimator:hover label.sk-toggleable__label-arrow:before {color: black;}#sk-container-id-7 div.sk-toggleable__content {max-height: 0;max-width: 0;overflow: hidden;text-align: left;background-color: #f0f8ff;}#sk-container-id-7 div.sk-toggleable__content pre {margin: 0.2em;color: black;border-radius: 0.25em;background-color: #f0f8ff;}#sk-container-id-7 input.sk-toggleable__control:checked~div.sk-toggleable__content {max-height: 200px;max-width: 100%;overflow: auto;}#sk-container-id-7 input.sk-toggleable__control:checked~label.sk-toggleable__label-arrow:before {content: \"▾\";}#sk-container-id-7 div.sk-estimator input.sk-toggleable__control:checked~label.sk-toggleable__label {background-color: #d4ebff;}#sk-container-id-7 div.sk-label input.sk-toggleable__control:checked~label.sk-toggleable__label {background-color: #d4ebff;}#sk-container-id-7 input.sk-hidden--visually {border: 0;clip: rect(1px 1px 1px 1px);clip: rect(1px, 1px, 1px, 1px);height: 1px;margin: -1px;overflow: hidden;padding: 0;position: absolute;width: 1px;}#sk-container-id-7 div.sk-estimator {font-family: monospace;background-color: #f0f8ff;border: 1px dotted black;border-radius: 0.25em;box-sizing: border-box;margin-bottom: 0.5em;}#sk-container-id-7 div.sk-estimator:hover {background-color: #d4ebff;}#sk-container-id-7 div.sk-parallel-item::after {content: \"\";width: 100%;border-bottom: 1px solid gray;flex-grow: 1;}#sk-container-id-7 div.sk-label:hover label.sk-toggleable__label {background-color: #d4ebff;}#sk-container-id-7 div.sk-serial::before {content: \"\";position: absolute;border-left: 1px solid gray;box-sizing: border-box;top: 0;bottom: 0;left: 50%;z-index: 0;}#sk-container-id-7 div.sk-serial {display: flex;flex-direction: column;align-items: center;background-color: white;padding-right: 0.2em;padding-left: 0.2em;position: relative;}#sk-container-id-7 div.sk-item {position: relative;z-index: 1;}#sk-container-id-7 div.sk-parallel {display: flex;align-items: stretch;justify-content: center;background-color: white;position: relative;}#sk-container-id-7 div.sk-item::before, #sk-container-id-7 div.sk-parallel-item::before {content: \"\";position: absolute;border-left: 1px solid gray;box-sizing: border-box;top: 0;bottom: 0;left: 50%;z-index: -1;}#sk-container-id-7 div.sk-parallel-item {display: flex;flex-direction: column;z-index: 1;position: relative;background-color: white;}#sk-container-id-7 div.sk-parallel-item:first-child::after {align-self: flex-end;width: 50%;}#sk-container-id-7 div.sk-parallel-item:last-child::after {align-self: flex-start;width: 50%;}#sk-container-id-7 div.sk-parallel-item:only-child::after {width: 0;}#sk-container-id-7 div.sk-dashed-wrapped {border: 1px dashed gray;margin: 0 0.4em 0.5em 0.4em;box-sizing: border-box;padding-bottom: 0.4em;background-color: white;}#sk-container-id-7 div.sk-label label {font-family: monospace;font-weight: bold;display: inline-block;line-height: 1.2em;}#sk-container-id-7 div.sk-label-container {text-align: center;}#sk-container-id-7 div.sk-container {/* jupyter's `normalize.less` sets `[hidden] { display: none; }` but bootstrap.min.css set `[hidden] { display: none !important; }` so we also need the `!important` here to be able to override the default hidden behavior on the sphinx rendered scikit-learn.org. See: https://github.com/scikit-learn/scikit-learn/issues/21755 */display: inline-block !important;position: relative;}#sk-container-id-7 div.sk-text-repr-fallback {display: none;}</style><div id=\"sk-container-id-7\" class=\"sk-top-container\"><div class=\"sk-text-repr-fallback\"><pre>LogisticRegression(random_state=0)</pre><b>In a Jupyter environment, please rerun this cell to show the HTML representation or trust the notebook. <br />On GitHub, the HTML representation is unable to render, please try loading this page with nbviewer.org.</b></div><div class=\"sk-container\" hidden><div class=\"sk-item\"><div class=\"sk-estimator sk-toggleable\"><input class=\"sk-toggleable__control sk-hidden--visually\" id=\"sk-estimator-id-7\" type=\"checkbox\" checked><label for=\"sk-estimator-id-7\" class=\"sk-toggleable__label sk-toggleable__label-arrow\">LogisticRegression</label><div class=\"sk-toggleable__content\"><pre>LogisticRegression(random_state=0)</pre></div></div></div></div></div>"
      ],
      "text/plain": [
       "LogisticRegression(random_state=0)"
      ]
     },
     "execution_count": 183,
     "metadata": {},
     "output_type": "execute_result"
    }
   ],
   "source": [
    "X2 = df[['AnnualSalaryStd']]\n",
    "clf_salary = LogisticRegression(random_state=0)\n",
    "clf_salary.fit(X2,y)"
   ]
  },
  {
   "cell_type": "code",
   "execution_count": 182,
   "id": "f555f441-9571-472f-b0e3-94d86a1dbe1b",
   "metadata": {},
   "outputs": [
    {
     "name": "stdout",
     "output_type": "stream",
     "text": [
      "              precision    recall  f1-score   support\n",
      "\n",
      "           0       0.74      0.95      0.83       598\n",
      "           1       0.86      0.51      0.64       402\n",
      "\n",
      "    accuracy                           0.77      1000\n",
      "   macro avg       0.80      0.73      0.74      1000\n",
      "weighted avg       0.79      0.77      0.76      1000\n",
      "\n"
     ]
    }
   ],
   "source": [
    "print(classification_report(y, clf_salary.predict(X2)))"
   ]
  },
  {
   "cell_type": "code",
   "execution_count": 180,
   "id": "50419b03-9a98-4653-9a0b-9fb5119f200e",
   "metadata": {},
   "outputs": [
    {
     "data": {
      "text/plain": [
       "array([[566,  32],\n",
       "       [197, 205]], dtype=int64)"
      ]
     },
     "execution_count": 180,
     "metadata": {},
     "output_type": "execute_result"
    }
   ],
   "source": [
    "confusion_matrix(y, clf_salary.predict(X2))"
   ]
  },
  {
   "cell_type": "code",
   "execution_count": 188,
   "id": "9e79997d-7f7b-42e0-8754-5d8bd97738c9",
   "metadata": {},
   "outputs": [
    {
     "data": {
      "text/plain": [
       "User ID\n",
       "385    False\n",
       "681    False\n",
       "353    False\n",
       "895    False\n",
       "661    False\n",
       "       ...  \n",
       "863    False\n",
       "800     True\n",
       "407     True\n",
       "299     True\n",
       "687     True\n",
       "Name: Female, Length: 1000, dtype: bool"
      ]
     },
     "execution_count": 188,
     "metadata": {},
     "output_type": "execute_result"
    }
   ],
   "source": [
    "pd.get_dummies(df['Gender'])['Female']"
   ]
  },
  {
   "cell_type": "markdown",
   "id": "2fe2d331-79de-4c1e-b0b1-ec115560c284",
   "metadata": {},
   "source": [
    "## Working Session + Coffee until 2:40pm\n",
    "- join breakout room and click on Ask for Help if you have questions\n",
    "- try questions 1-3 from: `LogisticRegressionAssignment.ipynb`\n",
    "\n",
    "Q&A: get dummies - how to get 1/0 instead of True/False\n",
    "A: `df['col'].str.get_dummies()` or `pd.get_dummies(df['Gender'], dtype=int)`"
   ]
  },
  {
   "cell_type": "code",
   "execution_count": 191,
   "id": "6c7e8487-dc15-4c02-a16b-e4cfb7e92c93",
   "metadata": {},
   "outputs": [
    {
     "data": {
      "text/html": [
       "<div>\n",
       "<style scoped>\n",
       "    .dataframe tbody tr th:only-of-type {\n",
       "        vertical-align: middle;\n",
       "    }\n",
       "\n",
       "    .dataframe tbody tr th {\n",
       "        vertical-align: top;\n",
       "    }\n",
       "\n",
       "    .dataframe thead th {\n",
       "        text-align: right;\n",
       "    }\n",
       "</style>\n",
       "<table border=\"1\" class=\"dataframe\">\n",
       "  <thead>\n",
       "    <tr style=\"text-align: right;\">\n",
       "      <th></th>\n",
       "      <th>Female</th>\n",
       "      <th>Male</th>\n",
       "    </tr>\n",
       "    <tr>\n",
       "      <th>User ID</th>\n",
       "      <th></th>\n",
       "      <th></th>\n",
       "    </tr>\n",
       "  </thead>\n",
       "  <tbody>\n",
       "    <tr>\n",
       "      <th>385</th>\n",
       "      <td>0</td>\n",
       "      <td>1</td>\n",
       "    </tr>\n",
       "    <tr>\n",
       "      <th>681</th>\n",
       "      <td>0</td>\n",
       "      <td>1</td>\n",
       "    </tr>\n",
       "    <tr>\n",
       "      <th>353</th>\n",
       "      <td>0</td>\n",
       "      <td>1</td>\n",
       "    </tr>\n",
       "    <tr>\n",
       "      <th>895</th>\n",
       "      <td>0</td>\n",
       "      <td>1</td>\n",
       "    </tr>\n",
       "    <tr>\n",
       "      <th>661</th>\n",
       "      <td>0</td>\n",
       "      <td>1</td>\n",
       "    </tr>\n",
       "  </tbody>\n",
       "</table>\n",
       "</div>"
      ],
      "text/plain": [
       "         Female  Male\n",
       "User ID              \n",
       "385           0     1\n",
       "681           0     1\n",
       "353           0     1\n",
       "895           0     1\n",
       "661           0     1"
      ]
     },
     "execution_count": 191,
     "metadata": {},
     "output_type": "execute_result"
    }
   ],
   "source": [
    "pd.get_dummies(df['Gender'],dtype=int).head()"
   ]
  },
  {
   "cell_type": "markdown",
   "id": "da9232a0-c517-42ee-a930-7622a4eb15aa",
   "metadata": {},
   "source": [
    "## Takeup Logistic Regression Assignment"
   ]
  },
  {
   "cell_type": "code",
   "execution_count": 192,
   "id": "f8423158-3f7d-4f83-b7ac-6e4ce90e6673",
   "metadata": {},
   "outputs": [],
   "source": [
    "df['AnnualSalaryStd'] = StandardScaler().fit_transform(df['AnnualSalary'].values.reshape(-1,1))\n",
    "df = pd.concat([df, pd.get_dummies(df['Gender'])], axis=1)"
   ]
  },
  {
   "cell_type": "code",
   "execution_count": 203,
   "id": "fdf34656-46c6-4a49-9ca0-e54dacc223f8",
   "metadata": {},
   "outputs": [],
   "source": [
    "Xs = [ ['Age'],\n",
    "      ['AnnualSalaryStd'],\n",
    "      ['Female'],\n",
    "      ['Age', 'AnnualSalaryStd'],\n",
    "      ['Age', 'AnnualSalaryStd','Female'],\n",
    "      ['AnnualSalaryStd','Female'],\n",
    "      ['Age', 'Female']]\n",
    "y = df['Purchased']"
   ]
  },
  {
   "cell_type": "code",
   "execution_count": 200,
   "id": "ba9d79ab-1b5a-4508-9c85-8a385528ca75",
   "metadata": {},
   "outputs": [],
   "source": [
    "#https://scikit-learn.org/stable/modules/model_evaluation.html\n",
    "from sklearn.metrics import recall_score, precision_score"
   ]
  },
  {
   "cell_type": "code",
   "execution_count": 204,
   "id": "52aa895e-c033-4bb2-987b-1f37ae59e8bf",
   "metadata": {},
   "outputs": [
    {
     "name": "stdout",
     "output_type": "stream",
     "text": [
      "['Age']\n",
      "              precision    recall  f1-score   support\n",
      "\n",
      "           0       0.82      0.88      0.85       598\n",
      "           1       0.80      0.70      0.75       402\n",
      "\n",
      "    accuracy                           0.81      1000\n",
      "   macro avg       0.81      0.79      0.80      1000\n",
      "weighted avg       0.81      0.81      0.81      1000\n",
      "\n",
      "[[528  70]\n",
      " [119 283]]\n",
      "AUC: 0.8631\n",
      "----------------------------------------------------------------------------------------------------\n",
      "['AnnualSalaryStd']\n",
      "              precision    recall  f1-score   support\n",
      "\n",
      "           0       0.74      0.95      0.83       598\n",
      "           1       0.86      0.51      0.64       402\n",
      "\n",
      "    accuracy                           0.77      1000\n",
      "   macro avg       0.80      0.73      0.74      1000\n",
      "weighted avg       0.79      0.77      0.76      1000\n",
      "\n",
      "[[566  32]\n",
      " [197 205]]\n",
      "AUC: 0.6883\n",
      "----------------------------------------------------------------------------------------------------\n",
      "['Female']\n",
      "              precision    recall  f1-score   support\n",
      "\n",
      "           0       0.60      1.00      0.75       598\n",
      "           1       0.00      0.00      0.00       402\n",
      "\n",
      "    accuracy                           0.60      1000\n",
      "   macro avg       0.30      0.50      0.37      1000\n",
      "weighted avg       0.36      0.60      0.45      1000\n",
      "\n",
      "[[598   0]\n",
      " [402   0]]\n",
      "AUC: 0.5241\n",
      "----------------------------------------------------------------------------------------------------\n",
      "['Age', 'AnnualSalaryStd']\n",
      "              precision    recall  f1-score   support\n",
      "\n",
      "           0       0.83      0.89      0.86       598\n",
      "           1       0.82      0.73      0.77       402\n",
      "\n",
      "    accuracy                           0.83      1000\n",
      "   macro avg       0.83      0.81      0.82      1000\n",
      "weighted avg       0.83      0.83      0.83      1000\n",
      "\n",
      "[[535  63]\n",
      " [109 293]]\n",
      "AUC: 0.9152\n",
      "----------------------------------------------------------------------------------------------------\n",
      "['Age', 'AnnualSalaryStd', 'Female']\n",
      "              precision    recall  f1-score   support\n",
      "\n",
      "           0       0.84      0.90      0.87       598\n",
      "           1       0.83      0.74      0.78       402\n",
      "\n",
      "    accuracy                           0.83      1000\n",
      "   macro avg       0.83      0.82      0.82      1000\n",
      "weighted avg       0.83      0.83      0.83      1000\n",
      "\n",
      "[[538  60]\n",
      " [106 296]]\n",
      "AUC: 0.9156\n",
      "----------------------------------------------------------------------------------------------------\n",
      "['AnnualSalaryStd', 'Female']\n",
      "              precision    recall  f1-score   support\n",
      "\n",
      "           0       0.74      0.95      0.83       598\n",
      "           1       0.87      0.51      0.64       402\n",
      "\n",
      "    accuracy                           0.77      1000\n",
      "   macro avg       0.80      0.73      0.74      1000\n",
      "weighted avg       0.79      0.77      0.76      1000\n",
      "\n",
      "[[566  32]\n",
      " [196 206]]\n",
      "AUC: 0.6864\n",
      "----------------------------------------------------------------------------------------------------\n",
      "['Age', 'Female']\n",
      "              precision    recall  f1-score   support\n",
      "\n",
      "           0       0.82      0.88      0.85       598\n",
      "           1       0.80      0.70      0.75       402\n",
      "\n",
      "    accuracy                           0.81      1000\n",
      "   macro avg       0.81      0.79      0.80      1000\n",
      "weighted avg       0.81      0.81      0.81      1000\n",
      "\n",
      "[[528  70]\n",
      " [119 283]]\n",
      "AUC: 0.8633\n",
      "----------------------------------------------------------------------------------------------------\n"
     ]
    },
    {
     "name": "stderr",
     "output_type": "stream",
     "text": [
      "c:\\users\\v806013\\ds\\tools\\python3.8\\latest\\lib\\site-packages\\sklearn\\metrics\\_classification.py:1471: UndefinedMetricWarning: Precision is ill-defined and being set to 0.0 due to no predicted samples. Use `zero_division` parameter to control this behavior.\n",
      "  _warn_prf(average, modifier, msg_start, len(result))\n",
      "c:\\users\\v806013\\ds\\tools\\python3.8\\latest\\lib\\site-packages\\sklearn\\metrics\\_classification.py:1471: UndefinedMetricWarning: Precision and F-score are ill-defined and being set to 0.0 in labels with no predicted samples. Use `zero_division` parameter to control this behavior.\n",
      "  _warn_prf(average, modifier, msg_start, len(result))\n",
      "c:\\users\\v806013\\ds\\tools\\python3.8\\latest\\lib\\site-packages\\sklearn\\metrics\\_classification.py:1471: UndefinedMetricWarning: Precision and F-score are ill-defined and being set to 0.0 in labels with no predicted samples. Use `zero_division` parameter to control this behavior.\n",
      "  _warn_prf(average, modifier, msg_start, len(result))\n",
      "c:\\users\\v806013\\ds\\tools\\python3.8\\latest\\lib\\site-packages\\sklearn\\metrics\\_classification.py:1471: UndefinedMetricWarning: Precision and F-score are ill-defined and being set to 0.0 in labels with no predicted samples. Use `zero_division` parameter to control this behavior.\n",
      "  _warn_prf(average, modifier, msg_start, len(result))\n"
     ]
    }
   ],
   "source": [
    "model_results = []\n",
    "\n",
    "for x_cols in Xs:\n",
    "    print(x_cols)\n",
    "    X = df[x_cols]  #  df[['Age']], df[['Age','AnnualSalaryStd']]\n",
    "    clf = LogisticRegression(random_state=0)\n",
    "    clf.fit(X,y)\n",
    "    score = clf.score(X,y) #accuracy\n",
    "    y_predict = clf.predict(X)\n",
    "\n",
    "    #other scores\n",
    "    recall = recall_score(y, y_predict)\n",
    "    precision = precision_score(y, y_predict)\n",
    "    \n",
    "    print(classification_report(y, y_predict))\n",
    "    print(confusion_matrix(y, y_predict))\n",
    "\n",
    "    #calc AUC\n",
    "    y_prob = clf.predict_proba(X)[:,1] #access just prob of being 1's\n",
    "    fpr, tpr, thresholds = roc_curve(y, y_prob)\n",
    "    auc_score = auc(fpr, tpr)\n",
    "    print(f\"AUC: {auc_score:.4f}\")\n",
    "\n",
    "    #append results\n",
    "    model_results.append(  {'AUC':auc_score, 'Accuracy':score, 'Recall':recall, 'Precision':precision, 'X-Cols':x_cols})\n",
    "    \n",
    "    print(\"-\" * 100)"
   ]
  },
  {
   "cell_type": "code",
   "execution_count": 209,
   "id": "d652d3bd-f4cb-4e03-9264-4d6e11c2ba90",
   "metadata": {},
   "outputs": [
    {
     "data": {
      "text/html": [
       "<div>\n",
       "<style scoped>\n",
       "    .dataframe tbody tr th:only-of-type {\n",
       "        vertical-align: middle;\n",
       "    }\n",
       "\n",
       "    .dataframe tbody tr th {\n",
       "        vertical-align: top;\n",
       "    }\n",
       "\n",
       "    .dataframe thead th {\n",
       "        text-align: right;\n",
       "    }\n",
       "</style>\n",
       "<table border=\"1\" class=\"dataframe\">\n",
       "  <thead>\n",
       "    <tr style=\"text-align: right;\">\n",
       "      <th></th>\n",
       "      <th>AUC</th>\n",
       "      <th>Accuracy</th>\n",
       "      <th>Recall</th>\n",
       "      <th>Precision</th>\n",
       "      <th>X-Cols</th>\n",
       "    </tr>\n",
       "  </thead>\n",
       "  <tbody>\n",
       "    <tr>\n",
       "      <th>0</th>\n",
       "      <td>0.863095</td>\n",
       "      <td>0.811</td>\n",
       "      <td>0.703980</td>\n",
       "      <td>0.801700</td>\n",
       "      <td>[Age]</td>\n",
       "    </tr>\n",
       "    <tr>\n",
       "      <th>1</th>\n",
       "      <td>0.688314</td>\n",
       "      <td>0.771</td>\n",
       "      <td>0.509950</td>\n",
       "      <td>0.864979</td>\n",
       "      <td>[AnnualSalaryStd]</td>\n",
       "    </tr>\n",
       "    <tr>\n",
       "      <th>2</th>\n",
       "      <td>0.524060</td>\n",
       "      <td>0.598</td>\n",
       "      <td>0.000000</td>\n",
       "      <td>0.000000</td>\n",
       "      <td>[Female]</td>\n",
       "    </tr>\n",
       "    <tr>\n",
       "      <th>3</th>\n",
       "      <td>0.915182</td>\n",
       "      <td>0.828</td>\n",
       "      <td>0.728856</td>\n",
       "      <td>0.823034</td>\n",
       "      <td>[Age, AnnualSalaryStd]</td>\n",
       "    </tr>\n",
       "    <tr>\n",
       "      <th>4</th>\n",
       "      <td>0.915600</td>\n",
       "      <td>0.834</td>\n",
       "      <td>0.736318</td>\n",
       "      <td>0.831461</td>\n",
       "      <td>[Age, AnnualSalaryStd, Female]</td>\n",
       "    </tr>\n",
       "    <tr>\n",
       "      <th>5</th>\n",
       "      <td>0.686384</td>\n",
       "      <td>0.772</td>\n",
       "      <td>0.512438</td>\n",
       "      <td>0.865546</td>\n",
       "      <td>[AnnualSalaryStd, Female]</td>\n",
       "    </tr>\n",
       "    <tr>\n",
       "      <th>6</th>\n",
       "      <td>0.863330</td>\n",
       "      <td>0.811</td>\n",
       "      <td>0.703980</td>\n",
       "      <td>0.801700</td>\n",
       "      <td>[Age, Female]</td>\n",
       "    </tr>\n",
       "  </tbody>\n",
       "</table>\n",
       "</div>"
      ],
      "text/plain": [
       "        AUC  Accuracy    Recall  Precision                          X-Cols\n",
       "0  0.863095     0.811  0.703980   0.801700                           [Age]\n",
       "1  0.688314     0.771  0.509950   0.864979               [AnnualSalaryStd]\n",
       "2  0.524060     0.598  0.000000   0.000000                        [Female]\n",
       "3  0.915182     0.828  0.728856   0.823034          [Age, AnnualSalaryStd]\n",
       "4  0.915600     0.834  0.736318   0.831461  [Age, AnnualSalaryStd, Female]\n",
       "5  0.686384     0.772  0.512438   0.865546       [AnnualSalaryStd, Female]\n",
       "6  0.863330     0.811  0.703980   0.801700                   [Age, Female]"
      ]
     },
     "execution_count": 209,
     "metadata": {},
     "output_type": "execute_result"
    }
   ],
   "source": [
    "results_summary = pd.DataFrame(model_results)\n",
    "# results_summary.sort_values('Precision', ascending=False)\n",
    "results_summary"
   ]
  },
  {
   "cell_type": "markdown",
   "id": "a842e4ea-d96d-4643-aab7-c79e4e49dbd9",
   "metadata": {},
   "source": [
    "## Test-Train Splitting of the Data"
   ]
  },
  {
   "cell_type": "code",
   "execution_count": 210,
   "id": "280c5e46-97b8-44a6-ae37-f9112d760719",
   "metadata": {},
   "outputs": [],
   "source": [
    "from sklearn.model_selection import train_test_split"
   ]
  },
  {
   "cell_type": "code",
   "execution_count": 228,
   "id": "86d7a5ee-4765-437f-862f-ca6588e1fc65",
   "metadata": {},
   "outputs": [],
   "source": [
    "x_cols = ['Age','AnnualSalaryStd','Female']\n",
    "X_train, X_test, y_train, y_test = train_test_split(df[x_cols], df['Purchased'], test_size=0.25, random_state=42)"
   ]
  },
  {
   "cell_type": "code",
   "execution_count": 229,
   "id": "1a9d00ec-2024-4d81-ab22-7bf4c6b3f0bf",
   "metadata": {},
   "outputs": [
    {
     "data": {
      "text/plain": [
       "Purchased\n",
       "0    0.598\n",
       "1    0.402\n",
       "Name: proportion, dtype: float64"
      ]
     },
     "execution_count": 229,
     "metadata": {},
     "output_type": "execute_result"
    }
   ],
   "source": [
    "df['Purchased'].value_counts(normalize=True)"
   ]
  },
  {
   "cell_type": "code",
   "execution_count": 230,
   "id": "e9030c8f-fd74-4ed2-b429-a894a9e89eca",
   "metadata": {},
   "outputs": [
    {
     "data": {
      "text/plain": [
       "Purchased\n",
       "0    0.552\n",
       "1    0.448\n",
       "Name: proportion, dtype: float64"
      ]
     },
     "execution_count": 230,
     "metadata": {},
     "output_type": "execute_result"
    }
   ],
   "source": [
    "y_test.value_counts(normalize=True)"
   ]
  },
  {
   "cell_type": "code",
   "execution_count": 224,
   "id": "50fde9d8-956f-4bf7-bc1e-7ab36103f5f5",
   "metadata": {},
   "outputs": [
    {
     "data": {
      "text/plain": [
       "Purchased\n",
       "0    0.613333\n",
       "1    0.386667\n",
       "Name: proportion, dtype: float64"
      ]
     },
     "execution_count": 224,
     "metadata": {},
     "output_type": "execute_result"
    }
   ],
   "source": [
    "y_train.value_counts(normalize=True)"
   ]
  },
  {
   "cell_type": "code",
   "execution_count": 239,
   "id": "01469ae6-e942-4b77-9f09-987d06ec5663",
   "metadata": {},
   "outputs": [
    {
     "name": "stdout",
     "output_type": "stream",
     "text": [
      "              precision    recall  f1-score   support\n",
      "\n",
      "           0       0.84      0.90      0.87       460\n",
      "           1       0.81      0.72      0.77       290\n",
      "\n",
      "    accuracy                           0.83       750\n",
      "   macro avg       0.83      0.81      0.82       750\n",
      "weighted avg       0.83      0.83      0.83       750\n",
      "\n"
     ]
    }
   ],
   "source": [
    "X = X_train[['Age','AnnualSalaryStd']]\n",
    "clf = LogisticRegression(random_state=0)\n",
    "clf.fit(X, y_train)\n",
    "print(classification_report(y_train, clf.predict(X)))"
   ]
  },
  {
   "cell_type": "code",
   "execution_count": 241,
   "id": "fbfb247f-a0b4-4763-b2c6-acc11fe8f1f0",
   "metadata": {},
   "outputs": [
    {
     "name": "stdout",
     "output_type": "stream",
     "text": [
      "              precision    recall  f1-score   support\n",
      "\n",
      "           0       0.79      0.91      0.85       138\n",
      "           1       0.87      0.71      0.78       112\n",
      "\n",
      "    accuracy                           0.82       250\n",
      "   macro avg       0.83      0.81      0.81       250\n",
      "weighted avg       0.83      0.82      0.82       250\n",
      "\n"
     ]
    }
   ],
   "source": [
    "X_t = X_test[['Age','AnnualSalaryStd']]\n",
    "print(classification_report(y_test, clf.predict(X_t)))"
   ]
  },
  {
   "cell_type": "code",
   "execution_count": 248,
   "id": "3253a1f6-dbe9-4701-8170-74459da0d4bf",
   "metadata": {},
   "outputs": [
    {
     "data": {
      "text/html": [
       "<div>\n",
       "<style scoped>\n",
       "    .dataframe tbody tr th:only-of-type {\n",
       "        vertical-align: middle;\n",
       "    }\n",
       "\n",
       "    .dataframe tbody tr th {\n",
       "        vertical-align: top;\n",
       "    }\n",
       "\n",
       "    .dataframe thead th {\n",
       "        text-align: right;\n",
       "    }\n",
       "</style>\n",
       "<table border=\"1\" class=\"dataframe\">\n",
       "  <thead>\n",
       "    <tr style=\"text-align: right;\">\n",
       "      <th></th>\n",
       "      <th>Y-actual</th>\n",
       "      <th>Y-Predict</th>\n",
       "      <th>Age</th>\n",
       "      <th>AnnualSalaryStd</th>\n",
       "      <th>Female</th>\n",
       "    </tr>\n",
       "    <tr>\n",
       "      <th>User ID</th>\n",
       "      <th></th>\n",
       "      <th></th>\n",
       "      <th></th>\n",
       "      <th></th>\n",
       "      <th></th>\n",
       "    </tr>\n",
       "  </thead>\n",
       "  <tbody>\n",
       "    <tr>\n",
       "      <th>176</th>\n",
       "      <td>0</td>\n",
       "      <td>0</td>\n",
       "      <td>41</td>\n",
       "      <td>0.023527</td>\n",
       "      <td>False</td>\n",
       "    </tr>\n",
       "    <tr>\n",
       "      <th>448</th>\n",
       "      <td>1</td>\n",
       "      <td>1</td>\n",
       "      <td>59</td>\n",
       "      <td>1.822135</td>\n",
       "      <td>False</td>\n",
       "    </tr>\n",
       "    <tr>\n",
       "      <th>391</th>\n",
       "      <td>0</td>\n",
       "      <td>0</td>\n",
       "      <td>25</td>\n",
       "      <td>-0.382610</td>\n",
       "      <td>False</td>\n",
       "    </tr>\n",
       "    <tr>\n",
       "      <th>623</th>\n",
       "      <td>1</td>\n",
       "      <td>0</td>\n",
       "      <td>47</td>\n",
       "      <td>-0.875777</td>\n",
       "      <td>True</td>\n",
       "    </tr>\n",
       "    <tr>\n",
       "      <th>773</th>\n",
       "      <td>0</td>\n",
       "      <td>1</td>\n",
       "      <td>46</td>\n",
       "      <td>1.822135</td>\n",
       "      <td>True</td>\n",
       "    </tr>\n",
       "    <tr>\n",
       "      <th>...</th>\n",
       "      <td>...</td>\n",
       "      <td>...</td>\n",
       "      <td>...</td>\n",
       "      <td>...</td>\n",
       "      <td>...</td>\n",
       "    </tr>\n",
       "    <tr>\n",
       "      <th>775</th>\n",
       "      <td>1</td>\n",
       "      <td>1</td>\n",
       "      <td>43</td>\n",
       "      <td>1.067880</td>\n",
       "      <td>False</td>\n",
       "    </tr>\n",
       "    <tr>\n",
       "      <th>452</th>\n",
       "      <td>0</td>\n",
       "      <td>0</td>\n",
       "      <td>21</td>\n",
       "      <td>0.444169</td>\n",
       "      <td>False</td>\n",
       "    </tr>\n",
       "    <tr>\n",
       "      <th>311</th>\n",
       "      <td>0</td>\n",
       "      <td>0</td>\n",
       "      <td>34</td>\n",
       "      <td>-1.165875</td>\n",
       "      <td>False</td>\n",
       "    </tr>\n",
       "    <tr>\n",
       "      <th>912</th>\n",
       "      <td>1</td>\n",
       "      <td>1</td>\n",
       "      <td>59</td>\n",
       "      <td>0.096051</td>\n",
       "      <td>True</td>\n",
       "    </tr>\n",
       "    <tr>\n",
       "      <th>622</th>\n",
       "      <td>1</td>\n",
       "      <td>1</td>\n",
       "      <td>45</td>\n",
       "      <td>1.691591</td>\n",
       "      <td>True</td>\n",
       "    </tr>\n",
       "  </tbody>\n",
       "</table>\n",
       "<p>250 rows × 5 columns</p>\n",
       "</div>"
      ],
      "text/plain": [
       "         Y-actual  Y-Predict  Age  AnnualSalaryStd  Female\n",
       "User ID                                                   \n",
       "176             0          0   41         0.023527   False\n",
       "448             1          1   59         1.822135   False\n",
       "391             0          0   25        -0.382610   False\n",
       "623             1          0   47        -0.875777    True\n",
       "773             0          1   46         1.822135    True\n",
       "...           ...        ...  ...              ...     ...\n",
       "775             1          1   43         1.067880   False\n",
       "452             0          0   21         0.444169   False\n",
       "311             0          0   34        -1.165875   False\n",
       "912             1          1   59         0.096051    True\n",
       "622             1          1   45         1.691591    True\n",
       "\n",
       "[250 rows x 5 columns]"
      ]
     },
     "execution_count": 248,
     "metadata": {},
     "output_type": "execute_result"
    }
   ],
   "source": [
    "results_table = pd.DataFrame( {'Y-actual':y_test, 'Y-Predict':clf.predict(X_t)})\n",
    "results_table = results_table.merge(X_test, left_index=True, right_index=True)\n",
    "results_table"
   ]
  },
  {
   "cell_type": "markdown",
   "id": "b7111e21-f23c-4c7b-aeda-505bdc2dd812",
   "metadata": {},
   "source": [
    "# Decision Trees"
   ]
  },
  {
   "cell_type": "code",
   "execution_count": 249,
   "id": "02089cab-11f7-45c7-a0e3-2ab1c2a934bf",
   "metadata": {},
   "outputs": [],
   "source": [
    "from sklearn import tree"
   ]
  },
  {
   "cell_type": "code",
   "execution_count": 252,
   "id": "028c2716-6347-4068-96d7-da0de076e780",
   "metadata": {},
   "outputs": [],
   "source": [
    "df = pd.read_csv('ExData/score.csv')\n",
    "df['Outcome'] = np.where(df['Scores'] >= 50, 1, 0)"
   ]
  },
  {
   "cell_type": "code",
   "execution_count": 254,
   "id": "23eec9e8-6b91-4ae0-8c58-cb2bb359c5ee",
   "metadata": {},
   "outputs": [
    {
     "data": {
      "text/html": [
       "<div>\n",
       "<style scoped>\n",
       "    .dataframe tbody tr th:only-of-type {\n",
       "        vertical-align: middle;\n",
       "    }\n",
       "\n",
       "    .dataframe tbody tr th {\n",
       "        vertical-align: top;\n",
       "    }\n",
       "\n",
       "    .dataframe thead th {\n",
       "        text-align: right;\n",
       "    }\n",
       "</style>\n",
       "<table border=\"1\" class=\"dataframe\">\n",
       "  <thead>\n",
       "    <tr style=\"text-align: right;\">\n",
       "      <th></th>\n",
       "      <th>Hours</th>\n",
       "      <th>Scores</th>\n",
       "      <th>Outcome</th>\n",
       "    </tr>\n",
       "  </thead>\n",
       "  <tbody>\n",
       "    <tr>\n",
       "      <th>0</th>\n",
       "      <td>2.5</td>\n",
       "      <td>21</td>\n",
       "      <td>0</td>\n",
       "    </tr>\n",
       "    <tr>\n",
       "      <th>1</th>\n",
       "      <td>5.1</td>\n",
       "      <td>47</td>\n",
       "      <td>0</td>\n",
       "    </tr>\n",
       "  </tbody>\n",
       "</table>\n",
       "</div>"
      ],
      "text/plain": [
       "   Hours  Scores  Outcome\n",
       "0    2.5      21        0\n",
       "1    5.1      47        0"
      ]
     },
     "execution_count": 254,
     "metadata": {},
     "output_type": "execute_result"
    }
   ],
   "source": [
    "df.head(2)"
   ]
  },
  {
   "cell_type": "code",
   "execution_count": 256,
   "id": "a23dc21e-2cf8-4fe6-806c-aff05dfc664c",
   "metadata": {},
   "outputs": [
    {
     "data": {
      "text/html": [
       "<style>#sk-container-id-9 {color: black;}#sk-container-id-9 pre{padding: 0;}#sk-container-id-9 div.sk-toggleable {background-color: white;}#sk-container-id-9 label.sk-toggleable__label {cursor: pointer;display: block;width: 100%;margin-bottom: 0;padding: 0.3em;box-sizing: border-box;text-align: center;}#sk-container-id-9 label.sk-toggleable__label-arrow:before {content: \"▸\";float: left;margin-right: 0.25em;color: #696969;}#sk-container-id-9 label.sk-toggleable__label-arrow:hover:before {color: black;}#sk-container-id-9 div.sk-estimator:hover label.sk-toggleable__label-arrow:before {color: black;}#sk-container-id-9 div.sk-toggleable__content {max-height: 0;max-width: 0;overflow: hidden;text-align: left;background-color: #f0f8ff;}#sk-container-id-9 div.sk-toggleable__content pre {margin: 0.2em;color: black;border-radius: 0.25em;background-color: #f0f8ff;}#sk-container-id-9 input.sk-toggleable__control:checked~div.sk-toggleable__content {max-height: 200px;max-width: 100%;overflow: auto;}#sk-container-id-9 input.sk-toggleable__control:checked~label.sk-toggleable__label-arrow:before {content: \"▾\";}#sk-container-id-9 div.sk-estimator input.sk-toggleable__control:checked~label.sk-toggleable__label {background-color: #d4ebff;}#sk-container-id-9 div.sk-label input.sk-toggleable__control:checked~label.sk-toggleable__label {background-color: #d4ebff;}#sk-container-id-9 input.sk-hidden--visually {border: 0;clip: rect(1px 1px 1px 1px);clip: rect(1px, 1px, 1px, 1px);height: 1px;margin: -1px;overflow: hidden;padding: 0;position: absolute;width: 1px;}#sk-container-id-9 div.sk-estimator {font-family: monospace;background-color: #f0f8ff;border: 1px dotted black;border-radius: 0.25em;box-sizing: border-box;margin-bottom: 0.5em;}#sk-container-id-9 div.sk-estimator:hover {background-color: #d4ebff;}#sk-container-id-9 div.sk-parallel-item::after {content: \"\";width: 100%;border-bottom: 1px solid gray;flex-grow: 1;}#sk-container-id-9 div.sk-label:hover label.sk-toggleable__label {background-color: #d4ebff;}#sk-container-id-9 div.sk-serial::before {content: \"\";position: absolute;border-left: 1px solid gray;box-sizing: border-box;top: 0;bottom: 0;left: 50%;z-index: 0;}#sk-container-id-9 div.sk-serial {display: flex;flex-direction: column;align-items: center;background-color: white;padding-right: 0.2em;padding-left: 0.2em;position: relative;}#sk-container-id-9 div.sk-item {position: relative;z-index: 1;}#sk-container-id-9 div.sk-parallel {display: flex;align-items: stretch;justify-content: center;background-color: white;position: relative;}#sk-container-id-9 div.sk-item::before, #sk-container-id-9 div.sk-parallel-item::before {content: \"\";position: absolute;border-left: 1px solid gray;box-sizing: border-box;top: 0;bottom: 0;left: 50%;z-index: -1;}#sk-container-id-9 div.sk-parallel-item {display: flex;flex-direction: column;z-index: 1;position: relative;background-color: white;}#sk-container-id-9 div.sk-parallel-item:first-child::after {align-self: flex-end;width: 50%;}#sk-container-id-9 div.sk-parallel-item:last-child::after {align-self: flex-start;width: 50%;}#sk-container-id-9 div.sk-parallel-item:only-child::after {width: 0;}#sk-container-id-9 div.sk-dashed-wrapped {border: 1px dashed gray;margin: 0 0.4em 0.5em 0.4em;box-sizing: border-box;padding-bottom: 0.4em;background-color: white;}#sk-container-id-9 div.sk-label label {font-family: monospace;font-weight: bold;display: inline-block;line-height: 1.2em;}#sk-container-id-9 div.sk-label-container {text-align: center;}#sk-container-id-9 div.sk-container {/* jupyter's `normalize.less` sets `[hidden] { display: none; }` but bootstrap.min.css set `[hidden] { display: none !important; }` so we also need the `!important` here to be able to override the default hidden behavior on the sphinx rendered scikit-learn.org. See: https://github.com/scikit-learn/scikit-learn/issues/21755 */display: inline-block !important;position: relative;}#sk-container-id-9 div.sk-text-repr-fallback {display: none;}</style><div id=\"sk-container-id-9\" class=\"sk-top-container\"><div class=\"sk-text-repr-fallback\"><pre>DecisionTreeClassifier(random_state=0)</pre><b>In a Jupyter environment, please rerun this cell to show the HTML representation or trust the notebook. <br />On GitHub, the HTML representation is unable to render, please try loading this page with nbviewer.org.</b></div><div class=\"sk-container\" hidden><div class=\"sk-item\"><div class=\"sk-estimator sk-toggleable\"><input class=\"sk-toggleable__control sk-hidden--visually\" id=\"sk-estimator-id-9\" type=\"checkbox\" checked><label for=\"sk-estimator-id-9\" class=\"sk-toggleable__label sk-toggleable__label-arrow\">DecisionTreeClassifier</label><div class=\"sk-toggleable__content\"><pre>DecisionTreeClassifier(random_state=0)</pre></div></div></div></div></div>"
      ],
      "text/plain": [
       "DecisionTreeClassifier(random_state=0)"
      ]
     },
     "execution_count": 256,
     "metadata": {},
     "output_type": "execute_result"
    }
   ],
   "source": [
    "X = df[['Hours']]\n",
    "y = df['Outcome']\n",
    "clf = tree.DecisionTreeClassifier(random_state=0)\n",
    "clf.fit(X,y)"
   ]
  },
  {
   "cell_type": "code",
   "execution_count": 258,
   "id": "a4d6e121-079c-430f-b588-294b75a3c4f2",
   "metadata": {},
   "outputs": [],
   "source": [
    "df['Predict'] = clf.predict(X)"
   ]
  },
  {
   "cell_type": "code",
   "execution_count": 260,
   "id": "b83143c8-73dd-45c4-bd5c-ac4cf91ac4f4",
   "metadata": {},
   "outputs": [
    {
     "name": "stdout",
     "output_type": "stream",
     "text": [
      "              precision    recall  f1-score   support\n",
      "\n",
      "           0       0.93      1.00      0.97        14\n",
      "           1       1.00      0.92      0.96        13\n",
      "\n",
      "    accuracy                           0.96        27\n",
      "   macro avg       0.97      0.96      0.96        27\n",
      "weighted avg       0.97      0.96      0.96        27\n",
      "\n"
     ]
    }
   ],
   "source": [
    "print(classification_report(df['Outcome'], df['Predict']))"
   ]
  },
  {
   "cell_type": "code",
   "execution_count": 261,
   "id": "e46a5153-5e22-4d83-98ad-ed30e3c2a675",
   "metadata": {},
   "outputs": [
    {
     "data": {
      "image/png": "[encoded data removed]",
      "text/plain": [
       "<Figure size 640x480 with 1 Axes>"
      ]
     },
     "metadata": {},
     "output_type": "display_data"
    }
   ],
   "source": [
    "tree.plot_tree(clf)\n",
    "plt.show()"
   ]
  },
  {
   "cell_type": "code",
   "execution_count": 262,
   "id": "1e5a5a90-5a51-45ca-b0ce-b6d7cb26560f",
   "metadata": {},
   "outputs": [
    {
     "data": {
      "text/plain": [
       "4"
      ]
     },
     "execution_count": 262,
     "metadata": {},
     "output_type": "execute_result"
    }
   ],
   "source": [
    "clf.get_depth()"
   ]
  },
  {
   "cell_type": "code",
   "execution_count": 263,
   "id": "06341feb-3b5e-4ef2-bf6c-73075bf96037",
   "metadata": {},
   "outputs": [
    {
     "data": {
      "text/plain": [
       "6"
      ]
     },
     "execution_count": 263,
     "metadata": {},
     "output_type": "execute_result"
    }
   ],
   "source": [
    "clf.get_n_leaves()"
   ]
  },
  {
   "cell_type": "code",
   "execution_count": 264,
   "id": "59fee54d-ca45-4fbc-8536-e2b772bb9d5e",
   "metadata": {},
   "outputs": [
    {
     "data": {
      "text/plain": [
       "11"
      ]
     },
     "execution_count": 264,
     "metadata": {},
     "output_type": "execute_result"
    }
   ],
   "source": [
    "clf.tree_.node_count"
   ]
  },
  {
   "cell_type": "code",
   "execution_count": 265,
   "id": "bbbe05aa-2ffb-4fc9-8820-dafddb89edff",
   "metadata": {},
   "outputs": [
    {
     "name": "stdout",
     "output_type": "stream",
     "text": [
      "              precision    recall  f1-score   support\n",
      "\n",
      "           0       0.88      1.00      0.93        14\n",
      "           1       1.00      0.85      0.92        13\n",
      "\n",
      "    accuracy                           0.93        27\n",
      "   macro avg       0.94      0.92      0.93        27\n",
      "weighted avg       0.94      0.93      0.93        27\n",
      "\n"
     ]
    }
   ],
   "source": [
    "clf2 = tree.DecisionTreeClassifier(random_state=0,max_depth=1)\n",
    "clf2.fit(X,y)\n",
    "print(classification_report(df['Outcome'], clf2.predict(X)))"
   ]
  },
  {
   "cell_type": "code",
   "execution_count": 266,
   "id": "3b4e1d09-e68f-44a5-a553-dff7de5a8c76",
   "metadata": {},
   "outputs": [
    {
     "data": {
      "image/png": "[encoded data removed]",
      "text/plain": [
       "<Figure size 640x480 with 1 Axes>"
      ]
     },
     "metadata": {},
     "output_type": "display_data"
    }
   ],
   "source": [
    "tree.plot_tree(clf2)\n",
    "plt.show()"
   ]
  },
  {
   "cell_type": "markdown",
   "id": "b17bab0e-dae3-437d-bcd7-58e1905e9ae7",
   "metadata": {},
   "source": [
    "## Pruning the Tree with CCP Alpha"
   ]
  },
  {
   "cell_type": "code",
   "execution_count": 268,
   "id": "67160cca-b9e3-4de1-8eb2-ad5bd731536d",
   "metadata": {},
   "outputs": [
    {
     "data": {
      "text/html": [
       "<style>#sk-container-id-10 {color: black;}#sk-container-id-10 pre{padding: 0;}#sk-container-id-10 div.sk-toggleable {background-color: white;}#sk-container-id-10 label.sk-toggleable__label {cursor: pointer;display: block;width: 100%;margin-bottom: 0;padding: 0.3em;box-sizing: border-box;text-align: center;}#sk-container-id-10 label.sk-toggleable__label-arrow:before {content: \"▸\";float: left;margin-right: 0.25em;color: #696969;}#sk-container-id-10 label.sk-toggleable__label-arrow:hover:before {color: black;}#sk-container-id-10 div.sk-estimator:hover label.sk-toggleable__label-arrow:before {color: black;}#sk-container-id-10 div.sk-toggleable__content {max-height: 0;max-width: 0;overflow: hidden;text-align: left;background-color: #f0f8ff;}#sk-container-id-10 div.sk-toggleable__content pre {margin: 0.2em;color: black;border-radius: 0.25em;background-color: #f0f8ff;}#sk-container-id-10 input.sk-toggleable__control:checked~div.sk-toggleable__content {max-height: 200px;max-width: 100%;overflow: auto;}#sk-container-id-10 input.sk-toggleable__control:checked~label.sk-toggleable__label-arrow:before {content: \"▾\";}#sk-container-id-10 div.sk-estimator input.sk-toggleable__control:checked~label.sk-toggleable__label {background-color: #d4ebff;}#sk-container-id-10 div.sk-label input.sk-toggleable__control:checked~label.sk-toggleable__label {background-color: #d4ebff;}#sk-container-id-10 input.sk-hidden--visually {border: 0;clip: rect(1px 1px 1px 1px);clip: rect(1px, 1px, 1px, 1px);height: 1px;margin: -1px;overflow: hidden;padding: 0;position: absolute;width: 1px;}#sk-container-id-10 div.sk-estimator {font-family: monospace;background-color: #f0f8ff;border: 1px dotted black;border-radius: 0.25em;box-sizing: border-box;margin-bottom: 0.5em;}#sk-container-id-10 div.sk-estimator:hover {background-color: #d4ebff;}#sk-container-id-10 div.sk-parallel-item::after {content: \"\";width: 100%;border-bottom: 1px solid gray;flex-grow: 1;}#sk-container-id-10 div.sk-label:hover label.sk-toggleable__label {background-color: #d4ebff;}#sk-container-id-10 div.sk-serial::before {content: \"\";position: absolute;border-left: 1px solid gray;box-sizing: border-box;top: 0;bottom: 0;left: 50%;z-index: 0;}#sk-container-id-10 div.sk-serial {display: flex;flex-direction: column;align-items: center;background-color: white;padding-right: 0.2em;padding-left: 0.2em;position: relative;}#sk-container-id-10 div.sk-item {position: relative;z-index: 1;}#sk-container-id-10 div.sk-parallel {display: flex;align-items: stretch;justify-content: center;background-color: white;position: relative;}#sk-container-id-10 div.sk-item::before, #sk-container-id-10 div.sk-parallel-item::before {content: \"\";position: absolute;border-left: 1px solid gray;box-sizing: border-box;top: 0;bottom: 0;left: 50%;z-index: -1;}#sk-container-id-10 div.sk-parallel-item {display: flex;flex-direction: column;z-index: 1;position: relative;background-color: white;}#sk-container-id-10 div.sk-parallel-item:first-child::after {align-self: flex-end;width: 50%;}#sk-container-id-10 div.sk-parallel-item:last-child::after {align-self: flex-start;width: 50%;}#sk-container-id-10 div.sk-parallel-item:only-child::after {width: 0;}#sk-container-id-10 div.sk-dashed-wrapped {border: 1px dashed gray;margin: 0 0.4em 0.5em 0.4em;box-sizing: border-box;padding-bottom: 0.4em;background-color: white;}#sk-container-id-10 div.sk-label label {font-family: monospace;font-weight: bold;display: inline-block;line-height: 1.2em;}#sk-container-id-10 div.sk-label-container {text-align: center;}#sk-container-id-10 div.sk-container {/* jupyter's `normalize.less` sets `[hidden] { display: none; }` but bootstrap.min.css set `[hidden] { display: none !important; }` so we also need the `!important` here to be able to override the default hidden behavior on the sphinx rendered scikit-learn.org. See: https://github.com/scikit-learn/scikit-learn/issues/21755 */display: inline-block !important;position: relative;}#sk-container-id-10 div.sk-text-repr-fallback {display: none;}</style><div id=\"sk-container-id-10\" class=\"sk-top-container\"><div class=\"sk-text-repr-fallback\"><pre>DecisionTreeClassifier(random_state=0)</pre><b>In a Jupyter environment, please rerun this cell to show the HTML representation or trust the notebook. <br />On GitHub, the HTML representation is unable to render, please try loading this page with nbviewer.org.</b></div><div class=\"sk-container\" hidden><div class=\"sk-item\"><div class=\"sk-estimator sk-toggleable\"><input class=\"sk-toggleable__control sk-hidden--visually\" id=\"sk-estimator-id-10\" type=\"checkbox\" checked><label for=\"sk-estimator-id-10\" class=\"sk-toggleable__label sk-toggleable__label-arrow\">DecisionTreeClassifier</label><div class=\"sk-toggleable__content\"><pre>DecisionTreeClassifier(random_state=0)</pre></div></div></div></div></div>"
      ],
      "text/plain": [
       "DecisionTreeClassifier(random_state=0)"
      ]
     },
     "execution_count": 268,
     "metadata": {},
     "output_type": "execute_result"
    }
   ],
   "source": [
    "clf = tree.DecisionTreeClassifier(random_state=0)  # clf for classifier\n",
    "clf.fit(X, y)\n",
    "# tree.plot_tree(clf)\n",
    "# plt.show()"
   ]
  },
  {
   "cell_type": "code",
   "execution_count": 270,
   "id": "6bd88203-6a20-4532-9a7d-14fc79061c7f",
   "metadata": {},
   "outputs": [],
   "source": [
    "path = clf.cost_complexity_pruning_path(X, y)\n",
    "ccp_alphas, impurities = path.ccp_alphas, path.impurities"
   ]
  },
  {
   "cell_type": "code",
   "execution_count": 271,
   "id": "18ee40ad-14f8-4b48-937c-f0f616714ecd",
   "metadata": {},
   "outputs": [
    {
     "data": {
      "text/plain": [
       "array([0.        , 0.00970018, 0.03042328, 0.3696845 ])"
      ]
     },
     "execution_count": 271,
     "metadata": {},
     "output_type": "execute_result"
    }
   ],
   "source": [
    "ccp_alphas"
   ]
  },
  {
   "cell_type": "code",
   "execution_count": 272,
   "id": "4fe0400d-4e3d-444c-a1a4-e6abfc0820bd",
   "metadata": {},
   "outputs": [],
   "source": [
    "clf2 = tree.DecisionTreeClassifier(random_state=0, ccp_alpha=0.00970018)"
   ]
  },
  {
   "cell_type": "markdown",
   "id": "222c8969-0936-4570-8ba5-ba6673f3fcb1",
   "metadata": {},
   "source": [
    "## Car Purchase Data Set - Decision Tree"
   ]
  },
  {
   "cell_type": "code",
   "execution_count": 273,
   "id": "1f829aa1-73df-43d9-af7e-36e2b92408a9",
   "metadata": {},
   "outputs": [],
   "source": [
    "df = pd.read_csv('ExData/car_data.csv', index_col=['User ID'])"
   ]
  },
  {
   "cell_type": "code",
   "execution_count": 309,
   "id": "714f5719-aa76-4ee7-9dd0-64f3c5db31d6",
   "metadata": {},
   "outputs": [
    {
     "data": {
      "text/html": [
       "<style>#sk-container-id-19 {color: black;}#sk-container-id-19 pre{padding: 0;}#sk-container-id-19 div.sk-toggleable {background-color: white;}#sk-container-id-19 label.sk-toggleable__label {cursor: pointer;display: block;width: 100%;margin-bottom: 0;padding: 0.3em;box-sizing: border-box;text-align: center;}#sk-container-id-19 label.sk-toggleable__label-arrow:before {content: \"▸\";float: left;margin-right: 0.25em;color: #696969;}#sk-container-id-19 label.sk-toggleable__label-arrow:hover:before {color: black;}#sk-container-id-19 div.sk-estimator:hover label.sk-toggleable__label-arrow:before {color: black;}#sk-container-id-19 div.sk-toggleable__content {max-height: 0;max-width: 0;overflow: hidden;text-align: left;background-color: #f0f8ff;}#sk-container-id-19 div.sk-toggleable__content pre {margin: 0.2em;color: black;border-radius: 0.25em;background-color: #f0f8ff;}#sk-container-id-19 input.sk-toggleable__control:checked~div.sk-toggleable__content {max-height: 200px;max-width: 100%;overflow: auto;}#sk-container-id-19 input.sk-toggleable__control:checked~label.sk-toggleable__label-arrow:before {content: \"▾\";}#sk-container-id-19 div.sk-estimator input.sk-toggleable__control:checked~label.sk-toggleable__label {background-color: #d4ebff;}#sk-container-id-19 div.sk-label input.sk-toggleable__control:checked~label.sk-toggleable__label {background-color: #d4ebff;}#sk-container-id-19 input.sk-hidden--visually {border: 0;clip: rect(1px 1px 1px 1px);clip: rect(1px, 1px, 1px, 1px);height: 1px;margin: -1px;overflow: hidden;padding: 0;position: absolute;width: 1px;}#sk-container-id-19 div.sk-estimator {font-family: monospace;background-color: #f0f8ff;border: 1px dotted black;border-radius: 0.25em;box-sizing: border-box;margin-bottom: 0.5em;}#sk-container-id-19 div.sk-estimator:hover {background-color: #d4ebff;}#sk-container-id-19 div.sk-parallel-item::after {content: \"\";width: 100%;border-bottom: 1px solid gray;flex-grow: 1;}#sk-container-id-19 div.sk-label:hover label.sk-toggleable__label {background-color: #d4ebff;}#sk-container-id-19 div.sk-serial::before {content: \"\";position: absolute;border-left: 1px solid gray;box-sizing: border-box;top: 0;bottom: 0;left: 50%;z-index: 0;}#sk-container-id-19 div.sk-serial {display: flex;flex-direction: column;align-items: center;background-color: white;padding-right: 0.2em;padding-left: 0.2em;position: relative;}#sk-container-id-19 div.sk-item {position: relative;z-index: 1;}#sk-container-id-19 div.sk-parallel {display: flex;align-items: stretch;justify-content: center;background-color: white;position: relative;}#sk-container-id-19 div.sk-item::before, #sk-container-id-19 div.sk-parallel-item::before {content: \"\";position: absolute;border-left: 1px solid gray;box-sizing: border-box;top: 0;bottom: 0;left: 50%;z-index: -1;}#sk-container-id-19 div.sk-parallel-item {display: flex;flex-direction: column;z-index: 1;position: relative;background-color: white;}#sk-container-id-19 div.sk-parallel-item:first-child::after {align-self: flex-end;width: 50%;}#sk-container-id-19 div.sk-parallel-item:last-child::after {align-self: flex-start;width: 50%;}#sk-container-id-19 div.sk-parallel-item:only-child::after {width: 0;}#sk-container-id-19 div.sk-dashed-wrapped {border: 1px dashed gray;margin: 0 0.4em 0.5em 0.4em;box-sizing: border-box;padding-bottom: 0.4em;background-color: white;}#sk-container-id-19 div.sk-label label {font-family: monospace;font-weight: bold;display: inline-block;line-height: 1.2em;}#sk-container-id-19 div.sk-label-container {text-align: center;}#sk-container-id-19 div.sk-container {/* jupyter's `normalize.less` sets `[hidden] { display: none; }` but bootstrap.min.css set `[hidden] { display: none !important; }` so we also need the `!important` here to be able to override the default hidden behavior on the sphinx rendered scikit-learn.org. See: https://github.com/scikit-learn/scikit-learn/issues/21755 */display: inline-block !important;position: relative;}#sk-container-id-19 div.sk-text-repr-fallback {display: none;}</style><div id=\"sk-container-id-19\" class=\"sk-top-container\"><div class=\"sk-text-repr-fallback\"><pre>DecisionTreeClassifier(random_state=0)</pre><b>In a Jupyter environment, please rerun this cell to show the HTML representation or trust the notebook. <br />On GitHub, the HTML representation is unable to render, please try loading this page with nbviewer.org.</b></div><div class=\"sk-container\" hidden><div class=\"sk-item\"><div class=\"sk-estimator sk-toggleable\"><input class=\"sk-toggleable__control sk-hidden--visually\" id=\"sk-estimator-id-19\" type=\"checkbox\" checked><label for=\"sk-estimator-id-19\" class=\"sk-toggleable__label sk-toggleable__label-arrow\">DecisionTreeClassifier</label><div class=\"sk-toggleable__content\"><pre>DecisionTreeClassifier(random_state=0)</pre></div></div></div></div></div>"
      ],
      "text/plain": [
       "DecisionTreeClassifier(random_state=0)"
      ]
     },
     "execution_count": 309,
     "metadata": {},
     "output_type": "execute_result"
    }
   ],
   "source": [
    "X = df[['Age','AnnualSalary']]\n",
    "y = df['Purchased']\n",
    "clf = tree.DecisionTreeClassifier(random_state=0) #ma\n",
    "clf.fit(X,y)"
   ]
  },
  {
   "cell_type": "code",
   "execution_count": 312,
   "id": "164a62dd-2f1d-40a7-b47d-61a1fe51fff1",
   "metadata": {},
   "outputs": [
    {
     "data": {
      "text/plain": [
       "0.991"
      ]
     },
     "execution_count": 312,
     "metadata": {},
     "output_type": "execute_result"
    }
   ],
   "source": [
    "clf.score(X,y)"
   ]
  },
  {
   "cell_type": "code",
   "execution_count": 311,
   "id": "235b7b49-17e5-404f-803b-f72f6bcba665",
   "metadata": {},
   "outputs": [
    {
     "data": {
      "text/plain": [
       "array([[598,   0],\n",
       "       [  9, 393]], dtype=int64)"
      ]
     },
     "execution_count": 311,
     "metadata": {},
     "output_type": "execute_result"
    }
   ],
   "source": [
    "confusion_matrix(y, clf.predict(X))"
   ]
  },
  {
   "cell_type": "code",
   "execution_count": 313,
   "id": "311762d9-b62a-4e28-b1a9-fc1951c48349",
   "metadata": {},
   "outputs": [
    {
     "name": "stdout",
     "output_type": "stream",
     "text": [
      "              precision    recall  f1-score   support\n",
      "\n",
      "           0       0.99      1.00      0.99       598\n",
      "           1       1.00      0.98      0.99       402\n",
      "\n",
      "    accuracy                           0.99      1000\n",
      "   macro avg       0.99      0.99      0.99      1000\n",
      "weighted avg       0.99      0.99      0.99      1000\n",
      "\n"
     ]
    }
   ],
   "source": [
    "print(classification_report(y, clf.predict(X)))"
   ]
  },
  {
   "cell_type": "code",
   "execution_count": 306,
   "id": "1e73b7f2-978c-44ec-8d63-c7723019638d",
   "metadata": {},
   "outputs": [
    {
     "data": {
      "text/plain": [
       "(7, 2)"
      ]
     },
     "execution_count": 306,
     "metadata": {},
     "output_type": "execute_result"
    }
   ],
   "source": [
    "clf.tree_.node_count, clf.get_depth()"
   ]
  },
  {
   "cell_type": "code",
   "execution_count": 314,
   "id": "0a65e354-e8a3-4c41-a820-ca13ebe54a91",
   "metadata": {},
   "outputs": [
    {
     "data": {
      "image/png": "[encoded data removed]",
      "text/plain": [
       "<Figure size 640x480 with 1 Axes>"
      ]
     },
     "metadata": {},
     "output_type": "display_data"
    }
   ],
   "source": [
    "tree.plot_tree(clf)\n",
    "plt.show()"
   ]
  },
  {
   "cell_type": "markdown",
   "id": "ad882e7a-3d30-4edd-a581-418a66d9760c",
   "metadata": {},
   "source": [
    "## \"Homework\"\n",
    "- DecistionTreeAssignment -- takeup will be tomorrow morning"
   ]
  }
 ],
 "metadata": {
  "kernelspec": {
   "display_name": "Python 3 (ipykernel)",
   "language": "python",
   "name": "python3"
  },
  "language_info": {
   "codemirror_mode": {
    "name": "ipython",
    "version": 3
   },
   "file_extension": ".py",
   "mimetype": "text/x-python",
   "name": "python",
   "nbconvert_exporter": "python",
   "pygments_lexer": "ipython3",
   "version": "3.8.10"
  }
 },
 "nbformat": 4,
 "nbformat_minor": 5
}
