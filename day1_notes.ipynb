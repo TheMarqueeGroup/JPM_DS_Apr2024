{
 "cells": [
  {
   "cell_type": "code",
   "execution_count": 1,
   "metadata": {
    "collapsed": true,
    "jupyter": {
     "outputs_hidden": true
    }
   },
   "outputs": [],
   "source": [
    "x = 5"
   ]
  },
  {
   "cell_type": "markdown",
   "metadata": {},
   "source": [
    "# Intro to Jupyter\n",
    "## Shortcuts\n",
    "- running code: CTRL ENTER\n",
    "    - running code and move on to the next cell: SHIFT ENTER \n",
    "- two versions of boxes: markdown vs cells\n",
    "- SHIFT TAB within the brackets of a formulas --> will show you hints"
   ]
  },
  {
   "cell_type": "code",
   "execution_count": 18,
   "metadata": {},
   "outputs": [],
   "source": [
    "#import bogfunctions as bt\n",
    "#bt.fnCube(5)"
   ]
  },
  {
   "cell_type": "markdown",
   "metadata": {},
   "source": [
    "# Intro to Pandas"
   ]
  },
  {
   "cell_type": "markdown",
   "metadata": {},
   "source": [
    "## Importing and Exploring Data"
   ]
  },
  {
   "cell_type": "code",
   "execution_count": 3,
   "metadata": {
    "collapsed": false,
    "jupyter": {
     "outputs_hidden": false
    }
   },
   "outputs": [],
   "source": [
    "import pandas as pd\n",
    "df = pd.read_csv('StockData/SP500.csv')\n",
    "\n",
    "#comments\n",
    "\n",
    "#notes to yourself"
   ]
  },
  {
   "cell_type": "code",
   "execution_count": 12,
   "metadata": {},
   "outputs": [
    {
     "name": "stdout",
     "output_type": "stream",
     "text": [
      "Bogdan\n",
      "Tudose\n"
     ]
    }
   ],
   "source": [
    "text = \"Bogdan\\nTudose\"\n",
    "print(text)"
   ]
  },
  {
   "cell_type": "code",
   "execution_count": 15,
   "metadata": {},
   "outputs": [],
   "source": [
    "#df2 = pd.read_csv(r'\\\\NAEAST.AD.JPMORGANCHASE.COM\\HOME2\\NAHOME00002\\V806013\\jpmDesk\\Desktop\\DS Apr 2024\\Python Project\\StockData\\aapl.csv')\n"
   ]
  },
  {
   "cell_type": "code",
   "execution_count": 14,
   "metadata": {},
   "outputs": [
    {
     "data": {
      "text/html": [
       "<div>\n",
       "<style scoped>\n",
       "    .dataframe tbody tr th:only-of-type {\n",
       "        vertical-align: middle;\n",
       "    }\n",
       "\n",
       "    .dataframe tbody tr th {\n",
       "        vertical-align: top;\n",
       "    }\n",
       "\n",
       "    .dataframe thead th {\n",
       "        text-align: right;\n",
       "    }\n",
       "</style>\n",
       "<table border=\"1\" class=\"dataframe\">\n",
       "  <thead>\n",
       "    <tr style=\"text-align: right;\">\n",
       "      <th></th>\n",
       "      <th>Date</th>\n",
       "      <th>Open</th>\n",
       "      <th>High</th>\n",
       "      <th>Low</th>\n",
       "      <th>Close</th>\n",
       "      <th>Adj Close</th>\n",
       "      <th>Volume</th>\n",
       "    </tr>\n",
       "  </thead>\n",
       "  <tbody>\n",
       "    <tr>\n",
       "      <th>0</th>\n",
       "      <td>10/01/13</td>\n",
       "      <td>68.349998</td>\n",
       "      <td>69.877144</td>\n",
       "      <td>68.339996</td>\n",
       "      <td>69.708572</td>\n",
       "      <td>63.523125</td>\n",
       "      <td>88470900</td>\n",
       "    </tr>\n",
       "    <tr>\n",
       "      <th>1</th>\n",
       "      <td>10/02/13</td>\n",
       "      <td>69.375717</td>\n",
       "      <td>70.257141</td>\n",
       "      <td>69.107140</td>\n",
       "      <td>69.937141</td>\n",
       "      <td>63.731426</td>\n",
       "      <td>72296000</td>\n",
       "    </tr>\n",
       "    <tr>\n",
       "      <th>2</th>\n",
       "      <td>10/03/13</td>\n",
       "      <td>70.072861</td>\n",
       "      <td>70.335716</td>\n",
       "      <td>68.677139</td>\n",
       "      <td>69.058571</td>\n",
       "      <td>62.930801</td>\n",
       "      <td>80688300</td>\n",
       "    </tr>\n",
       "    <tr>\n",
       "      <th>3</th>\n",
       "      <td>10/04/13</td>\n",
       "      <td>69.122856</td>\n",
       "      <td>69.228569</td>\n",
       "      <td>68.371429</td>\n",
       "      <td>69.004288</td>\n",
       "      <td>62.881340</td>\n",
       "      <td>64717100</td>\n",
       "    </tr>\n",
       "    <tr>\n",
       "      <th>4</th>\n",
       "      <td>10/07/13</td>\n",
       "      <td>69.508568</td>\n",
       "      <td>70.378571</td>\n",
       "      <td>69.335716</td>\n",
       "      <td>69.678574</td>\n",
       "      <td>63.495800</td>\n",
       "      <td>78073100</td>\n",
       "    </tr>\n",
       "  </tbody>\n",
       "</table>\n",
       "</div>"
      ],
      "text/plain": [
       "       Date       Open       High        Low      Close  Adj Close    Volume\n",
       "0  10/01/13  68.349998  69.877144  68.339996  69.708572  63.523125  88470900\n",
       "1  10/02/13  69.375717  70.257141  69.107140  69.937141  63.731426  72296000\n",
       "2  10/03/13  70.072861  70.335716  68.677139  69.058571  62.930801  80688300\n",
       "3  10/04/13  69.122856  69.228569  68.371429  69.004288  62.881340  64717100\n",
       "4  10/07/13  69.508568  70.378571  69.335716  69.678574  63.495800  78073100"
      ]
     },
     "execution_count": 14,
     "metadata": {},
     "output_type": "execute_result"
    }
   ],
   "source": [
    "df2.head()"
   ]
  },
  {
   "cell_type": "code",
   "execution_count": 4,
   "metadata": {
    "collapsed": false,
    "jupyter": {
     "outputs_hidden": false
    }
   },
   "outputs": [
    {
     "data": {
      "text/html": [
       "<div>\n",
       "<style scoped>\n",
       "    .dataframe tbody tr th:only-of-type {\n",
       "        vertical-align: middle;\n",
       "    }\n",
       "\n",
       "    .dataframe tbody tr th {\n",
       "        vertical-align: top;\n",
       "    }\n",
       "\n",
       "    .dataframe thead th {\n",
       "        text-align: right;\n",
       "    }\n",
       "</style>\n",
       "<table border=\"1\" class=\"dataframe\">\n",
       "  <thead>\n",
       "    <tr style=\"text-align: right;\">\n",
       "      <th></th>\n",
       "      <th>Date</th>\n",
       "      <th>Open</th>\n",
       "      <th>High</th>\n",
       "      <th>Low</th>\n",
       "      <th>Close</th>\n",
       "      <th>Adj Close</th>\n",
       "      <th>Volume</th>\n",
       "    </tr>\n",
       "  </thead>\n",
       "  <tbody>\n",
       "    <tr>\n",
       "      <th>0</th>\n",
       "      <td>9/30/13</td>\n",
       "      <td>1687.260010</td>\n",
       "      <td>1687.260010</td>\n",
       "      <td>1674.989990</td>\n",
       "      <td>1681.550049</td>\n",
       "      <td>1681.550049</td>\n",
       "      <td>3308630000</td>\n",
       "    </tr>\n",
       "    <tr>\n",
       "      <th>1</th>\n",
       "      <td>10/01/13</td>\n",
       "      <td>1682.410034</td>\n",
       "      <td>1696.550049</td>\n",
       "      <td>1682.069946</td>\n",
       "      <td>1695.000000</td>\n",
       "      <td>1695.000000</td>\n",
       "      <td>3238690000</td>\n",
       "    </tr>\n",
       "    <tr>\n",
       "      <th>2</th>\n",
       "      <td>10/02/13</td>\n",
       "      <td>1691.900024</td>\n",
       "      <td>1693.869995</td>\n",
       "      <td>1680.339966</td>\n",
       "      <td>1693.869995</td>\n",
       "      <td>1693.869995</td>\n",
       "      <td>3148600000</td>\n",
       "    </tr>\n",
       "    <tr>\n",
       "      <th>3</th>\n",
       "      <td>10/03/13</td>\n",
       "      <td>1692.349976</td>\n",
       "      <td>1692.349976</td>\n",
       "      <td>1670.359985</td>\n",
       "      <td>1678.660034</td>\n",
       "      <td>1678.660034</td>\n",
       "      <td>3279650000</td>\n",
       "    </tr>\n",
       "    <tr>\n",
       "      <th>4</th>\n",
       "      <td>10/04/13</td>\n",
       "      <td>1678.790039</td>\n",
       "      <td>1691.939941</td>\n",
       "      <td>1677.329956</td>\n",
       "      <td>1690.500000</td>\n",
       "      <td>1690.500000</td>\n",
       "      <td>2880270000</td>\n",
       "    </tr>\n",
       "  </tbody>\n",
       "</table>\n",
       "</div>"
      ],
      "text/plain": [
       "       Date         Open         High          Low        Close    Adj Close  \\\n",
       "0   9/30/13  1687.260010  1687.260010  1674.989990  1681.550049  1681.550049   \n",
       "1  10/01/13  1682.410034  1696.550049  1682.069946  1695.000000  1695.000000   \n",
       "2  10/02/13  1691.900024  1693.869995  1680.339966  1693.869995  1693.869995   \n",
       "3  10/03/13  1692.349976  1692.349976  1670.359985  1678.660034  1678.660034   \n",
       "4  10/04/13  1678.790039  1691.939941  1677.329956  1690.500000  1690.500000   \n",
       "\n",
       "       Volume  \n",
       "0  3308630000  \n",
       "1  3238690000  \n",
       "2  3148600000  \n",
       "3  3279650000  \n",
       "4  2880270000  "
      ]
     },
     "execution_count": 4,
     "metadata": {},
     "output_type": "execute_result"
    }
   ],
   "source": [
    "df.head()"
   ]
  },
  {
   "cell_type": "code",
   "execution_count": 9,
   "metadata": {
    "collapsed": false,
    "jupyter": {
     "outputs_hidden": false
    }
   },
   "outputs": [
    {
     "data": {
      "text/html": [
       "<div>\n",
       "<style scoped>\n",
       "    .dataframe tbody tr th:only-of-type {\n",
       "        vertical-align: middle;\n",
       "    }\n",
       "\n",
       "    .dataframe tbody tr th {\n",
       "        vertical-align: top;\n",
       "    }\n",
       "\n",
       "    .dataframe thead th {\n",
       "        text-align: right;\n",
       "    }\n",
       "</style>\n",
       "<table border=\"1\" class=\"dataframe\">\n",
       "  <thead>\n",
       "    <tr style=\"text-align: right;\">\n",
       "      <th></th>\n",
       "      <th>DATE</th>\n",
       "      <th>ISSUER</th>\n",
       "      <th>TYPE</th>\n",
       "      <th>SIZE</th>\n",
       "      <th>INDUSTRY</th>\n",
       "      <th>LEAD UNDERWRITER</th>\n",
       "    </tr>\n",
       "  </thead>\n",
       "  <tbody>\n",
       "    <tr>\n",
       "      <th>0</th>\n",
       "      <td>2006-01-28</td>\n",
       "      <td>US Bank N.A.</td>\n",
       "      <td>Global Notes</td>\n",
       "      <td>1000.21</td>\n",
       "      <td>Finance</td>\n",
       "      <td>Lehman Brothers</td>\n",
       "    </tr>\n",
       "    <tr>\n",
       "      <th>1</th>\n",
       "      <td>2006-01-28</td>\n",
       "      <td>Alliance National Muni Income Fund</td>\n",
       "      <td>Initial Public Offering</td>\n",
       "      <td>283.6</td>\n",
       "      <td>Finance</td>\n",
       "      <td>Salomon Smith Barney</td>\n",
       "    </tr>\n",
       "    <tr>\n",
       "      <th>2</th>\n",
       "      <td>2006-01-28</td>\n",
       "      <td>Lloyds Bank Plc NY</td>\n",
       "      <td>CD Notes</td>\n",
       "      <td>200.58</td>\n",
       "      <td>Finance</td>\n",
       "      <td>Merrill Lynch</td>\n",
       "    </tr>\n",
       "    <tr>\n",
       "      <th>3</th>\n",
       "      <td>2006-01-28</td>\n",
       "      <td>FBR Asset Investment Corp</td>\n",
       "      <td>Equity Follow-On Offering</td>\n",
       "      <td>127.2</td>\n",
       "      <td>Real Estate</td>\n",
       "      <td>Friedman, Billings, Ramsey</td>\n",
       "    </tr>\n",
       "    <tr>\n",
       "      <th>4</th>\n",
       "      <td>2006-01-28</td>\n",
       "      <td>Alliance California Muni Income Fund</td>\n",
       "      <td>Initial Public Offering</td>\n",
       "      <td>117.1</td>\n",
       "      <td>Finance</td>\n",
       "      <td>Salomon Smith Barney</td>\n",
       "    </tr>\n",
       "  </tbody>\n",
       "</table>\n",
       "</div>"
      ],
      "text/plain": [
       "        DATE                                 ISSUER  \\\n",
       "0 2006-01-28                          US Bank N.A.    \n",
       "1 2006-01-28    Alliance National Muni Income Fund    \n",
       "2 2006-01-28                    Lloyds Bank Plc NY    \n",
       "3 2006-01-28             FBR Asset Investment Corp    \n",
       "4 2006-01-28  Alliance California Muni Income Fund    \n",
       "\n",
       "                        TYPE     SIZE     INDUSTRY            LEAD UNDERWRITER  \n",
       "0               Global Notes  1000.21      Finance             Lehman Brothers  \n",
       "1    Initial Public Offering    283.6      Finance        Salomon Smith Barney  \n",
       "2                   CD Notes   200.58      Finance               Merrill Lynch  \n",
       "3  Equity Follow-On Offering    127.2  Real Estate  Friedman, Billings, Ramsey  \n",
       "4    Initial Public Offering    117.1      Finance        Salomon Smith Barney  "
      ]
     },
     "execution_count": 9,
     "metadata": {},
     "output_type": "execute_result"
    }
   ],
   "source": [
    "finDeals = pd.read_excel('ExData/Data Manipulation Worksheet.xlsx') #SHIFT TAB\n",
    "    #table with financial deals\n",
    "finDeals.head()"
   ]
  },
  {
   "cell_type": "code",
   "execution_count": 8,
   "metadata": {},
   "outputs": [],
   "source": [
    "#!pip install openpyxl"
   ]
  },
  {
   "cell_type": "markdown",
   "metadata": {},
   "source": [
    "**Tips for exploring data with pandas**\n",
    "- `.info()`, `.head()`, `.tail()`\n",
    "    - check the data types (dates should be datetime, numbers should be int or float)\n",
    "    - make sure there are no blanks\n",
    "\n",
    "- method --> is like a function that works for specific objects/data types\n",
    "    - pandas --> DataFrame object --> table\n",
    "    - dataframe methods --> formulas that go at the end of the table name\n",
    "    - table.info()\n",
    "- function --> is more generic, it doesn't go at the end of a variable\n",
    "    - read_csv(inputs, inputs)\n",
    " \n",
    "- deal with blank columns\n",
    "    - .fillna() or .dropna()"
   ]
  },
  {
   "cell_type": "code",
   "execution_count": 19,
   "metadata": {},
   "outputs": [
    {
     "name": "stdout",
     "output_type": "stream",
     "text": [
      "<class 'pandas.core.frame.DataFrame'>\n",
      "RangeIndex: 1260 entries, 0 to 1259\n",
      "Data columns (total 7 columns):\n",
      " #   Column     Non-Null Count  Dtype  \n",
      "---  ------     --------------  -----  \n",
      " 0   Date       1260 non-null   object \n",
      " 1   Open       1260 non-null   float64\n",
      " 2   High       1260 non-null   float64\n",
      " 3   Low        1260 non-null   float64\n",
      " 4   Close      1260 non-null   float64\n",
      " 5   Adj Close  1260 non-null   float64\n",
      " 6   Volume     1260 non-null   int64  \n",
      "dtypes: float64(5), int64(1), object(1)\n",
      "memory usage: 69.0+ KB\n"
     ]
    }
   ],
   "source": [
    "df.info()"
   ]
  },
  {
   "cell_type": "code",
   "execution_count": 20,
   "metadata": {},
   "outputs": [
    {
     "name": "stdout",
     "output_type": "stream",
     "text": [
      "<class 'pandas.core.frame.DataFrame'>\n",
      "RangeIndex: 568 entries, 0 to 567\n",
      "Data columns (total 6 columns):\n",
      " #   Column            Non-Null Count  Dtype         \n",
      "---  ------            --------------  -----         \n",
      " 0   DATE              557 non-null    datetime64[ns]\n",
      " 1   ISSUER            564 non-null    object        \n",
      " 2   TYPE              558 non-null    object        \n",
      " 3   SIZE              558 non-null    object        \n",
      " 4   INDUSTRY          557 non-null    object        \n",
      " 5   LEAD UNDERWRITER  557 non-null    object        \n",
      "dtypes: datetime64[ns](1), object(5)\n",
      "memory usage: 26.8+ KB\n"
     ]
    }
   ],
   "source": [
    "finDeals.info()"
   ]
  },
  {
   "cell_type": "code",
   "execution_count": 23,
   "metadata": {},
   "outputs": [
    {
     "data": {
      "text/html": [
       "<div>\n",
       "<style scoped>\n",
       "    .dataframe tbody tr th:only-of-type {\n",
       "        vertical-align: middle;\n",
       "    }\n",
       "\n",
       "    .dataframe tbody tr th {\n",
       "        vertical-align: top;\n",
       "    }\n",
       "\n",
       "    .dataframe thead th {\n",
       "        text-align: right;\n",
       "    }\n",
       "</style>\n",
       "<table border=\"1\" class=\"dataframe\">\n",
       "  <thead>\n",
       "    <tr style=\"text-align: right;\">\n",
       "      <th></th>\n",
       "      <th>DATE</th>\n",
       "      <th>ISSUER</th>\n",
       "      <th>TYPE</th>\n",
       "      <th>SIZE</th>\n",
       "      <th>INDUSTRY</th>\n",
       "      <th>LEAD UNDERWRITER</th>\n",
       "    </tr>\n",
       "  </thead>\n",
       "  <tbody>\n",
       "    <tr>\n",
       "      <th>548</th>\n",
       "      <td>2006-06-19</td>\n",
       "      <td>Comerica Bank</td>\n",
       "      <td>CD Notes</td>\n",
       "      <td>300.11</td>\n",
       "      <td>Finance</td>\n",
       "      <td>Merrill Lynch</td>\n",
       "    </tr>\n",
       "    <tr>\n",
       "      <th>549</th>\n",
       "      <td>2006-06-19</td>\n",
       "      <td>Consolidated Edison Inc.</td>\n",
       "      <td>Notes</td>\n",
       "      <td>300.12</td>\n",
       "      <td>Utility</td>\n",
       "      <td>Salomon Smith Barney</td>\n",
       "    </tr>\n",
       "    <tr>\n",
       "      <th>550</th>\n",
       "      <td>2006-06-20</td>\n",
       "      <td>MBNA Capital Securities D</td>\n",
       "      <td>Preferred Securities</td>\n",
       "      <td>300.1</td>\n",
       "      <td>Finance</td>\n",
       "      <td>Salomon Smith Barney</td>\n",
       "    </tr>\n",
       "    <tr>\n",
       "      <th>551</th>\n",
       "      <td>2006-06-20</td>\n",
       "      <td>Anworth Mortgage Asset Corp</td>\n",
       "      <td>Equity Follow-On Offering</td>\n",
       "      <td>117</td>\n",
       "      <td>Real Estate</td>\n",
       "      <td>Friedman, Billings, Ramsey</td>\n",
       "    </tr>\n",
       "    <tr>\n",
       "      <th>552</th>\n",
       "      <td>2006-06-21</td>\n",
       "      <td>Alabama Power Company</td>\n",
       "      <td>Sr Notes</td>\n",
       "      <td>350</td>\n",
       "      <td>Utility</td>\n",
       "      <td>Lehman Brothers</td>\n",
       "    </tr>\n",
       "    <tr>\n",
       "      <th>553</th>\n",
       "      <td>2006-06-21</td>\n",
       "      <td>Sears Roebuck Acceptance Corp</td>\n",
       "      <td>Sr Notes</td>\n",
       "      <td>250.1</td>\n",
       "      <td>Finance</td>\n",
       "      <td>Merrill Lynch</td>\n",
       "    </tr>\n",
       "    <tr>\n",
       "      <th>554</th>\n",
       "      <td>2006-06-21</td>\n",
       "      <td>DQE Inc</td>\n",
       "      <td>Equity Follow-On Offering</td>\n",
       "      <td>202.5</td>\n",
       "      <td>Utility</td>\n",
       "      <td>Lehman Brothers</td>\n",
       "    </tr>\n",
       "    <tr>\n",
       "      <th>555</th>\n",
       "      <td>2006-06-21</td>\n",
       "      <td>MassMutual</td>\n",
       "      <td>Global Notes</td>\n",
       "      <td>200.1</td>\n",
       "      <td>Finance</td>\n",
       "      <td>Morgan Stanley</td>\n",
       "    </tr>\n",
       "    <tr>\n",
       "      <th>556</th>\n",
       "      <td>2006-06-21</td>\n",
       "      <td>Conceptus Inc</td>\n",
       "      <td>Equity Follow-On Offering</td>\n",
       "      <td>72</td>\n",
       "      <td>Healthcare</td>\n",
       "      <td>UBS Warburg</td>\n",
       "    </tr>\n",
       "    <tr>\n",
       "      <th>557</th>\n",
       "      <td>NaT</td>\n",
       "      <td>NaN</td>\n",
       "      <td>NaN</td>\n",
       "      <td>NaN</td>\n",
       "      <td>NaN</td>\n",
       "      <td>NaN</td>\n",
       "    </tr>\n",
       "    <tr>\n",
       "      <th>558</th>\n",
       "      <td>NaT</td>\n",
       "      <td>NaN</td>\n",
       "      <td>NaN</td>\n",
       "      <td>NaN</td>\n",
       "      <td>NaN</td>\n",
       "      <td>NaN</td>\n",
       "    </tr>\n",
       "    <tr>\n",
       "      <th>559</th>\n",
       "      <td>NaT</td>\n",
       "      <td>NaN</td>\n",
       "      <td>NaN</td>\n",
       "      <td>NaN</td>\n",
       "      <td>NaN</td>\n",
       "      <td>NaN</td>\n",
       "    </tr>\n",
       "    <tr>\n",
       "      <th>560</th>\n",
       "      <td>NaT</td>\n",
       "      <td>NaN</td>\n",
       "      <td>NaN</td>\n",
       "      <td>NaN</td>\n",
       "      <td>NaN</td>\n",
       "      <td>NaN</td>\n",
       "    </tr>\n",
       "    <tr>\n",
       "      <th>561</th>\n",
       "      <td>NaT</td>\n",
       "      <td>ISSUER</td>\n",
       "      <td>LEAD UNDERWRITER</td>\n",
       "      <td>SIZE</td>\n",
       "      <td>NaN</td>\n",
       "      <td>NaN</td>\n",
       "    </tr>\n",
       "    <tr>\n",
       "      <th>562</th>\n",
       "      <td>NaT</td>\n",
       "      <td>Linens 'n Things Inc</td>\n",
       "      <td>NaN</td>\n",
       "      <td>NaN</td>\n",
       "      <td>NaN</td>\n",
       "      <td>NaN</td>\n",
       "    </tr>\n",
       "    <tr>\n",
       "      <th>563</th>\n",
       "      <td>NaT</td>\n",
       "      <td>MBNA Capital Securities D</td>\n",
       "      <td>NaN</td>\n",
       "      <td>NaN</td>\n",
       "      <td>NaN</td>\n",
       "      <td>NaN</td>\n",
       "    </tr>\n",
       "    <tr>\n",
       "      <th>564</th>\n",
       "      <td>NaT</td>\n",
       "      <td>Husky Oil Ltd.</td>\n",
       "      <td>NaN</td>\n",
       "      <td>NaN</td>\n",
       "      <td>NaN</td>\n",
       "      <td>NaN</td>\n",
       "    </tr>\n",
       "    <tr>\n",
       "      <th>565</th>\n",
       "      <td>NaT</td>\n",
       "      <td>ProQuest Co</td>\n",
       "      <td>NaN</td>\n",
       "      <td>NaN</td>\n",
       "      <td>NaN</td>\n",
       "      <td>NaN</td>\n",
       "    </tr>\n",
       "    <tr>\n",
       "      <th>566</th>\n",
       "      <td>NaT</td>\n",
       "      <td>TXU Corp</td>\n",
       "      <td>NaN</td>\n",
       "      <td>NaN</td>\n",
       "      <td>NaN</td>\n",
       "      <td>NaN</td>\n",
       "    </tr>\n",
       "    <tr>\n",
       "      <th>567</th>\n",
       "      <td>NaT</td>\n",
       "      <td>United Dominion Realty Trust Inc.</td>\n",
       "      <td>NaN</td>\n",
       "      <td>NaN</td>\n",
       "      <td>NaN</td>\n",
       "      <td>NaN</td>\n",
       "    </tr>\n",
       "  </tbody>\n",
       "</table>\n",
       "</div>"
      ],
      "text/plain": [
       "          DATE                              ISSUER                       TYPE  \\\n",
       "548 2006-06-19                      Comerica Bank                    CD Notes   \n",
       "549 2006-06-19           Consolidated Edison Inc.                       Notes   \n",
       "550 2006-06-20          MBNA Capital Securities D        Preferred Securities   \n",
       "551 2006-06-20        Anworth Mortgage Asset Corp   Equity Follow-On Offering   \n",
       "552 2006-06-21              Alabama Power Company                    Sr Notes   \n",
       "553 2006-06-21      Sears Roebuck Acceptance Corp                    Sr Notes   \n",
       "554 2006-06-21                            DQE Inc   Equity Follow-On Offering   \n",
       "555 2006-06-21                         MassMutual                Global Notes   \n",
       "556 2006-06-21                      Conceptus Inc   Equity Follow-On Offering   \n",
       "557        NaT                                 NaN                        NaN   \n",
       "558        NaT                                 NaN                        NaN   \n",
       "559        NaT                                 NaN                        NaN   \n",
       "560        NaT                                 NaN                        NaN   \n",
       "561        NaT                              ISSUER           LEAD UNDERWRITER   \n",
       "562        NaT               Linens 'n Things Inc                         NaN   \n",
       "563        NaT          MBNA Capital Securities D                         NaN   \n",
       "564        NaT                     Husky Oil Ltd.                         NaN   \n",
       "565        NaT                        ProQuest Co                         NaN   \n",
       "566        NaT                           TXU Corp                         NaN   \n",
       "567        NaT  United Dominion Realty Trust Inc.                         NaN   \n",
       "\n",
       "       SIZE     INDUSTRY            LEAD UNDERWRITER  \n",
       "548  300.11      Finance               Merrill Lynch  \n",
       "549  300.12      Utility        Salomon Smith Barney  \n",
       "550   300.1      Finance        Salomon Smith Barney  \n",
       "551     117  Real Estate  Friedman, Billings, Ramsey  \n",
       "552     350      Utility             Lehman Brothers  \n",
       "553   250.1      Finance               Merrill Lynch  \n",
       "554   202.5      Utility             Lehman Brothers  \n",
       "555   200.1      Finance              Morgan Stanley  \n",
       "556      72   Healthcare                 UBS Warburg  \n",
       "557     NaN          NaN                         NaN  \n",
       "558     NaN          NaN                         NaN  \n",
       "559     NaN          NaN                         NaN  \n",
       "560     NaN          NaN                         NaN  \n",
       "561    SIZE          NaN                         NaN  \n",
       "562     NaN          NaN                         NaN  \n",
       "563     NaN          NaN                         NaN  \n",
       "564     NaN          NaN                         NaN  \n",
       "565     NaN          NaN                         NaN  \n",
       "566     NaN          NaN                         NaN  \n",
       "567     NaN          NaN                         NaN  "
      ]
     },
     "execution_count": 23,
     "metadata": {},
     "output_type": "execute_result"
    }
   ],
   "source": [
    "# finDeals.head()\n",
    "finDeals.tail(20) #last 20 rows"
   ]
  },
  {
   "cell_type": "markdown",
   "metadata": {},
   "source": [
    "## Re-import and fix the data"
   ]
  },
  {
   "cell_type": "code",
   "execution_count": 24,
   "metadata": {},
   "outputs": [],
   "source": [
    "finDeals = pd.read_excel('ExData/Data Manipulation Worksheet.xlsx', skipfooter=11)\n",
    "        #skip the last 11 rows\n",
    "        #useful if it's ALWAYS 11 rows at bottom that you need to delete"
   ]
  },
  {
   "cell_type": "code",
   "execution_count": 27,
   "metadata": {},
   "outputs": [],
   "source": [
    "finDeals = pd.read_excel('ExData/Data Manipulation Worksheet.xlsx', sheet_name='Financing Table Clean')\n",
    "                                                                    #sheet_name=1"
   ]
  },
  {
   "cell_type": "code",
   "execution_count": 28,
   "metadata": {},
   "outputs": [
    {
     "name": "stdout",
     "output_type": "stream",
     "text": [
      "<class 'pandas.core.frame.DataFrame'>\n",
      "RangeIndex: 557 entries, 0 to 556\n",
      "Data columns (total 6 columns):\n",
      " #   Column            Non-Null Count  Dtype         \n",
      "---  ------            --------------  -----         \n",
      " 0   DATE              557 non-null    datetime64[ns]\n",
      " 1   ISSUER            557 non-null    object        \n",
      " 2   TYPE              557 non-null    object        \n",
      " 3   SIZE              557 non-null    float64       \n",
      " 4   INDUSTRY          557 non-null    object        \n",
      " 5   LEAD UNDERWRITER  557 non-null    object        \n",
      "dtypes: datetime64[ns](1), float64(1), object(4)\n",
      "memory usage: 26.2+ KB\n"
     ]
    }
   ],
   "source": [
    "finDeals.info()"
   ]
  },
  {
   "cell_type": "code",
   "execution_count": 29,
   "metadata": {},
   "outputs": [
    {
     "name": "stderr",
     "output_type": "stream",
     "text": [
      "C:\\Users\\V806013\\AppData\\Local\\Temp\\4\\ipykernel_39352\\387737003.py:1: UserWarning: Could not infer format, so each element will be parsed individually, falling back to `dateutil`. To ensure parsing is consistent and as-expected, please specify a format.\n",
      "  sp500 = pd.read_csv('StockData/SP500.csv',parse_dates=['Date'])\n"
     ]
    }
   ],
   "source": [
    "sp500 = pd.read_csv('StockData/SP500.csv',parse_dates=['Date'])"
   ]
  },
  {
   "cell_type": "code",
   "execution_count": 32,
   "metadata": {},
   "outputs": [
    {
     "data": {
      "text/plain": [
       "'2.0.3'"
      ]
     },
     "execution_count": 32,
     "metadata": {},
     "output_type": "execute_result"
    }
   ],
   "source": [
    "pd.__version__"
   ]
  },
  {
   "cell_type": "code",
   "execution_count": 34,
   "metadata": {},
   "outputs": [],
   "source": [
    "test = pd.read_csv('ExData/ff3_daily.csv', parse_dates=['date'])"
   ]
  },
  {
   "cell_type": "code",
   "execution_count": 38,
   "metadata": {},
   "outputs": [],
   "source": [
    "# test.info()\n",
    "# test.head() # yyyy-mm-dd\n",
    "# sp500.head()"
   ]
  },
  {
   "cell_type": "code",
   "execution_count": 39,
   "metadata": {},
   "outputs": [
    {
     "data": {
      "text/html": [
       "<div>\n",
       "<style scoped>\n",
       "    .dataframe tbody tr th:only-of-type {\n",
       "        vertical-align: middle;\n",
       "    }\n",
       "\n",
       "    .dataframe tbody tr th {\n",
       "        vertical-align: top;\n",
       "    }\n",
       "\n",
       "    .dataframe thead th {\n",
       "        text-align: right;\n",
       "    }\n",
       "</style>\n",
       "<table border=\"1\" class=\"dataframe\">\n",
       "  <thead>\n",
       "    <tr style=\"text-align: right;\">\n",
       "      <th></th>\n",
       "      <th>Date</th>\n",
       "      <th>Open</th>\n",
       "      <th>High</th>\n",
       "      <th>Low</th>\n",
       "      <th>Close</th>\n",
       "      <th>Adj Close</th>\n",
       "      <th>Volume</th>\n",
       "    </tr>\n",
       "  </thead>\n",
       "  <tbody>\n",
       "    <tr>\n",
       "      <th>0</th>\n",
       "      <td>2013-09-30</td>\n",
       "      <td>1687.260010</td>\n",
       "      <td>1687.260010</td>\n",
       "      <td>1674.989990</td>\n",
       "      <td>1681.550049</td>\n",
       "      <td>1681.550049</td>\n",
       "      <td>3308630000</td>\n",
       "    </tr>\n",
       "    <tr>\n",
       "      <th>1</th>\n",
       "      <td>2013-10-01</td>\n",
       "      <td>1682.410034</td>\n",
       "      <td>1696.550049</td>\n",
       "      <td>1682.069946</td>\n",
       "      <td>1695.000000</td>\n",
       "      <td>1695.000000</td>\n",
       "      <td>3238690000</td>\n",
       "    </tr>\n",
       "    <tr>\n",
       "      <th>2</th>\n",
       "      <td>2013-10-02</td>\n",
       "      <td>1691.900024</td>\n",
       "      <td>1693.869995</td>\n",
       "      <td>1680.339966</td>\n",
       "      <td>1693.869995</td>\n",
       "      <td>1693.869995</td>\n",
       "      <td>3148600000</td>\n",
       "    </tr>\n",
       "    <tr>\n",
       "      <th>3</th>\n",
       "      <td>2013-10-03</td>\n",
       "      <td>1692.349976</td>\n",
       "      <td>1692.349976</td>\n",
       "      <td>1670.359985</td>\n",
       "      <td>1678.660034</td>\n",
       "      <td>1678.660034</td>\n",
       "      <td>3279650000</td>\n",
       "    </tr>\n",
       "    <tr>\n",
       "      <th>4</th>\n",
       "      <td>2013-10-04</td>\n",
       "      <td>1678.790039</td>\n",
       "      <td>1691.939941</td>\n",
       "      <td>1677.329956</td>\n",
       "      <td>1690.500000</td>\n",
       "      <td>1690.500000</td>\n",
       "      <td>2880270000</td>\n",
       "    </tr>\n",
       "  </tbody>\n",
       "</table>\n",
       "</div>"
      ],
      "text/plain": [
       "        Date         Open         High          Low        Close    Adj Close  \\\n",
       "0 2013-09-30  1687.260010  1687.260010  1674.989990  1681.550049  1681.550049   \n",
       "1 2013-10-01  1682.410034  1696.550049  1682.069946  1695.000000  1695.000000   \n",
       "2 2013-10-02  1691.900024  1693.869995  1680.339966  1693.869995  1693.869995   \n",
       "3 2013-10-03  1692.349976  1692.349976  1670.359985  1678.660034  1678.660034   \n",
       "4 2013-10-04  1678.790039  1691.939941  1677.329956  1690.500000  1690.500000   \n",
       "\n",
       "       Volume  \n",
       "0  3308630000  \n",
       "1  3238690000  \n",
       "2  3148600000  \n",
       "3  3279650000  \n",
       "4  2880270000  "
      ]
     },
     "execution_count": 39,
     "metadata": {},
     "output_type": "execute_result"
    }
   ],
   "source": [
    "sp500.head()"
   ]
  },
  {
   "cell_type": "code",
   "execution_count": 40,
   "metadata": {},
   "outputs": [
    {
     "data": {
      "text/plain": [
       "1695.0"
      ]
     },
     "execution_count": 40,
     "metadata": {},
     "output_type": "execute_result"
    }
   ],
   "source": [
    "#Extractng Data\n",
    "#table.iloc[row][column] --> integer location, row numbers\n",
    "sp500.iloc[1]['Close']"
   ]
  },
  {
   "cell_type": "code",
   "execution_count": 42,
   "metadata": {},
   "outputs": [
    {
     "name": "stderr",
     "output_type": "stream",
     "text": [
      "C:\\Users\\V806013\\AppData\\Local\\Temp\\4\\ipykernel_39352\\2533846645.py:1: UserWarning: Could not infer format, so each element will be parsed individually, falling back to `dateutil`. To ensure parsing is consistent and as-expected, please specify a format.\n",
      "  sp500 = pd.read_csv('StockData/SP500.csv',parse_dates=['Date'],index_col=['Date'])\n"
     ]
    },
    {
     "data": {
      "text/plain": [
       "1695.0"
      ]
     },
     "execution_count": 42,
     "metadata": {},
     "output_type": "execute_result"
    }
   ],
   "source": [
    "sp500 = pd.read_csv('StockData/SP500.csv',parse_dates=['Date'],index_col=['Date'])\n",
    "# sp500.head()\n",
    "sp500.iloc[1]['Close']"
   ]
  },
  {
   "cell_type": "code",
   "execution_count": 43,
   "metadata": {},
   "outputs": [
    {
     "data": {
      "text/plain": [
       "1695.0"
      ]
     },
     "execution_count": 43,
     "metadata": {},
     "output_type": "execute_result"
    }
   ],
   "source": [
    "sp500.loc['2013-10-01']['Close']"
   ]
  },
  {
   "cell_type": "code",
   "execution_count": 47,
   "metadata": {},
   "outputs": [
    {
     "data": {
      "text/html": [
       "<div>\n",
       "<style scoped>\n",
       "    .dataframe tbody tr th:only-of-type {\n",
       "        vertical-align: middle;\n",
       "    }\n",
       "\n",
       "    .dataframe tbody tr th {\n",
       "        vertical-align: top;\n",
       "    }\n",
       "\n",
       "    .dataframe thead th {\n",
       "        text-align: right;\n",
       "    }\n",
       "</style>\n",
       "<table border=\"1\" class=\"dataframe\">\n",
       "  <thead>\n",
       "    <tr style=\"text-align: right;\">\n",
       "      <th></th>\n",
       "      <th>Open</th>\n",
       "      <th>High</th>\n",
       "      <th>Low</th>\n",
       "      <th>Close</th>\n",
       "      <th>Adj Close</th>\n",
       "      <th>Volume</th>\n",
       "    </tr>\n",
       "    <tr>\n",
       "      <th>Date</th>\n",
       "      <th></th>\n",
       "      <th></th>\n",
       "      <th></th>\n",
       "      <th></th>\n",
       "      <th></th>\n",
       "      <th></th>\n",
       "    </tr>\n",
       "  </thead>\n",
       "  <tbody>\n",
       "    <tr>\n",
       "      <th>2015-01-02</th>\n",
       "      <td>2058.899902</td>\n",
       "      <td>2072.360107</td>\n",
       "      <td>2046.040039</td>\n",
       "      <td>2058.199951</td>\n",
       "      <td>2058.199951</td>\n",
       "      <td>2708700000</td>\n",
       "    </tr>\n",
       "    <tr>\n",
       "      <th>2015-01-05</th>\n",
       "      <td>2054.439941</td>\n",
       "      <td>2054.439941</td>\n",
       "      <td>2017.339966</td>\n",
       "      <td>2020.579956</td>\n",
       "      <td>2020.579956</td>\n",
       "      <td>3799120000</td>\n",
       "    </tr>\n",
       "    <tr>\n",
       "      <th>2015-01-06</th>\n",
       "      <td>2022.150024</td>\n",
       "      <td>2030.250000</td>\n",
       "      <td>1992.439941</td>\n",
       "      <td>2002.609985</td>\n",
       "      <td>2002.609985</td>\n",
       "      <td>4460110000</td>\n",
       "    </tr>\n",
       "    <tr>\n",
       "      <th>2015-01-07</th>\n",
       "      <td>2005.550049</td>\n",
       "      <td>2029.609985</td>\n",
       "      <td>2005.550049</td>\n",
       "      <td>2025.900024</td>\n",
       "      <td>2025.900024</td>\n",
       "      <td>3805480000</td>\n",
       "    </tr>\n",
       "    <tr>\n",
       "      <th>2015-01-08</th>\n",
       "      <td>2030.609985</td>\n",
       "      <td>2064.080078</td>\n",
       "      <td>2030.609985</td>\n",
       "      <td>2062.139893</td>\n",
       "      <td>2062.139893</td>\n",
       "      <td>3934010000</td>\n",
       "    </tr>\n",
       "    <tr>\n",
       "      <th>...</th>\n",
       "      <td>...</td>\n",
       "      <td>...</td>\n",
       "      <td>...</td>\n",
       "      <td>...</td>\n",
       "      <td>...</td>\n",
       "      <td>...</td>\n",
       "    </tr>\n",
       "    <tr>\n",
       "      <th>2015-03-25</th>\n",
       "      <td>2093.100098</td>\n",
       "      <td>2097.429932</td>\n",
       "      <td>2061.050049</td>\n",
       "      <td>2061.050049</td>\n",
       "      <td>2061.050049</td>\n",
       "      <td>3521140000</td>\n",
       "    </tr>\n",
       "    <tr>\n",
       "      <th>2015-03-26</th>\n",
       "      <td>2059.939941</td>\n",
       "      <td>2067.149902</td>\n",
       "      <td>2045.500000</td>\n",
       "      <td>2056.149902</td>\n",
       "      <td>2056.149902</td>\n",
       "      <td>3510670000</td>\n",
       "    </tr>\n",
       "    <tr>\n",
       "      <th>2015-03-27</th>\n",
       "      <td>2055.780029</td>\n",
       "      <td>2062.830078</td>\n",
       "      <td>2052.959961</td>\n",
       "      <td>2061.020020</td>\n",
       "      <td>2061.020020</td>\n",
       "      <td>3008550000</td>\n",
       "    </tr>\n",
       "    <tr>\n",
       "      <th>2015-03-30</th>\n",
       "      <td>2064.110107</td>\n",
       "      <td>2088.969971</td>\n",
       "      <td>2064.110107</td>\n",
       "      <td>2086.239990</td>\n",
       "      <td>2086.239990</td>\n",
       "      <td>2917690000</td>\n",
       "    </tr>\n",
       "    <tr>\n",
       "      <th>2015-03-31</th>\n",
       "      <td>2084.050049</td>\n",
       "      <td>2084.050049</td>\n",
       "      <td>2067.040039</td>\n",
       "      <td>2067.889893</td>\n",
       "      <td>2067.889893</td>\n",
       "      <td>3376550000</td>\n",
       "    </tr>\n",
       "  </tbody>\n",
       "</table>\n",
       "<p>61 rows × 6 columns</p>\n",
       "</div>"
      ],
      "text/plain": [
       "                   Open         High          Low        Close    Adj Close  \\\n",
       "Date                                                                          \n",
       "2015-01-02  2058.899902  2072.360107  2046.040039  2058.199951  2058.199951   \n",
       "2015-01-05  2054.439941  2054.439941  2017.339966  2020.579956  2020.579956   \n",
       "2015-01-06  2022.150024  2030.250000  1992.439941  2002.609985  2002.609985   \n",
       "2015-01-07  2005.550049  2029.609985  2005.550049  2025.900024  2025.900024   \n",
       "2015-01-08  2030.609985  2064.080078  2030.609985  2062.139893  2062.139893   \n",
       "...                 ...          ...          ...          ...          ...   \n",
       "2015-03-25  2093.100098  2097.429932  2061.050049  2061.050049  2061.050049   \n",
       "2015-03-26  2059.939941  2067.149902  2045.500000  2056.149902  2056.149902   \n",
       "2015-03-27  2055.780029  2062.830078  2052.959961  2061.020020  2061.020020   \n",
       "2015-03-30  2064.110107  2088.969971  2064.110107  2086.239990  2086.239990   \n",
       "2015-03-31  2084.050049  2084.050049  2067.040039  2067.889893  2067.889893   \n",
       "\n",
       "                Volume  \n",
       "Date                    \n",
       "2015-01-02  2708700000  \n",
       "2015-01-05  3799120000  \n",
       "2015-01-06  4460110000  \n",
       "2015-01-07  3805480000  \n",
       "2015-01-08  3934010000  \n",
       "...                ...  \n",
       "2015-03-25  3521140000  \n",
       "2015-03-26  3510670000  \n",
       "2015-03-27  3008550000  \n",
       "2015-03-30  2917690000  \n",
       "2015-03-31  3376550000  \n",
       "\n",
       "[61 rows x 6 columns]"
      ]
     },
     "execution_count": 47,
     "metadata": {},
     "output_type": "execute_result"
    }
   ],
   "source": [
    "# sp500.loc['2015-01'][['Close','Open']]\n",
    "# sp500[['Close','Open']]\n",
    "sp500.loc['2015-01-01':'2015-03-31']"
   ]
  },
  {
   "cell_type": "markdown",
   "metadata": {},
   "source": [
    "## Adding Custom Columns"
   ]
  },
  {
   "cell_type": "code",
   "execution_count": 50,
   "metadata": {},
   "outputs": [],
   "source": [
    "sp500['Volume (mm)'] = sp500['Volume'] / 10**6 #divide by a million\n",
    "# sp500.head()\n",
    "sp500['Intraday Returns'] = sp500['Close']  / sp500['Open'] - 1\n",
    "            # (x1 - y1) / y1 = x1 / y1 - 1"
   ]
  },
  {
   "cell_type": "code",
   "execution_count": 51,
   "metadata": {},
   "outputs": [
    {
     "data": {
      "text/html": [
       "<div>\n",
       "<style scoped>\n",
       "    .dataframe tbody tr th:only-of-type {\n",
       "        vertical-align: middle;\n",
       "    }\n",
       "\n",
       "    .dataframe tbody tr th {\n",
       "        vertical-align: top;\n",
       "    }\n",
       "\n",
       "    .dataframe thead th {\n",
       "        text-align: right;\n",
       "    }\n",
       "</style>\n",
       "<table border=\"1\" class=\"dataframe\">\n",
       "  <thead>\n",
       "    <tr style=\"text-align: right;\">\n",
       "      <th></th>\n",
       "      <th>Open</th>\n",
       "      <th>High</th>\n",
       "      <th>Low</th>\n",
       "      <th>Close</th>\n",
       "      <th>Adj Close</th>\n",
       "      <th>Volume</th>\n",
       "      <th>Volume (mm)</th>\n",
       "      <th>Intraday Returns</th>\n",
       "    </tr>\n",
       "    <tr>\n",
       "      <th>Date</th>\n",
       "      <th></th>\n",
       "      <th></th>\n",
       "      <th></th>\n",
       "      <th></th>\n",
       "      <th></th>\n",
       "      <th></th>\n",
       "      <th></th>\n",
       "      <th></th>\n",
       "    </tr>\n",
       "  </thead>\n",
       "  <tbody>\n",
       "    <tr>\n",
       "      <th>2013-09-30</th>\n",
       "      <td>1687.260010</td>\n",
       "      <td>1687.260010</td>\n",
       "      <td>1674.989990</td>\n",
       "      <td>1681.550049</td>\n",
       "      <td>1681.550049</td>\n",
       "      <td>3308630000</td>\n",
       "      <td>3308.63</td>\n",
       "      <td>-0.003384</td>\n",
       "    </tr>\n",
       "    <tr>\n",
       "      <th>2013-10-01</th>\n",
       "      <td>1682.410034</td>\n",
       "      <td>1696.550049</td>\n",
       "      <td>1682.069946</td>\n",
       "      <td>1695.000000</td>\n",
       "      <td>1695.000000</td>\n",
       "      <td>3238690000</td>\n",
       "      <td>3238.69</td>\n",
       "      <td>0.007483</td>\n",
       "    </tr>\n",
       "    <tr>\n",
       "      <th>2013-10-02</th>\n",
       "      <td>1691.900024</td>\n",
       "      <td>1693.869995</td>\n",
       "      <td>1680.339966</td>\n",
       "      <td>1693.869995</td>\n",
       "      <td>1693.869995</td>\n",
       "      <td>3148600000</td>\n",
       "      <td>3148.60</td>\n",
       "      <td>0.001164</td>\n",
       "    </tr>\n",
       "  </tbody>\n",
       "</table>\n",
       "</div>"
      ],
      "text/plain": [
       "                   Open         High          Low        Close    Adj Close  \\\n",
       "Date                                                                          \n",
       "2013-09-30  1687.260010  1687.260010  1674.989990  1681.550049  1681.550049   \n",
       "2013-10-01  1682.410034  1696.550049  1682.069946  1695.000000  1695.000000   \n",
       "2013-10-02  1691.900024  1693.869995  1680.339966  1693.869995  1693.869995   \n",
       "\n",
       "                Volume  Volume (mm)  Intraday Returns  \n",
       "Date                                                   \n",
       "2013-09-30  3308630000      3308.63         -0.003384  \n",
       "2013-10-01  3238690000      3238.69          0.007483  \n",
       "2013-10-02  3148600000      3148.60          0.001164  "
      ]
     },
     "execution_count": 51,
     "metadata": {},
     "output_type": "execute_result"
    }
   ],
   "source": [
    "sp500.head(3)"
   ]
  },
  {
   "cell_type": "markdown",
   "metadata": {},
   "source": [
    "## Lunch Break until 1pm EST\n",
    "- notes so far sent by email and also dropped in the Zoom chat"
   ]
  },
  {
   "cell_type": "code",
   "execution_count": null,
   "metadata": {},
   "outputs": [],
   "source": []
  },
  {
   "cell_type": "markdown",
   "metadata": {},
   "source": [
    "## Cleaning up Messy Columns\n",
    "A few options:\n",
    "- can create a function and clean up data while importing with `converters = {'header':function}`\n",
    "- after data already imported can clean up with a custom function with `.apply(function)`\n",
    "- can use one of the pandas cleaning up functions:\n",
    "    - `.astype(str)` or `.astype(float)` to convert to a specific data type\n",
    "    - `pd.to_numeric(table[column])` to clean numbers\n",
    "    - `pd.to_datetime(table[column])` to clean dates (instead of using parse_dates, while importing)\n",
    "    - `.str.stringmethod()` for text cleaning, e.g. `df['ISSUER'].str.replace('Inc.','')`"
   ]
  },
  {
   "cell_type": "code",
   "execution_count": 61,
   "metadata": {},
   "outputs": [
    {
     "name": "stdout",
     "output_type": "stream",
     "text": [
      "<class 'pandas.core.frame.DataFrame'>\n",
      "RangeIndex: 504 entries, 0 to 503\n",
      "Data columns (total 11 columns):\n",
      " #   Column                     Non-Null Count  Dtype  \n",
      "---  ------                     --------------  -----  \n",
      " 0   Symbol                     504 non-null    object \n",
      " 1   Market Cap (intraday)      504 non-null    object \n",
      " 2   Enterprise Value           504 non-null    object \n",
      " 3   Trailing P/E               429 non-null    float64\n",
      " 4   Forward P/E                501 non-null    float64\n",
      " 5   PEG Ratio (5 yr expected)  501 non-null    float64\n",
      " 6   Price/Sales (ttm)          504 non-null    float64\n",
      " 7   Price/Book (mrq)           469 non-null    float64\n",
      " 8   Enterprise Value/Revenue   504 non-null    float64\n",
      " 9   Enterprise Value/EBITDA    474 non-null    float64\n",
      " 10  Beta                       502 non-null    float64\n",
      "dtypes: float64(8), object(3)\n",
      "memory usage: 43.4+ KB\n"
     ]
    },
    {
     "data": {
      "text/html": [
       "<div>\n",
       "<style scoped>\n",
       "    .dataframe tbody tr th:only-of-type {\n",
       "        vertical-align: middle;\n",
       "    }\n",
       "\n",
       "    .dataframe tbody tr th {\n",
       "        vertical-align: top;\n",
       "    }\n",
       "\n",
       "    .dataframe thead th {\n",
       "        text-align: right;\n",
       "    }\n",
       "</style>\n",
       "<table border=\"1\" class=\"dataframe\">\n",
       "  <thead>\n",
       "    <tr style=\"text-align: right;\">\n",
       "      <th></th>\n",
       "      <th>Symbol</th>\n",
       "      <th>Market Cap (intraday)</th>\n",
       "      <th>Enterprise Value</th>\n",
       "      <th>Trailing P/E</th>\n",
       "      <th>Forward P/E</th>\n",
       "      <th>PEG Ratio (5 yr expected)</th>\n",
       "      <th>Price/Sales (ttm)</th>\n",
       "      <th>Price/Book (mrq)</th>\n",
       "      <th>Enterprise Value/Revenue</th>\n",
       "      <th>Enterprise Value/EBITDA</th>\n",
       "      <th>Beta</th>\n",
       "    </tr>\n",
       "  </thead>\n",
       "  <tbody>\n",
       "    <tr>\n",
       "      <th>0</th>\n",
       "      <td>A</td>\n",
       "      <td>45.29B</td>\n",
       "      <td>46.9B</td>\n",
       "      <td>49.92</td>\n",
       "      <td>32.38</td>\n",
       "      <td>3.33</td>\n",
       "      <td>7.79</td>\n",
       "      <td>9.42</td>\n",
       "      <td>8.06</td>\n",
       "      <td>30.30</td>\n",
       "      <td>1.01</td>\n",
       "    </tr>\n",
       "    <tr>\n",
       "      <th>1</th>\n",
       "      <td>AAL</td>\n",
       "      <td>12.84B</td>\n",
       "      <td>47.76B</td>\n",
       "      <td>NaN</td>\n",
       "      <td>-286.00</td>\n",
       "      <td>0.05</td>\n",
       "      <td>1.00</td>\n",
       "      <td>NaN</td>\n",
       "      <td>3.72</td>\n",
       "      <td>-4.44</td>\n",
       "      <td>1.85</td>\n",
       "    </tr>\n",
       "    <tr>\n",
       "      <th>2</th>\n",
       "      <td>AAP</td>\n",
       "      <td>13.67B</td>\n",
       "      <td>16.37B</td>\n",
       "      <td>22.45</td>\n",
       "      <td>17.10</td>\n",
       "      <td>1.55</td>\n",
       "      <td>1.27</td>\n",
       "      <td>3.87</td>\n",
       "      <td>1.52</td>\n",
       "      <td>13.20</td>\n",
       "      <td>1.38</td>\n",
       "    </tr>\n",
       "    <tr>\n",
       "      <th>3</th>\n",
       "      <td>AAPL</td>\n",
       "      <td>2.43T</td>\n",
       "      <td>2.4T</td>\n",
       "      <td>32.74</td>\n",
       "      <td>27.27</td>\n",
       "      <td>1.53</td>\n",
       "      <td>7.47</td>\n",
       "      <td>35.13</td>\n",
       "      <td>7.38</td>\n",
       "      <td>24.05</td>\n",
       "      <td>1.21</td>\n",
       "    </tr>\n",
       "    <tr>\n",
       "      <th>4</th>\n",
       "      <td>ABBV</td>\n",
       "      <td>208.26B</td>\n",
       "      <td>280.2B</td>\n",
       "      <td>40.48</td>\n",
       "      <td>8.44</td>\n",
       "      <td>2.04</td>\n",
       "      <td>4.15</td>\n",
       "      <td>15.18</td>\n",
       "      <td>5.58</td>\n",
       "      <td>11.42</td>\n",
       "      <td>0.80</td>\n",
       "    </tr>\n",
       "  </tbody>\n",
       "</table>\n",
       "</div>"
      ],
      "text/plain": [
       "  Symbol Market Cap (intraday) Enterprise Value  Trailing P/E  Forward P/E  \\\n",
       "0      A                45.29B            46.9B         49.92        32.38   \n",
       "1    AAL                12.84B           47.76B           NaN      -286.00   \n",
       "2    AAP                13.67B           16.37B         22.45        17.10   \n",
       "3   AAPL                 2.43T             2.4T         32.74        27.27   \n",
       "4   ABBV               208.26B           280.2B         40.48         8.44   \n",
       "\n",
       "   PEG Ratio (5 yr expected)  Price/Sales (ttm)  Price/Book (mrq)  \\\n",
       "0                       3.33               7.79              9.42   \n",
       "1                       0.05               1.00               NaN   \n",
       "2                       1.55               1.27              3.87   \n",
       "3                       1.53               7.47             35.13   \n",
       "4                       2.04               4.15             15.18   \n",
       "\n",
       "   Enterprise Value/Revenue  Enterprise Value/EBITDA  Beta  \n",
       "0                      8.06                    30.30  1.01  \n",
       "1                      3.72                    -4.44  1.85  \n",
       "2                      1.52                    13.20  1.38  \n",
       "3                      7.38                    24.05  1.21  \n",
       "4                      5.58                    11.42  0.80  "
      ]
     },
     "execution_count": 61,
     "metadata": {},
     "output_type": "execute_result"
    }
   ],
   "source": [
    "df_messy = pd.read_csv('ExData/sp500_Cos_ValMetrics.csv')\n",
    "df_messy.info()\n",
    "df_messy.head()"
   ]
  },
  {
   "cell_type": "code",
   "execution_count": 63,
   "metadata": {},
   "outputs": [],
   "source": [
    "#don't do this\n",
    "#df_messy['EV'] = df_messy['Enterprise Value'].str.strip('B').str.strip('T').astype(float)"
   ]
  },
  {
   "cell_type": "code",
   "execution_count": 65,
   "metadata": {},
   "outputs": [],
   "source": [
    "#df_messy[['EV','Enterprise Value']].head()"
   ]
  },
  {
   "cell_type": "code",
   "execution_count": 79,
   "metadata": {},
   "outputs": [],
   "source": [
    "def cleanNumbers(x): # x = \"2.4T\", x = \"280.2B\"...\n",
    "    #Function will convert numbers into billions\n",
    "        #if there is a B, keep number as is, if T multiple by 1000\n",
    "        #if no letter, assume number was in millions --> divide by 1000\n",
    "    #if x[-1] == 'T':\n",
    "    if 'T' in x:\n",
    "        return float(x.strip('$T').replace(',','')) * 1000\n",
    "    elif 'B' in x:\n",
    "        return float(x.strip('$B').replace(',',''))\n",
    "    else:\n",
    "        return float(x.strip(\"$\").replace(',','')) / 1000 #assume if no letter, shows in millions\n",
    "        #return \"n.a.\""
   ]
  },
  {
   "cell_type": "code",
   "execution_count": 80,
   "metadata": {},
   "outputs": [
    {
     "data": {
      "text/plain": [
       "1.00599"
      ]
     },
     "execution_count": 80,
     "metadata": {},
     "output_type": "execute_result"
    }
   ],
   "source": [
    "cleanNumbers('$1,005.99')"
   ]
  },
  {
   "cell_type": "code",
   "execution_count": 67,
   "metadata": {},
   "outputs": [
    {
     "data": {
      "text/plain": [
       "500000.0"
      ]
     },
     "execution_count": 67,
     "metadata": {},
     "output_type": "execute_result"
    }
   ],
   "source": [
    "messy = \"500T\"\n",
    "float(messy.strip(\"T\")) * 1000"
   ]
  },
  {
   "cell_type": "markdown",
   "metadata": {},
   "source": [
    "### Option 1 - Use .apply()\n",
    "`table[new column] = table[messy column].apply(function)`\n",
    "\n",
    "- advanced use of .apply(): can reference the entire data set and use axis=1 to go \"down\" row by row"
   ]
  },
  {
   "cell_type": "code",
   "execution_count": 86,
   "metadata": {},
   "outputs": [],
   "source": [
    "df_messy['EV (bn)'] = df_messy['Enterprise Value'].apply(cleanNumbers)\n",
    "df_messy['Mkt Cap (bn)'] = df_messy['Market Cap (intraday)'].apply(cleanNumbers)"
   ]
  },
  {
   "cell_type": "code",
   "execution_count": 87,
   "metadata": {},
   "outputs": [],
   "source": [
    "df_messy['Implied Debt'] = df_messy.apply(lambda x: x['EV (bn)'] - x['Mkt Cap (bn)'], axis=1)"
   ]
  },
  {
   "cell_type": "code",
   "execution_count": null,
   "metadata": {},
   "outputs": [],
   "source": [
    "def calcDebt(row):  #x = each row in the data set\n",
    "    return row['EV (bn)'] - row['Mkt Cap (bn)']"
   ]
  },
  {
   "cell_type": "code",
   "execution_count": 84,
   "metadata": {},
   "outputs": [],
   "source": [
    "# df_messy[['Enterprise Value','EV (bn)']].head()"
   ]
  },
  {
   "cell_type": "code",
   "execution_count": 85,
   "metadata": {},
   "outputs": [
    {
     "data": {
      "text/plain": [
       "Index(['Symbol', 'Market Cap (intraday)', 'Enterprise Value', 'Trailing P/E',\n",
       "       'Forward P/E', 'PEG Ratio (5 yr expected)', 'Price/Sales (ttm)',\n",
       "       'Price/Book (mrq)', 'Enterprise Value/Revenue',\n",
       "       'Enterprise Value/EBITDA', 'Beta', 'EV', 'EV (bn)'],\n",
       "      dtype='object')"
      ]
     },
     "execution_count": 85,
     "metadata": {},
     "output_type": "execute_result"
    }
   ],
   "source": [
    "df_messy.columns"
   ]
  },
  {
   "cell_type": "markdown",
   "metadata": {},
   "source": [
    "### Option 2 - using converters\n",
    "- you can apply a function to clean the data while doing pd.read_csv()\n",
    "- converters = {'header':function}"
   ]
  },
  {
   "cell_type": "code",
   "execution_count": 88,
   "metadata": {},
   "outputs": [],
   "source": [
    "df_clean = pd.read_csv('ExData/sp500_Cos_ValMetrics.csv',\n",
    "                      converters={'Enterprise Value':cleanNumbers,\n",
    "                                 'Market Cap (intraday)':cleanNumbers})"
   ]
  },
  {
   "cell_type": "code",
   "execution_count": 90,
   "metadata": {},
   "outputs": [],
   "source": [
    "# df_clean.head()"
   ]
  },
  {
   "cell_type": "code",
   "execution_count": 91,
   "metadata": {},
   "outputs": [
    {
     "data": {
      "text/html": [
       "<div>\n",
       "<style scoped>\n",
       "    .dataframe tbody tr th:only-of-type {\n",
       "        vertical-align: middle;\n",
       "    }\n",
       "\n",
       "    .dataframe tbody tr th {\n",
       "        vertical-align: top;\n",
       "    }\n",
       "\n",
       "    .dataframe thead th {\n",
       "        text-align: right;\n",
       "    }\n",
       "</style>\n",
       "<table border=\"1\" class=\"dataframe\">\n",
       "  <thead>\n",
       "    <tr style=\"text-align: right;\">\n",
       "      <th></th>\n",
       "      <th>Open</th>\n",
       "      <th>High</th>\n",
       "      <th>Low</th>\n",
       "      <th>Close</th>\n",
       "      <th>Adj Close</th>\n",
       "      <th>Volume</th>\n",
       "      <th>Volume (mm)</th>\n",
       "      <th>Intraday Returns</th>\n",
       "    </tr>\n",
       "    <tr>\n",
       "      <th>Date</th>\n",
       "      <th></th>\n",
       "      <th></th>\n",
       "      <th></th>\n",
       "      <th></th>\n",
       "      <th></th>\n",
       "      <th></th>\n",
       "      <th></th>\n",
       "      <th></th>\n",
       "    </tr>\n",
       "  </thead>\n",
       "  <tbody>\n",
       "    <tr>\n",
       "      <th>2013-09-30</th>\n",
       "      <td>1687.260010</td>\n",
       "      <td>1687.260010</td>\n",
       "      <td>1674.989990</td>\n",
       "      <td>1681.550049</td>\n",
       "      <td>1681.550049</td>\n",
       "      <td>3308630000</td>\n",
       "      <td>3308.63</td>\n",
       "      <td>-0.003384</td>\n",
       "    </tr>\n",
       "    <tr>\n",
       "      <th>2013-10-01</th>\n",
       "      <td>1682.410034</td>\n",
       "      <td>1696.550049</td>\n",
       "      <td>1682.069946</td>\n",
       "      <td>1695.000000</td>\n",
       "      <td>1695.000000</td>\n",
       "      <td>3238690000</td>\n",
       "      <td>3238.69</td>\n",
       "      <td>0.007483</td>\n",
       "    </tr>\n",
       "    <tr>\n",
       "      <th>2013-10-02</th>\n",
       "      <td>1691.900024</td>\n",
       "      <td>1693.869995</td>\n",
       "      <td>1680.339966</td>\n",
       "      <td>1693.869995</td>\n",
       "      <td>1693.869995</td>\n",
       "      <td>3148600000</td>\n",
       "      <td>3148.60</td>\n",
       "      <td>0.001164</td>\n",
       "    </tr>\n",
       "    <tr>\n",
       "      <th>2013-10-03</th>\n",
       "      <td>1692.349976</td>\n",
       "      <td>1692.349976</td>\n",
       "      <td>1670.359985</td>\n",
       "      <td>1678.660034</td>\n",
       "      <td>1678.660034</td>\n",
       "      <td>3279650000</td>\n",
       "      <td>3279.65</td>\n",
       "      <td>-0.008089</td>\n",
       "    </tr>\n",
       "    <tr>\n",
       "      <th>2013-10-04</th>\n",
       "      <td>1678.790039</td>\n",
       "      <td>1691.939941</td>\n",
       "      <td>1677.329956</td>\n",
       "      <td>1690.500000</td>\n",
       "      <td>1690.500000</td>\n",
       "      <td>2880270000</td>\n",
       "      <td>2880.27</td>\n",
       "      <td>0.006975</td>\n",
       "    </tr>\n",
       "  </tbody>\n",
       "</table>\n",
       "</div>"
      ],
      "text/plain": [
       "                   Open         High          Low        Close    Adj Close  \\\n",
       "Date                                                                          \n",
       "2013-09-30  1687.260010  1687.260010  1674.989990  1681.550049  1681.550049   \n",
       "2013-10-01  1682.410034  1696.550049  1682.069946  1695.000000  1695.000000   \n",
       "2013-10-02  1691.900024  1693.869995  1680.339966  1693.869995  1693.869995   \n",
       "2013-10-03  1692.349976  1692.349976  1670.359985  1678.660034  1678.660034   \n",
       "2013-10-04  1678.790039  1691.939941  1677.329956  1690.500000  1690.500000   \n",
       "\n",
       "                Volume  Volume (mm)  Intraday Returns  \n",
       "Date                                                   \n",
       "2013-09-30  3308630000      3308.63         -0.003384  \n",
       "2013-10-01  3238690000      3238.69          0.007483  \n",
       "2013-10-02  3148600000      3148.60          0.001164  \n",
       "2013-10-03  3279650000      3279.65         -0.008089  \n",
       "2013-10-04  2880270000      2880.27          0.006975  "
      ]
     },
     "execution_count": 91,
     "metadata": {},
     "output_type": "execute_result"
    }
   ],
   "source": [
    "sp500.head()"
   ]
  },
  {
   "cell_type": "markdown",
   "metadata": {},
   "source": [
    "## Cleaning Dates\n",
    "- pd.read_csv(......, parse_dates=['name of date col'], date_format=\"code\")\n",
    "- after already imported, you can use pd.to_datetime(column, format=\"code\")"
   ]
  },
  {
   "cell_type": "code",
   "execution_count": 93,
   "metadata": {},
   "outputs": [
    {
     "data": {
      "text/plain": [
       "Timestamp('2024-02-04 00:00:00')"
      ]
     },
     "execution_count": 93,
     "metadata": {},
     "output_type": "execute_result"
    }
   ],
   "source": [
    "date1 = \"4/2/2024\"\n",
    "dates = ['4/12/2024', '4/13/2024', '4/14/2024']\n",
    "pd.to_datetime(date1) #April 2nd on my computer\n",
    "pd.to_datetime(date1, format='%d/%m/%Y') #Feb 4\n",
    "                            #  d/mm/yyyy ---> excel date formats"
   ]
  },
  {
   "cell_type": "code",
   "execution_count": 94,
   "metadata": {},
   "outputs": [
    {
     "data": {
      "text/plain": [
       "DatetimeIndex(['2024-04-12', '2024-04-13', '2024-04-14'], dtype='datetime64[ns]', freq=None)"
      ]
     },
     "execution_count": 94,
     "metadata": {},
     "output_type": "execute_result"
    }
   ],
   "source": [
    "pd.to_datetime(dates)"
   ]
  },
  {
   "cell_type": "code",
   "execution_count": null,
   "metadata": {},
   "outputs": [],
   "source": [
    "# pd.to_datetime(finDeals['DATE']) #can reference an entire column"
   ]
  },
  {
   "cell_type": "markdown",
   "metadata": {},
   "source": [
    "## Stats and Calculated Fields\n",
    "- `.describe()` --> summary stats on numerical columns\n",
    "- `.value_counts()` --> categorical columns (text) it does a \"countif\" by category"
   ]
  },
  {
   "cell_type": "code",
   "execution_count": 107,
   "metadata": {},
   "outputs": [
    {
     "data": {
      "text/html": [
       "<div>\n",
       "<style scoped>\n",
       "    .dataframe tbody tr th:only-of-type {\n",
       "        vertical-align: middle;\n",
       "    }\n",
       "\n",
       "    .dataframe tbody tr th {\n",
       "        vertical-align: top;\n",
       "    }\n",
       "\n",
       "    .dataframe thead th {\n",
       "        text-align: right;\n",
       "    }\n",
       "</style>\n",
       "<table border=\"1\" class=\"dataframe\">\n",
       "  <thead>\n",
       "    <tr style=\"text-align: right;\">\n",
       "      <th></th>\n",
       "      <th>Open</th>\n",
       "      <th>High</th>\n",
       "      <th>Low</th>\n",
       "      <th>Close</th>\n",
       "      <th>Adj Close</th>\n",
       "      <th>Volume</th>\n",
       "      <th>Volume (mm)</th>\n",
       "      <th>Intraday Returns</th>\n",
       "    </tr>\n",
       "  </thead>\n",
       "  <tbody>\n",
       "    <tr>\n",
       "      <th>Open</th>\n",
       "      <td>1.000000</td>\n",
       "      <td>0.999542</td>\n",
       "      <td>0.999283</td>\n",
       "      <td>0.998797</td>\n",
       "      <td>0.998797</td>\n",
       "      <td>-0.109752</td>\n",
       "      <td>-0.109752</td>\n",
       "      <td>-0.035205</td>\n",
       "    </tr>\n",
       "    <tr>\n",
       "      <th>High</th>\n",
       "      <td>0.999542</td>\n",
       "      <td>1.000000</td>\n",
       "      <td>0.999158</td>\n",
       "      <td>0.999370</td>\n",
       "      <td>0.999370</td>\n",
       "      <td>-0.102874</td>\n",
       "      <td>-0.102874</td>\n",
       "      <td>-0.014034</td>\n",
       "    </tr>\n",
       "    <tr>\n",
       "      <th>Low</th>\n",
       "      <td>0.999283</td>\n",
       "      <td>0.999158</td>\n",
       "      <td>1.000000</td>\n",
       "      <td>0.999513</td>\n",
       "      <td>0.999513</td>\n",
       "      <td>-0.124338</td>\n",
       "      <td>-0.124338</td>\n",
       "      <td>-0.006473</td>\n",
       "    </tr>\n",
       "    <tr>\n",
       "      <th>Close</th>\n",
       "      <td>0.998797</td>\n",
       "      <td>0.999370</td>\n",
       "      <td>0.999513</td>\n",
       "      <td>1.000000</td>\n",
       "      <td>1.000000</td>\n",
       "      <td>-0.115267</td>\n",
       "      <td>-0.115267</td>\n",
       "      <td>0.013356</td>\n",
       "    </tr>\n",
       "    <tr>\n",
       "      <th>Adj Close</th>\n",
       "      <td>0.998797</td>\n",
       "      <td>0.999370</td>\n",
       "      <td>0.999513</td>\n",
       "      <td>1.000000</td>\n",
       "      <td>1.000000</td>\n",
       "      <td>-0.115267</td>\n",
       "      <td>-0.115267</td>\n",
       "      <td>0.013356</td>\n",
       "    </tr>\n",
       "    <tr>\n",
       "      <th>Volume</th>\n",
       "      <td>-0.109752</td>\n",
       "      <td>-0.102874</td>\n",
       "      <td>-0.124338</td>\n",
       "      <td>-0.115267</td>\n",
       "      <td>-0.115267</td>\n",
       "      <td>1.000000</td>\n",
       "      <td>1.000000</td>\n",
       "      <td>-0.110271</td>\n",
       "    </tr>\n",
       "    <tr>\n",
       "      <th>Volume (mm)</th>\n",
       "      <td>-0.109752</td>\n",
       "      <td>-0.102874</td>\n",
       "      <td>-0.124338</td>\n",
       "      <td>-0.115267</td>\n",
       "      <td>-0.115267</td>\n",
       "      <td>1.000000</td>\n",
       "      <td>1.000000</td>\n",
       "      <td>-0.110271</td>\n",
       "    </tr>\n",
       "    <tr>\n",
       "      <th>Intraday Returns</th>\n",
       "      <td>-0.035205</td>\n",
       "      <td>-0.014034</td>\n",
       "      <td>-0.006473</td>\n",
       "      <td>0.013356</td>\n",
       "      <td>0.013356</td>\n",
       "      <td>-0.110271</td>\n",
       "      <td>-0.110271</td>\n",
       "      <td>1.000000</td>\n",
       "    </tr>\n",
       "  </tbody>\n",
       "</table>\n",
       "</div>"
      ],
      "text/plain": [
       "                      Open      High       Low     Close  Adj Close    Volume  \\\n",
       "Open              1.000000  0.999542  0.999283  0.998797   0.998797 -0.109752   \n",
       "High              0.999542  1.000000  0.999158  0.999370   0.999370 -0.102874   \n",
       "Low               0.999283  0.999158  1.000000  0.999513   0.999513 -0.124338   \n",
       "Close             0.998797  0.999370  0.999513  1.000000   1.000000 -0.115267   \n",
       "Adj Close         0.998797  0.999370  0.999513  1.000000   1.000000 -0.115267   \n",
       "Volume           -0.109752 -0.102874 -0.124338 -0.115267  -0.115267  1.000000   \n",
       "Volume (mm)      -0.109752 -0.102874 -0.124338 -0.115267  -0.115267  1.000000   \n",
       "Intraday Returns -0.035205 -0.014034 -0.006473  0.013356   0.013356 -0.110271   \n",
       "\n",
       "                  Volume (mm)  Intraday Returns  \n",
       "Open                -0.109752         -0.035205  \n",
       "High                -0.102874         -0.014034  \n",
       "Low                 -0.124338         -0.006473  \n",
       "Close               -0.115267          0.013356  \n",
       "Adj Close           -0.115267          0.013356  \n",
       "Volume               1.000000         -0.110271  \n",
       "Volume (mm)          1.000000         -0.110271  \n",
       "Intraday Returns    -0.110271          1.000000  "
      ]
     },
     "execution_count": 107,
     "metadata": {},
     "output_type": "execute_result"
    }
   ],
   "source": [
    "sp500.corr() #correlation matrix"
   ]
  },
  {
   "cell_type": "code",
   "execution_count": 104,
   "metadata": {},
   "outputs": [
    {
     "data": {
      "text/plain": [
       "0.000285523395708537"
      ]
     },
     "execution_count": 104,
     "metadata": {},
     "output_type": "execute_result"
    }
   ],
   "source": [
    "# sp500['Intraday Returns'].describe()\n",
    "#simple average of the daily returns in 2016\n",
    "# sp500.loc['2016-01-01':'2016-12-31']['Intraday Returns'].mean()\n",
    "sp500.loc['2016']['Intraday Returns'].mean()"
   ]
  },
  {
   "cell_type": "code",
   "execution_count": 105,
   "metadata": {},
   "outputs": [
    {
     "data": {
      "text/plain": [
       "0.0244139334741289"
      ]
     },
     "execution_count": 105,
     "metadata": {},
     "output_type": "execute_result"
    }
   ],
   "source": [
    "sp500.loc['2016']['Intraday Returns'].max()"
   ]
  },
  {
   "cell_type": "code",
   "execution_count": 99,
   "metadata": {},
   "outputs": [
    {
     "data": {
      "text/html": [
       "<div>\n",
       "<style scoped>\n",
       "    .dataframe tbody tr th:only-of-type {\n",
       "        vertical-align: middle;\n",
       "    }\n",
       "\n",
       "    .dataframe tbody tr th {\n",
       "        vertical-align: top;\n",
       "    }\n",
       "\n",
       "    .dataframe thead th {\n",
       "        text-align: right;\n",
       "    }\n",
       "</style>\n",
       "<table border=\"1\" class=\"dataframe\">\n",
       "  <thead>\n",
       "    <tr style=\"text-align: right;\">\n",
       "      <th></th>\n",
       "      <th>Open</th>\n",
       "      <th>High</th>\n",
       "      <th>Low</th>\n",
       "      <th>Close</th>\n",
       "      <th>Adj Close</th>\n",
       "      <th>Volume</th>\n",
       "      <th>Volume (mm)</th>\n",
       "      <th>Intraday Returns</th>\n",
       "    </tr>\n",
       "  </thead>\n",
       "  <tbody>\n",
       "    <tr>\n",
       "      <th>count</th>\n",
       "      <td>1260.000000</td>\n",
       "      <td>1260.000000</td>\n",
       "      <td>1260.000000</td>\n",
       "      <td>1260.000000</td>\n",
       "      <td>1260.000000</td>\n",
       "      <td>1.260000e+03</td>\n",
       "      <td>1260.000000</td>\n",
       "      <td>1260.000000</td>\n",
       "    </tr>\n",
       "    <tr>\n",
       "      <th>mean</th>\n",
       "      <td>2208.119022</td>\n",
       "      <td>2217.222041</td>\n",
       "      <td>2198.329731</td>\n",
       "      <td>2208.579183</td>\n",
       "      <td>2208.579183</td>\n",
       "      <td>3.545683e+09</td>\n",
       "      <td>3545.683214</td>\n",
       "      <td>0.000244</td>\n",
       "    </tr>\n",
       "    <tr>\n",
       "      <th>std</th>\n",
       "      <td>311.783587</td>\n",
       "      <td>312.018261</td>\n",
       "      <td>311.768926</td>\n",
       "      <td>311.699505</td>\n",
       "      <td>311.699505</td>\n",
       "      <td>6.785854e+08</td>\n",
       "      <td>678.585433</td>\n",
       "      <td>0.007084</td>\n",
       "    </tr>\n",
       "    <tr>\n",
       "      <th>min</th>\n",
       "      <td>1656.989990</td>\n",
       "      <td>1662.469971</td>\n",
       "      <td>1646.469971</td>\n",
       "      <td>1655.449951</td>\n",
       "      <td>1655.449951</td>\n",
       "      <td>1.307630e+09</td>\n",
       "      <td>1307.630000</td>\n",
       "      <td>-0.038737</td>\n",
       "    </tr>\n",
       "    <tr>\n",
       "      <th>25%</th>\n",
       "      <td>1984.504975</td>\n",
       "      <td>1991.565002</td>\n",
       "      <td>1975.112457</td>\n",
       "      <td>1985.515015</td>\n",
       "      <td>1985.515015</td>\n",
       "      <td>3.154532e+09</td>\n",
       "      <td>3154.532500</td>\n",
       "      <td>-0.002637</td>\n",
       "    </tr>\n",
       "    <tr>\n",
       "      <th>50%</th>\n",
       "      <td>2101.550049</td>\n",
       "      <td>2108.744995</td>\n",
       "      <td>2091.594971</td>\n",
       "      <td>2101.265014</td>\n",
       "      <td>2101.265014</td>\n",
       "      <td>3.448470e+09</td>\n",
       "      <td>3448.470000</td>\n",
       "      <td>0.000381</td>\n",
       "    </tr>\n",
       "    <tr>\n",
       "      <th>75%</th>\n",
       "      <td>2434.364991</td>\n",
       "      <td>2441.522522</td>\n",
       "      <td>2428.234985</td>\n",
       "      <td>2434.777527</td>\n",
       "      <td>2434.777527</td>\n",
       "      <td>3.821982e+09</td>\n",
       "      <td>3821.982500</td>\n",
       "      <td>0.003796</td>\n",
       "    </tr>\n",
       "    <tr>\n",
       "      <th>max</th>\n",
       "      <td>2936.760010</td>\n",
       "      <td>2940.909912</td>\n",
       "      <td>2927.110107</td>\n",
       "      <td>2930.750000</td>\n",
       "      <td>2930.750000</td>\n",
       "      <td>7.597450e+09</td>\n",
       "      <td>7597.450000</td>\n",
       "      <td>0.036182</td>\n",
       "    </tr>\n",
       "  </tbody>\n",
       "</table>\n",
       "</div>"
      ],
      "text/plain": [
       "              Open         High          Low        Close    Adj Close  \\\n",
       "count  1260.000000  1260.000000  1260.000000  1260.000000  1260.000000   \n",
       "mean   2208.119022  2217.222041  2198.329731  2208.579183  2208.579183   \n",
       "std     311.783587   312.018261   311.768926   311.699505   311.699505   \n",
       "min    1656.989990  1662.469971  1646.469971  1655.449951  1655.449951   \n",
       "25%    1984.504975  1991.565002  1975.112457  1985.515015  1985.515015   \n",
       "50%    2101.550049  2108.744995  2091.594971  2101.265014  2101.265014   \n",
       "75%    2434.364991  2441.522522  2428.234985  2434.777527  2434.777527   \n",
       "max    2936.760010  2940.909912  2927.110107  2930.750000  2930.750000   \n",
       "\n",
       "             Volume  Volume (mm)  Intraday Returns  \n",
       "count  1.260000e+03  1260.000000       1260.000000  \n",
       "mean   3.545683e+09  3545.683214          0.000244  \n",
       "std    6.785854e+08   678.585433          0.007084  \n",
       "min    1.307630e+09  1307.630000         -0.038737  \n",
       "25%    3.154532e+09  3154.532500         -0.002637  \n",
       "50%    3.448470e+09  3448.470000          0.000381  \n",
       "75%    3.821982e+09  3821.982500          0.003796  \n",
       "max    7.597450e+09  7597.450000          0.036182  "
      ]
     },
     "execution_count": 99,
     "metadata": {},
     "output_type": "execute_result"
    }
   ],
   "source": [
    "sp500.describe() #stats for all columns"
   ]
  },
  {
   "cell_type": "code",
   "execution_count": 111,
   "metadata": {},
   "outputs": [
    {
     "data": {
      "text/plain": [
       "TYPE\n",
       "CD Notes                     239\n",
       "Equity Follow-On Offering    111\n",
       "Sr Notes                      52\n",
       "Bank Notes                    40\n",
       "Global Notes                  36\n",
       "Notes                         33\n",
       "Initial Public Offering       19\n",
       "Preferred Securities          16\n",
       "Bonds                          9\n",
       "Mortgage Bonds                 2\n",
       "Name: count, dtype: int64"
      ]
     },
     "execution_count": 111,
     "metadata": {},
     "output_type": "execute_result"
    }
   ],
   "source": [
    "finDeals['TYPE'].value_counts()\n",
    "# finDeals[['TYPE','INDUSTRY']].value_counts()"
   ]
  },
  {
   "cell_type": "markdown",
   "metadata": {},
   "source": [
    "# Coffee break until 2:25pm EST"
   ]
  },
  {
   "cell_type": "code",
   "execution_count": null,
   "metadata": {},
   "outputs": [],
   "source": []
  }
 ],
 "metadata": {
  "kernelspec": {
   "display_name": "Python 3 (ipykernel)",
   "language": "python",
   "name": "python3"
  },
  "language_info": {
   "codemirror_mode": {
    "name": "ipython",
    "version": 3
   },
   "file_extension": ".py",
   "mimetype": "text/x-python",
   "name": "python",
   "nbconvert_exporter": "python",
   "pygments_lexer": "ipython3",
   "version": "3.8.10"
  }
 },
 "nbformat": 4,
 "nbformat_minor": 4
}
