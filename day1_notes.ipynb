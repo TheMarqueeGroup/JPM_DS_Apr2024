{
 "cells": [
  {
   "cell_type": "code",
   "execution_count": 1,
   "metadata": {
    "collapsed": true,
    "jupyter": {
     "outputs_hidden": true
    }
   },
   "outputs": [],
   "source": [
    "x = 5"
   ]
  },
  {
   "cell_type": "markdown",
   "metadata": {},
   "source": [
    "# Intro to Jupyter\n",
    "## Shortcuts\n",
    "- running code: CTRL ENTER\n",
    "    - running code and move on to the next cell: SHIFT ENTER \n",
    "- two versions of boxes: markdown vs cells\n",
    "- SHIFT TAB within the brackets of a formulas --> will show you hints"
   ]
  },
  {
   "cell_type": "code",
   "execution_count": 18,
   "metadata": {},
   "outputs": [],
   "source": [
    "#import bogfunctions as bt\n",
    "#bt.fnCube(5)"
   ]
  },
  {
   "cell_type": "markdown",
   "metadata": {},
   "source": [
    "# Intro to Pandas"
   ]
  },
  {
   "cell_type": "markdown",
   "metadata": {},
   "source": [
    "## Importing and Exploring Data"
   ]
  },
  {
   "cell_type": "code",
   "execution_count": 3,
   "metadata": {
    "collapsed": false,
    "jupyter": {
     "outputs_hidden": false
    }
   },
   "outputs": [],
   "source": [
    "import pandas as pd\n",
    "df = pd.read_csv('StockData/SP500.csv')\n",
    "\n",
    "#comments\n",
    "\n",
    "#notes to yourself"
   ]
  },
  {
   "cell_type": "code",
   "execution_count": 12,
   "metadata": {},
   "outputs": [
    {
     "name": "stdout",
     "output_type": "stream",
     "text": [
      "Bogdan\n",
      "Tudose\n"
     ]
    }
   ],
   "source": [
    "text = \"Bogdan\\nTudose\"\n",
    "print(text)"
   ]
  },
  {
   "cell_type": "code",
   "execution_count": 15,
   "metadata": {},
   "outputs": [],
   "source": [
    "#df2 = pd.read_csv(r'\\\\NAEAST.AD.JPMORGANCHASE.COM\\HOME2\\NAHOME00002\\V806013\\jpmDesk\\Desktop\\DS Apr 2024\\Python Project\\StockData\\aapl.csv')\n"
   ]
  },
  {
   "cell_type": "code",
   "execution_count": 14,
   "metadata": {},
   "outputs": [
    {
     "data": {
      "text/html": [
       "<div>\n",
       "<style scoped>\n",
       "    .dataframe tbody tr th:only-of-type {\n",
       "        vertical-align: middle;\n",
       "    }\n",
       "\n",
       "    .dataframe tbody tr th {\n",
       "        vertical-align: top;\n",
       "    }\n",
       "\n",
       "    .dataframe thead th {\n",
       "        text-align: right;\n",
       "    }\n",
       "</style>\n",
       "<table border=\"1\" class=\"dataframe\">\n",
       "  <thead>\n",
       "    <tr style=\"text-align: right;\">\n",
       "      <th></th>\n",
       "      <th>Date</th>\n",
       "      <th>Open</th>\n",
       "      <th>High</th>\n",
       "      <th>Low</th>\n",
       "      <th>Close</th>\n",
       "      <th>Adj Close</th>\n",
       "      <th>Volume</th>\n",
       "    </tr>\n",
       "  </thead>\n",
       "  <tbody>\n",
       "    <tr>\n",
       "      <th>0</th>\n",
       "      <td>10/01/13</td>\n",
       "      <td>68.349998</td>\n",
       "      <td>69.877144</td>\n",
       "      <td>68.339996</td>\n",
       "      <td>69.708572</td>\n",
       "      <td>63.523125</td>\n",
       "      <td>88470900</td>\n",
       "    </tr>\n",
       "    <tr>\n",
       "      <th>1</th>\n",
       "      <td>10/02/13</td>\n",
       "      <td>69.375717</td>\n",
       "      <td>70.257141</td>\n",
       "      <td>69.107140</td>\n",
       "      <td>69.937141</td>\n",
       "      <td>63.731426</td>\n",
       "      <td>72296000</td>\n",
       "    </tr>\n",
       "    <tr>\n",
       "      <th>2</th>\n",
       "      <td>10/03/13</td>\n",
       "      <td>70.072861</td>\n",
       "      <td>70.335716</td>\n",
       "      <td>68.677139</td>\n",
       "      <td>69.058571</td>\n",
       "      <td>62.930801</td>\n",
       "      <td>80688300</td>\n",
       "    </tr>\n",
       "    <tr>\n",
       "      <th>3</th>\n",
       "      <td>10/04/13</td>\n",
       "      <td>69.122856</td>\n",
       "      <td>69.228569</td>\n",
       "      <td>68.371429</td>\n",
       "      <td>69.004288</td>\n",
       "      <td>62.881340</td>\n",
       "      <td>64717100</td>\n",
       "    </tr>\n",
       "    <tr>\n",
       "      <th>4</th>\n",
       "      <td>10/07/13</td>\n",
       "      <td>69.508568</td>\n",
       "      <td>70.378571</td>\n",
       "      <td>69.335716</td>\n",
       "      <td>69.678574</td>\n",
       "      <td>63.495800</td>\n",
       "      <td>78073100</td>\n",
       "    </tr>\n",
       "  </tbody>\n",
       "</table>\n",
       "</div>"
      ],
      "text/plain": [
       "       Date       Open       High        Low      Close  Adj Close    Volume\n",
       "0  10/01/13  68.349998  69.877144  68.339996  69.708572  63.523125  88470900\n",
       "1  10/02/13  69.375717  70.257141  69.107140  69.937141  63.731426  72296000\n",
       "2  10/03/13  70.072861  70.335716  68.677139  69.058571  62.930801  80688300\n",
       "3  10/04/13  69.122856  69.228569  68.371429  69.004288  62.881340  64717100\n",
       "4  10/07/13  69.508568  70.378571  69.335716  69.678574  63.495800  78073100"
      ]
     },
     "execution_count": 14,
     "metadata": {},
     "output_type": "execute_result"
    }
   ],
   "source": [
    "df2.head()"
   ]
  },
  {
   "cell_type": "code",
   "execution_count": 4,
   "metadata": {
    "collapsed": false,
    "jupyter": {
     "outputs_hidden": false
    }
   },
   "outputs": [
    {
     "data": {
      "text/html": [
       "<div>\n",
       "<style scoped>\n",
       "    .dataframe tbody tr th:only-of-type {\n",
       "        vertical-align: middle;\n",
       "    }\n",
       "\n",
       "    .dataframe tbody tr th {\n",
       "        vertical-align: top;\n",
       "    }\n",
       "\n",
       "    .dataframe thead th {\n",
       "        text-align: right;\n",
       "    }\n",
       "</style>\n",
       "<table border=\"1\" class=\"dataframe\">\n",
       "  <thead>\n",
       "    <tr style=\"text-align: right;\">\n",
       "      <th></th>\n",
       "      <th>Date</th>\n",
       "      <th>Open</th>\n",
       "      <th>High</th>\n",
       "      <th>Low</th>\n",
       "      <th>Close</th>\n",
       "      <th>Adj Close</th>\n",
       "      <th>Volume</th>\n",
       "    </tr>\n",
       "  </thead>\n",
       "  <tbody>\n",
       "    <tr>\n",
       "      <th>0</th>\n",
       "      <td>9/30/13</td>\n",
       "      <td>1687.260010</td>\n",
       "      <td>1687.260010</td>\n",
       "      <td>1674.989990</td>\n",
       "      <td>1681.550049</td>\n",
       "      <td>1681.550049</td>\n",
       "      <td>3308630000</td>\n",
       "    </tr>\n",
       "    <tr>\n",
       "      <th>1</th>\n",
       "      <td>10/01/13</td>\n",
       "      <td>1682.410034</td>\n",
       "      <td>1696.550049</td>\n",
       "      <td>1682.069946</td>\n",
       "      <td>1695.000000</td>\n",
       "      <td>1695.000000</td>\n",
       "      <td>3238690000</td>\n",
       "    </tr>\n",
       "    <tr>\n",
       "      <th>2</th>\n",
       "      <td>10/02/13</td>\n",
       "      <td>1691.900024</td>\n",
       "      <td>1693.869995</td>\n",
       "      <td>1680.339966</td>\n",
       "      <td>1693.869995</td>\n",
       "      <td>1693.869995</td>\n",
       "      <td>3148600000</td>\n",
       "    </tr>\n",
       "    <tr>\n",
       "      <th>3</th>\n",
       "      <td>10/03/13</td>\n",
       "      <td>1692.349976</td>\n",
       "      <td>1692.349976</td>\n",
       "      <td>1670.359985</td>\n",
       "      <td>1678.660034</td>\n",
       "      <td>1678.660034</td>\n",
       "      <td>3279650000</td>\n",
       "    </tr>\n",
       "    <tr>\n",
       "      <th>4</th>\n",
       "      <td>10/04/13</td>\n",
       "      <td>1678.790039</td>\n",
       "      <td>1691.939941</td>\n",
       "      <td>1677.329956</td>\n",
       "      <td>1690.500000</td>\n",
       "      <td>1690.500000</td>\n",
       "      <td>2880270000</td>\n",
       "    </tr>\n",
       "  </tbody>\n",
       "</table>\n",
       "</div>"
      ],
      "text/plain": [
       "       Date         Open         High          Low        Close    Adj Close  \\\n",
       "0   9/30/13  1687.260010  1687.260010  1674.989990  1681.550049  1681.550049   \n",
       "1  10/01/13  1682.410034  1696.550049  1682.069946  1695.000000  1695.000000   \n",
       "2  10/02/13  1691.900024  1693.869995  1680.339966  1693.869995  1693.869995   \n",
       "3  10/03/13  1692.349976  1692.349976  1670.359985  1678.660034  1678.660034   \n",
       "4  10/04/13  1678.790039  1691.939941  1677.329956  1690.500000  1690.500000   \n",
       "\n",
       "       Volume  \n",
       "0  3308630000  \n",
       "1  3238690000  \n",
       "2  3148600000  \n",
       "3  3279650000  \n",
       "4  2880270000  "
      ]
     },
     "execution_count": 4,
     "metadata": {},
     "output_type": "execute_result"
    }
   ],
   "source": [
    "df.head()"
   ]
  },
  {
   "cell_type": "code",
   "execution_count": 9,
   "metadata": {
    "collapsed": false,
    "jupyter": {
     "outputs_hidden": false
    }
   },
   "outputs": [
    {
     "data": {
      "text/html": [
       "<div>\n",
       "<style scoped>\n",
       "    .dataframe tbody tr th:only-of-type {\n",
       "        vertical-align: middle;\n",
       "    }\n",
       "\n",
       "    .dataframe tbody tr th {\n",
       "        vertical-align: top;\n",
       "    }\n",
       "\n",
       "    .dataframe thead th {\n",
       "        text-align: right;\n",
       "    }\n",
       "</style>\n",
       "<table border=\"1\" class=\"dataframe\">\n",
       "  <thead>\n",
       "    <tr style=\"text-align: right;\">\n",
       "      <th></th>\n",
       "      <th>DATE</th>\n",
       "      <th>ISSUER</th>\n",
       "      <th>TYPE</th>\n",
       "      <th>SIZE</th>\n",
       "      <th>INDUSTRY</th>\n",
       "      <th>LEAD UNDERWRITER</th>\n",
       "    </tr>\n",
       "  </thead>\n",
       "  <tbody>\n",
       "    <tr>\n",
       "      <th>0</th>\n",
       "      <td>2006-01-28</td>\n",
       "      <td>US Bank N.A.</td>\n",
       "      <td>Global Notes</td>\n",
       "      <td>1000.21</td>\n",
       "      <td>Finance</td>\n",
       "      <td>Lehman Brothers</td>\n",
       "    </tr>\n",
       "    <tr>\n",
       "      <th>1</th>\n",
       "      <td>2006-01-28</td>\n",
       "      <td>Alliance National Muni Income Fund</td>\n",
       "      <td>Initial Public Offering</td>\n",
       "      <td>283.6</td>\n",
       "      <td>Finance</td>\n",
       "      <td>Salomon Smith Barney</td>\n",
       "    </tr>\n",
       "    <tr>\n",
       "      <th>2</th>\n",
       "      <td>2006-01-28</td>\n",
       "      <td>Lloyds Bank Plc NY</td>\n",
       "      <td>CD Notes</td>\n",
       "      <td>200.58</td>\n",
       "      <td>Finance</td>\n",
       "      <td>Merrill Lynch</td>\n",
       "    </tr>\n",
       "    <tr>\n",
       "      <th>3</th>\n",
       "      <td>2006-01-28</td>\n",
       "      <td>FBR Asset Investment Corp</td>\n",
       "      <td>Equity Follow-On Offering</td>\n",
       "      <td>127.2</td>\n",
       "      <td>Real Estate</td>\n",
       "      <td>Friedman, Billings, Ramsey</td>\n",
       "    </tr>\n",
       "    <tr>\n",
       "      <th>4</th>\n",
       "      <td>2006-01-28</td>\n",
       "      <td>Alliance California Muni Income Fund</td>\n",
       "      <td>Initial Public Offering</td>\n",
       "      <td>117.1</td>\n",
       "      <td>Finance</td>\n",
       "      <td>Salomon Smith Barney</td>\n",
       "    </tr>\n",
       "  </tbody>\n",
       "</table>\n",
       "</div>"
      ],
      "text/plain": [
       "        DATE                                 ISSUER  \\\n",
       "0 2006-01-28                          US Bank N.A.    \n",
       "1 2006-01-28    Alliance National Muni Income Fund    \n",
       "2 2006-01-28                    Lloyds Bank Plc NY    \n",
       "3 2006-01-28             FBR Asset Investment Corp    \n",
       "4 2006-01-28  Alliance California Muni Income Fund    \n",
       "\n",
       "                        TYPE     SIZE     INDUSTRY            LEAD UNDERWRITER  \n",
       "0               Global Notes  1000.21      Finance             Lehman Brothers  \n",
       "1    Initial Public Offering    283.6      Finance        Salomon Smith Barney  \n",
       "2                   CD Notes   200.58      Finance               Merrill Lynch  \n",
       "3  Equity Follow-On Offering    127.2  Real Estate  Friedman, Billings, Ramsey  \n",
       "4    Initial Public Offering    117.1      Finance        Salomon Smith Barney  "
      ]
     },
     "execution_count": 9,
     "metadata": {},
     "output_type": "execute_result"
    }
   ],
   "source": [
    "finDeals = pd.read_excel('ExData/Data Manipulation Worksheet.xlsx') #SHIFT TAB\n",
    "    #table with financial deals\n",
    "finDeals.head()"
   ]
  },
  {
   "cell_type": "code",
   "execution_count": 8,
   "metadata": {},
   "outputs": [],
   "source": [
    "#!pip install openpyxl"
   ]
  },
  {
   "cell_type": "markdown",
   "metadata": {},
   "source": [
    "**Tips for exploring data with pandas**\n",
    "- `.info()`, `.head()`, `.tail()`\n",
    "    - check the data types (dates should be datetime, numbers should be int or float)\n",
    "    - make sure there are no blanks\n",
    "\n",
    "- method --> is like a function that works for specific objects/data types\n",
    "    - pandas --> DataFrame object --> table\n",
    "    - dataframe methods --> formulas that go at the end of the table name\n",
    "    - table.info()\n",
    "- function --> is more generic, it doesn't go at the end of a variable\n",
    "    - read_csv(inputs, inputs)\n",
    " \n",
    "- deal with blank columns\n",
    "    - .fillna() or .dropna()"
   ]
  },
  {
   "cell_type": "code",
   "execution_count": 19,
   "metadata": {},
   "outputs": [
    {
     "name": "stdout",
     "output_type": "stream",
     "text": [
      "<class 'pandas.core.frame.DataFrame'>\n",
      "RangeIndex: 1260 entries, 0 to 1259\n",
      "Data columns (total 7 columns):\n",
      " #   Column     Non-Null Count  Dtype  \n",
      "---  ------     --------------  -----  \n",
      " 0   Date       1260 non-null   object \n",
      " 1   Open       1260 non-null   float64\n",
      " 2   High       1260 non-null   float64\n",
      " 3   Low        1260 non-null   float64\n",
      " 4   Close      1260 non-null   float64\n",
      " 5   Adj Close  1260 non-null   float64\n",
      " 6   Volume     1260 non-null   int64  \n",
      "dtypes: float64(5), int64(1), object(1)\n",
      "memory usage: 69.0+ KB\n"
     ]
    }
   ],
   "source": [
    "df.info()"
   ]
  },
  {
   "cell_type": "code",
   "execution_count": 20,
   "metadata": {},
   "outputs": [
    {
     "name": "stdout",
     "output_type": "stream",
     "text": [
      "<class 'pandas.core.frame.DataFrame'>\n",
      "RangeIndex: 568 entries, 0 to 567\n",
      "Data columns (total 6 columns):\n",
      " #   Column            Non-Null Count  Dtype         \n",
      "---  ------            --------------  -----         \n",
      " 0   DATE              557 non-null    datetime64[ns]\n",
      " 1   ISSUER            564 non-null    object        \n",
      " 2   TYPE              558 non-null    object        \n",
      " 3   SIZE              558 non-null    object        \n",
      " 4   INDUSTRY          557 non-null    object        \n",
      " 5   LEAD UNDERWRITER  557 non-null    object        \n",
      "dtypes: datetime64[ns](1), object(5)\n",
      "memory usage: 26.8+ KB\n"
     ]
    }
   ],
   "source": [
    "finDeals.info()"
   ]
  },
  {
   "cell_type": "code",
   "execution_count": 23,
   "metadata": {},
   "outputs": [
    {
     "data": {
      "text/html": [
       "<div>\n",
       "<style scoped>\n",
       "    .dataframe tbody tr th:only-of-type {\n",
       "        vertical-align: middle;\n",
       "    }\n",
       "\n",
       "    .dataframe tbody tr th {\n",
       "        vertical-align: top;\n",
       "    }\n",
       "\n",
       "    .dataframe thead th {\n",
       "        text-align: right;\n",
       "    }\n",
       "</style>\n",
       "<table border=\"1\" class=\"dataframe\">\n",
       "  <thead>\n",
       "    <tr style=\"text-align: right;\">\n",
       "      <th></th>\n",
       "      <th>DATE</th>\n",
       "      <th>ISSUER</th>\n",
       "      <th>TYPE</th>\n",
       "      <th>SIZE</th>\n",
       "      <th>INDUSTRY</th>\n",
       "      <th>LEAD UNDERWRITER</th>\n",
       "    </tr>\n",
       "  </thead>\n",
       "  <tbody>\n",
       "    <tr>\n",
       "      <th>548</th>\n",
       "      <td>2006-06-19</td>\n",
       "      <td>Comerica Bank</td>\n",
       "      <td>CD Notes</td>\n",
       "      <td>300.11</td>\n",
       "      <td>Finance</td>\n",
       "      <td>Merrill Lynch</td>\n",
       "    </tr>\n",
       "    <tr>\n",
       "      <th>549</th>\n",
       "      <td>2006-06-19</td>\n",
       "      <td>Consolidated Edison Inc.</td>\n",
       "      <td>Notes</td>\n",
       "      <td>300.12</td>\n",
       "      <td>Utility</td>\n",
       "      <td>Salomon Smith Barney</td>\n",
       "    </tr>\n",
       "    <tr>\n",
       "      <th>550</th>\n",
       "      <td>2006-06-20</td>\n",
       "      <td>MBNA Capital Securities D</td>\n",
       "      <td>Preferred Securities</td>\n",
       "      <td>300.1</td>\n",
       "      <td>Finance</td>\n",
       "      <td>Salomon Smith Barney</td>\n",
       "    </tr>\n",
       "    <tr>\n",
       "      <th>551</th>\n",
       "      <td>2006-06-20</td>\n",
       "      <td>Anworth Mortgage Asset Corp</td>\n",
       "      <td>Equity Follow-On Offering</td>\n",
       "      <td>117</td>\n",
       "      <td>Real Estate</td>\n",
       "      <td>Friedman, Billings, Ramsey</td>\n",
       "    </tr>\n",
       "    <tr>\n",
       "      <th>552</th>\n",
       "      <td>2006-06-21</td>\n",
       "      <td>Alabama Power Company</td>\n",
       "      <td>Sr Notes</td>\n",
       "      <td>350</td>\n",
       "      <td>Utility</td>\n",
       "      <td>Lehman Brothers</td>\n",
       "    </tr>\n",
       "    <tr>\n",
       "      <th>553</th>\n",
       "      <td>2006-06-21</td>\n",
       "      <td>Sears Roebuck Acceptance Corp</td>\n",
       "      <td>Sr Notes</td>\n",
       "      <td>250.1</td>\n",
       "      <td>Finance</td>\n",
       "      <td>Merrill Lynch</td>\n",
       "    </tr>\n",
       "    <tr>\n",
       "      <th>554</th>\n",
       "      <td>2006-06-21</td>\n",
       "      <td>DQE Inc</td>\n",
       "      <td>Equity Follow-On Offering</td>\n",
       "      <td>202.5</td>\n",
       "      <td>Utility</td>\n",
       "      <td>Lehman Brothers</td>\n",
       "    </tr>\n",
       "    <tr>\n",
       "      <th>555</th>\n",
       "      <td>2006-06-21</td>\n",
       "      <td>MassMutual</td>\n",
       "      <td>Global Notes</td>\n",
       "      <td>200.1</td>\n",
       "      <td>Finance</td>\n",
       "      <td>Morgan Stanley</td>\n",
       "    </tr>\n",
       "    <tr>\n",
       "      <th>556</th>\n",
       "      <td>2006-06-21</td>\n",
       "      <td>Conceptus Inc</td>\n",
       "      <td>Equity Follow-On Offering</td>\n",
       "      <td>72</td>\n",
       "      <td>Healthcare</td>\n",
       "      <td>UBS Warburg</td>\n",
       "    </tr>\n",
       "    <tr>\n",
       "      <th>557</th>\n",
       "      <td>NaT</td>\n",
       "      <td>NaN</td>\n",
       "      <td>NaN</td>\n",
       "      <td>NaN</td>\n",
       "      <td>NaN</td>\n",
       "      <td>NaN</td>\n",
       "    </tr>\n",
       "    <tr>\n",
       "      <th>558</th>\n",
       "      <td>NaT</td>\n",
       "      <td>NaN</td>\n",
       "      <td>NaN</td>\n",
       "      <td>NaN</td>\n",
       "      <td>NaN</td>\n",
       "      <td>NaN</td>\n",
       "    </tr>\n",
       "    <tr>\n",
       "      <th>559</th>\n",
       "      <td>NaT</td>\n",
       "      <td>NaN</td>\n",
       "      <td>NaN</td>\n",
       "      <td>NaN</td>\n",
       "      <td>NaN</td>\n",
       "      <td>NaN</td>\n",
       "    </tr>\n",
       "    <tr>\n",
       "      <th>560</th>\n",
       "      <td>NaT</td>\n",
       "      <td>NaN</td>\n",
       "      <td>NaN</td>\n",
       "      <td>NaN</td>\n",
       "      <td>NaN</td>\n",
       "      <td>NaN</td>\n",
       "    </tr>\n",
       "    <tr>\n",
       "      <th>561</th>\n",
       "      <td>NaT</td>\n",
       "      <td>ISSUER</td>\n",
       "      <td>LEAD UNDERWRITER</td>\n",
       "      <td>SIZE</td>\n",
       "      <td>NaN</td>\n",
       "      <td>NaN</td>\n",
       "    </tr>\n",
       "    <tr>\n",
       "      <th>562</th>\n",
       "      <td>NaT</td>\n",
       "      <td>Linens 'n Things Inc</td>\n",
       "      <td>NaN</td>\n",
       "      <td>NaN</td>\n",
       "      <td>NaN</td>\n",
       "      <td>NaN</td>\n",
       "    </tr>\n",
       "    <tr>\n",
       "      <th>563</th>\n",
       "      <td>NaT</td>\n",
       "      <td>MBNA Capital Securities D</td>\n",
       "      <td>NaN</td>\n",
       "      <td>NaN</td>\n",
       "      <td>NaN</td>\n",
       "      <td>NaN</td>\n",
       "    </tr>\n",
       "    <tr>\n",
       "      <th>564</th>\n",
       "      <td>NaT</td>\n",
       "      <td>Husky Oil Ltd.</td>\n",
       "      <td>NaN</td>\n",
       "      <td>NaN</td>\n",
       "      <td>NaN</td>\n",
       "      <td>NaN</td>\n",
       "    </tr>\n",
       "    <tr>\n",
       "      <th>565</th>\n",
       "      <td>NaT</td>\n",
       "      <td>ProQuest Co</td>\n",
       "      <td>NaN</td>\n",
       "      <td>NaN</td>\n",
       "      <td>NaN</td>\n",
       "      <td>NaN</td>\n",
       "    </tr>\n",
       "    <tr>\n",
       "      <th>566</th>\n",
       "      <td>NaT</td>\n",
       "      <td>TXU Corp</td>\n",
       "      <td>NaN</td>\n",
       "      <td>NaN</td>\n",
       "      <td>NaN</td>\n",
       "      <td>NaN</td>\n",
       "    </tr>\n",
       "    <tr>\n",
       "      <th>567</th>\n",
       "      <td>NaT</td>\n",
       "      <td>United Dominion Realty Trust Inc.</td>\n",
       "      <td>NaN</td>\n",
       "      <td>NaN</td>\n",
       "      <td>NaN</td>\n",
       "      <td>NaN</td>\n",
       "    </tr>\n",
       "  </tbody>\n",
       "</table>\n",
       "</div>"
      ],
      "text/plain": [
       "          DATE                              ISSUER                       TYPE  \\\n",
       "548 2006-06-19                      Comerica Bank                    CD Notes   \n",
       "549 2006-06-19           Consolidated Edison Inc.                       Notes   \n",
       "550 2006-06-20          MBNA Capital Securities D        Preferred Securities   \n",
       "551 2006-06-20        Anworth Mortgage Asset Corp   Equity Follow-On Offering   \n",
       "552 2006-06-21              Alabama Power Company                    Sr Notes   \n",
       "553 2006-06-21      Sears Roebuck Acceptance Corp                    Sr Notes   \n",
       "554 2006-06-21                            DQE Inc   Equity Follow-On Offering   \n",
       "555 2006-06-21                         MassMutual                Global Notes   \n",
       "556 2006-06-21                      Conceptus Inc   Equity Follow-On Offering   \n",
       "557        NaT                                 NaN                        NaN   \n",
       "558        NaT                                 NaN                        NaN   \n",
       "559        NaT                                 NaN                        NaN   \n",
       "560        NaT                                 NaN                        NaN   \n",
       "561        NaT                              ISSUER           LEAD UNDERWRITER   \n",
       "562        NaT               Linens 'n Things Inc                         NaN   \n",
       "563        NaT          MBNA Capital Securities D                         NaN   \n",
       "564        NaT                     Husky Oil Ltd.                         NaN   \n",
       "565        NaT                        ProQuest Co                         NaN   \n",
       "566        NaT                           TXU Corp                         NaN   \n",
       "567        NaT  United Dominion Realty Trust Inc.                         NaN   \n",
       "\n",
       "       SIZE     INDUSTRY            LEAD UNDERWRITER  \n",
       "548  300.11      Finance               Merrill Lynch  \n",
       "549  300.12      Utility        Salomon Smith Barney  \n",
       "550   300.1      Finance        Salomon Smith Barney  \n",
       "551     117  Real Estate  Friedman, Billings, Ramsey  \n",
       "552     350      Utility             Lehman Brothers  \n",
       "553   250.1      Finance               Merrill Lynch  \n",
       "554   202.5      Utility             Lehman Brothers  \n",
       "555   200.1      Finance              Morgan Stanley  \n",
       "556      72   Healthcare                 UBS Warburg  \n",
       "557     NaN          NaN                         NaN  \n",
       "558     NaN          NaN                         NaN  \n",
       "559     NaN          NaN                         NaN  \n",
       "560     NaN          NaN                         NaN  \n",
       "561    SIZE          NaN                         NaN  \n",
       "562     NaN          NaN                         NaN  \n",
       "563     NaN          NaN                         NaN  \n",
       "564     NaN          NaN                         NaN  \n",
       "565     NaN          NaN                         NaN  \n",
       "566     NaN          NaN                         NaN  \n",
       "567     NaN          NaN                         NaN  "
      ]
     },
     "execution_count": 23,
     "metadata": {},
     "output_type": "execute_result"
    }
   ],
   "source": [
    "# finDeals.head()\n",
    "finDeals.tail(20) #last 20 rows"
   ]
  },
  {
   "cell_type": "markdown",
   "metadata": {},
   "source": [
    "## Re-import and fix the data"
   ]
  },
  {
   "cell_type": "code",
   "execution_count": 24,
   "metadata": {},
   "outputs": [],
   "source": [
    "finDeals = pd.read_excel('ExData/Data Manipulation Worksheet.xlsx', skipfooter=11)\n",
    "        #skip the last 11 rows\n",
    "        #useful if it's ALWAYS 11 rows at bottom that you need to delete"
   ]
  },
  {
   "cell_type": "code",
   "execution_count": 27,
   "metadata": {},
   "outputs": [],
   "source": [
    "finDeals = pd.read_excel('ExData/Data Manipulation Worksheet.xlsx', sheet_name='Financing Table Clean')\n",
    "                                                                    #sheet_name=1"
   ]
  },
  {
   "cell_type": "code",
   "execution_count": 28,
   "metadata": {},
   "outputs": [
    {
     "name": "stdout",
     "output_type": "stream",
     "text": [
      "<class 'pandas.core.frame.DataFrame'>\n",
      "RangeIndex: 557 entries, 0 to 556\n",
      "Data columns (total 6 columns):\n",
      " #   Column            Non-Null Count  Dtype         \n",
      "---  ------            --------------  -----         \n",
      " 0   DATE              557 non-null    datetime64[ns]\n",
      " 1   ISSUER            557 non-null    object        \n",
      " 2   TYPE              557 non-null    object        \n",
      " 3   SIZE              557 non-null    float64       \n",
      " 4   INDUSTRY          557 non-null    object        \n",
      " 5   LEAD UNDERWRITER  557 non-null    object        \n",
      "dtypes: datetime64[ns](1), float64(1), object(4)\n",
      "memory usage: 26.2+ KB\n"
     ]
    }
   ],
   "source": [
    "finDeals.info()"
   ]
  },
  {
   "cell_type": "code",
   "execution_count": 29,
   "metadata": {},
   "outputs": [
    {
     "name": "stderr",
     "output_type": "stream",
     "text": [
      "C:\\Users\\V806013\\AppData\\Local\\Temp\\4\\ipykernel_39352\\387737003.py:1: UserWarning: Could not infer format, so each element will be parsed individually, falling back to `dateutil`. To ensure parsing is consistent and as-expected, please specify a format.\n",
      "  sp500 = pd.read_csv('StockData/SP500.csv',parse_dates=['Date'])\n"
     ]
    }
   ],
   "source": [
    "sp500 = pd.read_csv('StockData/SP500.csv',parse_dates=['Date'])"
   ]
  },
  {
   "cell_type": "code",
   "execution_count": 32,
   "metadata": {},
   "outputs": [
    {
     "data": {
      "text/plain": [
       "'2.0.3'"
      ]
     },
     "execution_count": 32,
     "metadata": {},
     "output_type": "execute_result"
    }
   ],
   "source": [
    "pd.__version__"
   ]
  },
  {
   "cell_type": "code",
   "execution_count": 34,
   "metadata": {},
   "outputs": [],
   "source": [
    "test = pd.read_csv('ExData/ff3_daily.csv', parse_dates=['date'])"
   ]
  },
  {
   "cell_type": "code",
   "execution_count": 38,
   "metadata": {},
   "outputs": [],
   "source": [
    "# test.info()\n",
    "# test.head() # yyyy-mm-dd\n",
    "# sp500.head()"
   ]
  },
  {
   "cell_type": "code",
   "execution_count": 39,
   "metadata": {},
   "outputs": [
    {
     "data": {
      "text/html": [
       "<div>\n",
       "<style scoped>\n",
       "    .dataframe tbody tr th:only-of-type {\n",
       "        vertical-align: middle;\n",
       "    }\n",
       "\n",
       "    .dataframe tbody tr th {\n",
       "        vertical-align: top;\n",
       "    }\n",
       "\n",
       "    .dataframe thead th {\n",
       "        text-align: right;\n",
       "    }\n",
       "</style>\n",
       "<table border=\"1\" class=\"dataframe\">\n",
       "  <thead>\n",
       "    <tr style=\"text-align: right;\">\n",
       "      <th></th>\n",
       "      <th>Date</th>\n",
       "      <th>Open</th>\n",
       "      <th>High</th>\n",
       "      <th>Low</th>\n",
       "      <th>Close</th>\n",
       "      <th>Adj Close</th>\n",
       "      <th>Volume</th>\n",
       "    </tr>\n",
       "  </thead>\n",
       "  <tbody>\n",
       "    <tr>\n",
       "      <th>0</th>\n",
       "      <td>2013-09-30</td>\n",
       "      <td>1687.260010</td>\n",
       "      <td>1687.260010</td>\n",
       "      <td>1674.989990</td>\n",
       "      <td>1681.550049</td>\n",
       "      <td>1681.550049</td>\n",
       "      <td>3308630000</td>\n",
       "    </tr>\n",
       "    <tr>\n",
       "      <th>1</th>\n",
       "      <td>2013-10-01</td>\n",
       "      <td>1682.410034</td>\n",
       "      <td>1696.550049</td>\n",
       "      <td>1682.069946</td>\n",
       "      <td>1695.000000</td>\n",
       "      <td>1695.000000</td>\n",
       "      <td>3238690000</td>\n",
       "    </tr>\n",
       "    <tr>\n",
       "      <th>2</th>\n",
       "      <td>2013-10-02</td>\n",
       "      <td>1691.900024</td>\n",
       "      <td>1693.869995</td>\n",
       "      <td>1680.339966</td>\n",
       "      <td>1693.869995</td>\n",
       "      <td>1693.869995</td>\n",
       "      <td>3148600000</td>\n",
       "    </tr>\n",
       "    <tr>\n",
       "      <th>3</th>\n",
       "      <td>2013-10-03</td>\n",
       "      <td>1692.349976</td>\n",
       "      <td>1692.349976</td>\n",
       "      <td>1670.359985</td>\n",
       "      <td>1678.660034</td>\n",
       "      <td>1678.660034</td>\n",
       "      <td>3279650000</td>\n",
       "    </tr>\n",
       "    <tr>\n",
       "      <th>4</th>\n",
       "      <td>2013-10-04</td>\n",
       "      <td>1678.790039</td>\n",
       "      <td>1691.939941</td>\n",
       "      <td>1677.329956</td>\n",
       "      <td>1690.500000</td>\n",
       "      <td>1690.500000</td>\n",
       "      <td>2880270000</td>\n",
       "    </tr>\n",
       "  </tbody>\n",
       "</table>\n",
       "</div>"
      ],
      "text/plain": [
       "        Date         Open         High          Low        Close    Adj Close  \\\n",
       "0 2013-09-30  1687.260010  1687.260010  1674.989990  1681.550049  1681.550049   \n",
       "1 2013-10-01  1682.410034  1696.550049  1682.069946  1695.000000  1695.000000   \n",
       "2 2013-10-02  1691.900024  1693.869995  1680.339966  1693.869995  1693.869995   \n",
       "3 2013-10-03  1692.349976  1692.349976  1670.359985  1678.660034  1678.660034   \n",
       "4 2013-10-04  1678.790039  1691.939941  1677.329956  1690.500000  1690.500000   \n",
       "\n",
       "       Volume  \n",
       "0  3308630000  \n",
       "1  3238690000  \n",
       "2  3148600000  \n",
       "3  3279650000  \n",
       "4  2880270000  "
      ]
     },
     "execution_count": 39,
     "metadata": {},
     "output_type": "execute_result"
    }
   ],
   "source": [
    "sp500.head()"
   ]
  },
  {
   "cell_type": "code",
   "execution_count": 40,
   "metadata": {},
   "outputs": [
    {
     "data": {
      "text/plain": [
       "1695.0"
      ]
     },
     "execution_count": 40,
     "metadata": {},
     "output_type": "execute_result"
    }
   ],
   "source": [
    "#Extractng Data\n",
    "#table.iloc[row][column] --> integer location, row numbers\n",
    "sp500.iloc[1]['Close']"
   ]
  },
  {
   "cell_type": "code",
   "execution_count": 42,
   "metadata": {},
   "outputs": [
    {
     "name": "stderr",
     "output_type": "stream",
     "text": [
      "C:\\Users\\V806013\\AppData\\Local\\Temp\\4\\ipykernel_39352\\2533846645.py:1: UserWarning: Could not infer format, so each element will be parsed individually, falling back to `dateutil`. To ensure parsing is consistent and as-expected, please specify a format.\n",
      "  sp500 = pd.read_csv('StockData/SP500.csv',parse_dates=['Date'],index_col=['Date'])\n"
     ]
    },
    {
     "data": {
      "text/plain": [
       "1695.0"
      ]
     },
     "execution_count": 42,
     "metadata": {},
     "output_type": "execute_result"
    }
   ],
   "source": [
    "sp500 = pd.read_csv('StockData/SP500.csv',parse_dates=['Date'],index_col=['Date'])\n",
    "# sp500.head()\n",
    "sp500.iloc[1]['Close']"
   ]
  },
  {
   "cell_type": "code",
   "execution_count": 43,
   "metadata": {},
   "outputs": [
    {
     "data": {
      "text/plain": [
       "1695.0"
      ]
     },
     "execution_count": 43,
     "metadata": {},
     "output_type": "execute_result"
    }
   ],
   "source": [
    "sp500.loc['2013-10-01']['Close']"
   ]
  },
  {
   "cell_type": "code",
   "execution_count": 47,
   "metadata": {},
   "outputs": [
    {
     "data": {
      "text/html": [
       "<div>\n",
       "<style scoped>\n",
       "    .dataframe tbody tr th:only-of-type {\n",
       "        vertical-align: middle;\n",
       "    }\n",
       "\n",
       "    .dataframe tbody tr th {\n",
       "        vertical-align: top;\n",
       "    }\n",
       "\n",
       "    .dataframe thead th {\n",
       "        text-align: right;\n",
       "    }\n",
       "</style>\n",
       "<table border=\"1\" class=\"dataframe\">\n",
       "  <thead>\n",
       "    <tr style=\"text-align: right;\">\n",
       "      <th></th>\n",
       "      <th>Open</th>\n",
       "      <th>High</th>\n",
       "      <th>Low</th>\n",
       "      <th>Close</th>\n",
       "      <th>Adj Close</th>\n",
       "      <th>Volume</th>\n",
       "    </tr>\n",
       "    <tr>\n",
       "      <th>Date</th>\n",
       "      <th></th>\n",
       "      <th></th>\n",
       "      <th></th>\n",
       "      <th></th>\n",
       "      <th></th>\n",
       "      <th></th>\n",
       "    </tr>\n",
       "  </thead>\n",
       "  <tbody>\n",
       "    <tr>\n",
       "      <th>2015-01-02</th>\n",
       "      <td>2058.899902</td>\n",
       "      <td>2072.360107</td>\n",
       "      <td>2046.040039</td>\n",
       "      <td>2058.199951</td>\n",
       "      <td>2058.199951</td>\n",
       "      <td>2708700000</td>\n",
       "    </tr>\n",
       "    <tr>\n",
       "      <th>2015-01-05</th>\n",
       "      <td>2054.439941</td>\n",
       "      <td>2054.439941</td>\n",
       "      <td>2017.339966</td>\n",
       "      <td>2020.579956</td>\n",
       "      <td>2020.579956</td>\n",
       "      <td>3799120000</td>\n",
       "    </tr>\n",
       "    <tr>\n",
       "      <th>2015-01-06</th>\n",
       "      <td>2022.150024</td>\n",
       "      <td>2030.250000</td>\n",
       "      <td>1992.439941</td>\n",
       "      <td>2002.609985</td>\n",
       "      <td>2002.609985</td>\n",
       "      <td>4460110000</td>\n",
       "    </tr>\n",
       "    <tr>\n",
       "      <th>2015-01-07</th>\n",
       "      <td>2005.550049</td>\n",
       "      <td>2029.609985</td>\n",
       "      <td>2005.550049</td>\n",
       "      <td>2025.900024</td>\n",
       "      <td>2025.900024</td>\n",
       "      <td>3805480000</td>\n",
       "    </tr>\n",
       "    <tr>\n",
       "      <th>2015-01-08</th>\n",
       "      <td>2030.609985</td>\n",
       "      <td>2064.080078</td>\n",
       "      <td>2030.609985</td>\n",
       "      <td>2062.139893</td>\n",
       "      <td>2062.139893</td>\n",
       "      <td>3934010000</td>\n",
       "    </tr>\n",
       "    <tr>\n",
       "      <th>...</th>\n",
       "      <td>...</td>\n",
       "      <td>...</td>\n",
       "      <td>...</td>\n",
       "      <td>...</td>\n",
       "      <td>...</td>\n",
       "      <td>...</td>\n",
       "    </tr>\n",
       "    <tr>\n",
       "      <th>2015-03-25</th>\n",
       "      <td>2093.100098</td>\n",
       "      <td>2097.429932</td>\n",
       "      <td>2061.050049</td>\n",
       "      <td>2061.050049</td>\n",
       "      <td>2061.050049</td>\n",
       "      <td>3521140000</td>\n",
       "    </tr>\n",
       "    <tr>\n",
       "      <th>2015-03-26</th>\n",
       "      <td>2059.939941</td>\n",
       "      <td>2067.149902</td>\n",
       "      <td>2045.500000</td>\n",
       "      <td>2056.149902</td>\n",
       "      <td>2056.149902</td>\n",
       "      <td>3510670000</td>\n",
       "    </tr>\n",
       "    <tr>\n",
       "      <th>2015-03-27</th>\n",
       "      <td>2055.780029</td>\n",
       "      <td>2062.830078</td>\n",
       "      <td>2052.959961</td>\n",
       "      <td>2061.020020</td>\n",
       "      <td>2061.020020</td>\n",
       "      <td>3008550000</td>\n",
       "    </tr>\n",
       "    <tr>\n",
       "      <th>2015-03-30</th>\n",
       "      <td>2064.110107</td>\n",
       "      <td>2088.969971</td>\n",
       "      <td>2064.110107</td>\n",
       "      <td>2086.239990</td>\n",
       "      <td>2086.239990</td>\n",
       "      <td>2917690000</td>\n",
       "    </tr>\n",
       "    <tr>\n",
       "      <th>2015-03-31</th>\n",
       "      <td>2084.050049</td>\n",
       "      <td>2084.050049</td>\n",
       "      <td>2067.040039</td>\n",
       "      <td>2067.889893</td>\n",
       "      <td>2067.889893</td>\n",
       "      <td>3376550000</td>\n",
       "    </tr>\n",
       "  </tbody>\n",
       "</table>\n",
       "<p>61 rows × 6 columns</p>\n",
       "</div>"
      ],
      "text/plain": [
       "                   Open         High          Low        Close    Adj Close  \\\n",
       "Date                                                                          \n",
       "2015-01-02  2058.899902  2072.360107  2046.040039  2058.199951  2058.199951   \n",
       "2015-01-05  2054.439941  2054.439941  2017.339966  2020.579956  2020.579956   \n",
       "2015-01-06  2022.150024  2030.250000  1992.439941  2002.609985  2002.609985   \n",
       "2015-01-07  2005.550049  2029.609985  2005.550049  2025.900024  2025.900024   \n",
       "2015-01-08  2030.609985  2064.080078  2030.609985  2062.139893  2062.139893   \n",
       "...                 ...          ...          ...          ...          ...   \n",
       "2015-03-25  2093.100098  2097.429932  2061.050049  2061.050049  2061.050049   \n",
       "2015-03-26  2059.939941  2067.149902  2045.500000  2056.149902  2056.149902   \n",
       "2015-03-27  2055.780029  2062.830078  2052.959961  2061.020020  2061.020020   \n",
       "2015-03-30  2064.110107  2088.969971  2064.110107  2086.239990  2086.239990   \n",
       "2015-03-31  2084.050049  2084.050049  2067.040039  2067.889893  2067.889893   \n",
       "\n",
       "                Volume  \n",
       "Date                    \n",
       "2015-01-02  2708700000  \n",
       "2015-01-05  3799120000  \n",
       "2015-01-06  4460110000  \n",
       "2015-01-07  3805480000  \n",
       "2015-01-08  3934010000  \n",
       "...                ...  \n",
       "2015-03-25  3521140000  \n",
       "2015-03-26  3510670000  \n",
       "2015-03-27  3008550000  \n",
       "2015-03-30  2917690000  \n",
       "2015-03-31  3376550000  \n",
       "\n",
       "[61 rows x 6 columns]"
      ]
     },
     "execution_count": 47,
     "metadata": {},
     "output_type": "execute_result"
    }
   ],
   "source": [
    "# sp500.loc['2015-01'][['Close','Open']]\n",
    "# sp500[['Close','Open']]\n",
    "sp500.loc['2015-01-01':'2015-03-31']"
   ]
  },
  {
   "cell_type": "markdown",
   "metadata": {},
   "source": [
    "## Adding Custom Columns"
   ]
  },
  {
   "cell_type": "code",
   "execution_count": 50,
   "metadata": {},
   "outputs": [],
   "source": [
    "sp500['Volume (mm)'] = sp500['Volume'] / 10**6 #divide by a million\n",
    "# sp500.head()\n",
    "sp500['Intraday Returns'] = sp500['Close']  / sp500['Open'] - 1\n",
    "            # (x1 - y1) / y1 = x1 / y1 - 1"
   ]
  },
  {
   "cell_type": "code",
   "execution_count": 51,
   "metadata": {},
   "outputs": [
    {
     "data": {
      "text/html": [
       "<div>\n",
       "<style scoped>\n",
       "    .dataframe tbody tr th:only-of-type {\n",
       "        vertical-align: middle;\n",
       "    }\n",
       "\n",
       "    .dataframe tbody tr th {\n",
       "        vertical-align: top;\n",
       "    }\n",
       "\n",
       "    .dataframe thead th {\n",
       "        text-align: right;\n",
       "    }\n",
       "</style>\n",
       "<table border=\"1\" class=\"dataframe\">\n",
       "  <thead>\n",
       "    <tr style=\"text-align: right;\">\n",
       "      <th></th>\n",
       "      <th>Open</th>\n",
       "      <th>High</th>\n",
       "      <th>Low</th>\n",
       "      <th>Close</th>\n",
       "      <th>Adj Close</th>\n",
       "      <th>Volume</th>\n",
       "      <th>Volume (mm)</th>\n",
       "      <th>Intraday Returns</th>\n",
       "    </tr>\n",
       "    <tr>\n",
       "      <th>Date</th>\n",
       "      <th></th>\n",
       "      <th></th>\n",
       "      <th></th>\n",
       "      <th></th>\n",
       "      <th></th>\n",
       "      <th></th>\n",
       "      <th></th>\n",
       "      <th></th>\n",
       "    </tr>\n",
       "  </thead>\n",
       "  <tbody>\n",
       "    <tr>\n",
       "      <th>2013-09-30</th>\n",
       "      <td>1687.260010</td>\n",
       "      <td>1687.260010</td>\n",
       "      <td>1674.989990</td>\n",
       "      <td>1681.550049</td>\n",
       "      <td>1681.550049</td>\n",
       "      <td>3308630000</td>\n",
       "      <td>3308.63</td>\n",
       "      <td>-0.003384</td>\n",
       "    </tr>\n",
       "    <tr>\n",
       "      <th>2013-10-01</th>\n",
       "      <td>1682.410034</td>\n",
       "      <td>1696.550049</td>\n",
       "      <td>1682.069946</td>\n",
       "      <td>1695.000000</td>\n",
       "      <td>1695.000000</td>\n",
       "      <td>3238690000</td>\n",
       "      <td>3238.69</td>\n",
       "      <td>0.007483</td>\n",
       "    </tr>\n",
       "    <tr>\n",
       "      <th>2013-10-02</th>\n",
       "      <td>1691.900024</td>\n",
       "      <td>1693.869995</td>\n",
       "      <td>1680.339966</td>\n",
       "      <td>1693.869995</td>\n",
       "      <td>1693.869995</td>\n",
       "      <td>3148600000</td>\n",
       "      <td>3148.60</td>\n",
       "      <td>0.001164</td>\n",
       "    </tr>\n",
       "  </tbody>\n",
       "</table>\n",
       "</div>"
      ],
      "text/plain": [
       "                   Open         High          Low        Close    Adj Close  \\\n",
       "Date                                                                          \n",
       "2013-09-30  1687.260010  1687.260010  1674.989990  1681.550049  1681.550049   \n",
       "2013-10-01  1682.410034  1696.550049  1682.069946  1695.000000  1695.000000   \n",
       "2013-10-02  1691.900024  1693.869995  1680.339966  1693.869995  1693.869995   \n",
       "\n",
       "                Volume  Volume (mm)  Intraday Returns  \n",
       "Date                                                   \n",
       "2013-09-30  3308630000      3308.63         -0.003384  \n",
       "2013-10-01  3238690000      3238.69          0.007483  \n",
       "2013-10-02  3148600000      3148.60          0.001164  "
      ]
     },
     "execution_count": 51,
     "metadata": {},
     "output_type": "execute_result"
    }
   ],
   "source": [
    "sp500.head(3)"
   ]
  },
  {
   "cell_type": "markdown",
   "metadata": {},
   "source": [
    "## Lunch Break until 1pm EST"
   ]
  },
  {
   "cell_type": "code",
   "execution_count": null,
   "metadata": {},
   "outputs": [],
   "source": []
  }
 ],
 "metadata": {
  "kernelspec": {
   "display_name": "Python 3 (ipykernel)",
   "language": "python",
   "name": "python3"
  },
  "language_info": {
   "codemirror_mode": {
    "name": "ipython",
    "version": 3
   },
   "file_extension": ".py",
   "mimetype": "text/x-python",
   "name": "python",
   "nbconvert_exporter": "python",
   "pygments_lexer": "ipython3",
   "version": "3.8.10"
  }
 },
 "nbformat": 4,
 "nbformat_minor": 4
}
