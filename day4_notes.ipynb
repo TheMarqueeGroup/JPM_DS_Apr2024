{
 "cells": [
  {
   "cell_type": "markdown",
   "id": "dd881719-facd-4010-9faf-7567649e8e52",
   "metadata": {},
   "source": [
    "# Day 4 - Data Science Essentials Program\n",
    "NAMR - Apr 2024\n",
    "\n",
    "**Agenda for today**\n",
    "- Take-up of the Decision Tree assignment and ccp_alpha pruning\n",
    "- Model selection\n",
    "    - Cross-validation - stratified\n",
    "    - Cross-validation - group\n",
    "- Extra resources and other models\n",
    "\n",
    "**Before we get started**\n",
    "- open up the `DecisionTreeAssignmentAnswer.ipynb` file (in Solutions folder)"
   ]
  },
  {
   "cell_type": "code",
   "execution_count": null,
   "id": "d0e49b6d-c0b7-4e33-ba8b-b49f2a5bbc0f",
   "metadata": {},
   "outputs": [],
   "source": [
    "import os\n",
    "import numpy as np\n",
    "import pandas as pd\n",
    "import matplotlib.pyplot as plt\n",
    "import seaborn as sns\n",
    "from sklearn import tree\n",
    "from sklearn.model_selection import train_test_split\n",
    "from sklearn.preprocessing import StandardScaler\n",
    "from sklearn.metrics import confusion_matrix\n",
    "from sklearn.metrics import classification_report\n",
    "from sklearn.metrics import roc_curve, auc"
   ]
  },
  {
   "cell_type": "code",
   "execution_count": 3,
   "id": "2731345a-f76c-410e-b21c-ba1ad919d3b5",
   "metadata": {},
   "outputs": [],
   "source": [
    "from sklearn.metrics import recall_score, precision_score"
   ]
  },
  {
   "cell_type": "code",
   "execution_count": 2,
   "id": "7c6a5fe1-238d-4b72-badc-07d71eb2dc5b",
   "metadata": {},
   "outputs": [],
   "source": [
    "df = pd.read_csv(\"ExData/car_data.csv\")\n",
    "df.set_index([\"User ID\"], inplace=True)\n",
    "df = pd.concat([df, pd.get_dummies(df['Gender'],dtype=int)], axis=1)\n",
    "# df.head(10)"
   ]
  },
  {
   "cell_type": "code",
   "execution_count": 4,
   "id": "88f7f2eb-4ca9-4101-9f4c-d0b1f8ddb39c",
   "metadata": {},
   "outputs": [],
   "source": [
    "clf = tree.DecisionTreeClassifier()\n",
    "X_train, X_test, y_train, y_test = train_test_split(df[['Age', 'AnnualSalary']], df['Purchased'],\n",
    "                                                    test_size=0.25, random_state=42)"
   ]
  },
  {
   "cell_type": "code",
   "execution_count": 7,
   "id": "a08fc2b2-0da5-430b-b765-4808d4d969c2",
   "metadata": {},
   "outputs": [],
   "source": [
    "path = clf.cost_complexity_pruning_path(X_train, y_train)\n",
    "ccp_alphas, impurities = path.ccp_alphas, path.impurities"
   ]
  },
  {
   "cell_type": "markdown",
   "id": "dc9e3b6a-af22-4260-98fd-3d60d75d7010",
   "metadata": {},
   "source": [
    "**Steps to find best model - Decision Tree**\n",
    "1) create empty lists to store all results you need\n",
    "2) loop through all the options of ccp_alphas\n",
    "3) inside the loop re-run the models, and append to the empty lists all the results\n",
    "4) create a table out of all the results and pick best model"
   ]
  },
  {
   "cell_type": "code",
   "execution_count": 12,
   "id": "59a334d6-c629-4932-85b7-9dfeb4e08dd5",
   "metadata": {},
   "outputs": [
    {
     "name": "stderr",
     "output_type": "stream",
     "text": [
      "c:\\users\\v806013\\ds\\tools\\python3.8\\latest\\lib\\site-packages\\sklearn\\metrics\\_classification.py:1471: UndefinedMetricWarning: Precision is ill-defined and being set to 0.0 due to no predicted samples. Use `zero_division` parameter to control this behavior.\n",
      "  _warn_prf(average, modifier, msg_start, len(result))\n"
     ]
    }
   ],
   "source": [
    "#Loop that creates all the 39 different models, while it's looping save down all the metrics we need\n",
    "#Step 1 - empty lists\n",
    "models = [] #save all the DT models\n",
    "train_scores = [] #accuracy\n",
    "test_scores = [] #accuracy\n",
    "test_recall = []\n",
    "test_precision = []\n",
    "nodes = []\n",
    "leaves = []\n",
    "depths = []\n",
    "\n",
    "#Step 2 - loop through alphas\n",
    "for alpha in ccp_alphas:\n",
    "    # print(alpha)\n",
    "    #Step 3 - re-run the models\n",
    "    clf = tree.DecisionTreeClassifier(ccp_alpha=alpha, random_state=0)\n",
    "    clf.fit(X_train, y_train)\n",
    "    models.append(clf)\n",
    "\n",
    "    #calc the scores\n",
    "    score_train = clf.score(X_train, y_train) #accuracy score for just train\n",
    "    score_test = clf.score(X_test, y_test) #accuracy score for just test\n",
    "    train_scores.append(score_train)\n",
    "    test_scores.append(score_test)\n",
    "\n",
    "    recall = recall_score(y_test, clf.predict(X_test))\n",
    "    prec = precision_score(y_test, clf.predict(X_test))\n",
    "    test_recall.append(recall)\n",
    "    test_precision.append(prec)\n",
    "\n",
    "    #information about the tree\n",
    "    nodes.append(clf.tree_.node_count)\n",
    "    leaves.append(clf.get_n_leaves())\n",
    "    depths.append(clf.get_depth())"
   ]
  },
  {
   "cell_type": "code",
   "execution_count": 16,
   "id": "09473703-98a2-4c78-951f-f5dd442db81e",
   "metadata": {},
   "outputs": [
    {
     "data": {
      "text/html": [
       "<div>\n",
       "<style scoped>\n",
       "    .dataframe tbody tr th:only-of-type {\n",
       "        vertical-align: middle;\n",
       "    }\n",
       "\n",
       "    .dataframe tbody tr th {\n",
       "        vertical-align: top;\n",
       "    }\n",
       "\n",
       "    .dataframe thead th {\n",
       "        text-align: right;\n",
       "    }\n",
       "</style>\n",
       "<table border=\"1\" class=\"dataframe\">\n",
       "  <thead>\n",
       "    <tr style=\"text-align: right;\">\n",
       "      <th></th>\n",
       "      <th>Train Score</th>\n",
       "      <th>Test Score</th>\n",
       "      <th>Test Precision</th>\n",
       "      <th>Test Recall</th>\n",
       "      <th>Nodes</th>\n",
       "      <th>Leaves</th>\n",
       "      <th>Depths</th>\n",
       "      <th>Alpha</th>\n",
       "    </tr>\n",
       "  </thead>\n",
       "  <tbody>\n",
       "    <tr>\n",
       "      <th>0</th>\n",
       "      <td>0.993333</td>\n",
       "      <td>0.864</td>\n",
       "      <td>0.867925</td>\n",
       "      <td>0.821429</td>\n",
       "      <td>217</td>\n",
       "      <td>109</td>\n",
       "      <td>18</td>\n",
       "      <td>0.000000</td>\n",
       "    </tr>\n",
       "    <tr>\n",
       "      <th>1</th>\n",
       "      <td>0.993333</td>\n",
       "      <td>0.864</td>\n",
       "      <td>0.867925</td>\n",
       "      <td>0.821429</td>\n",
       "      <td>215</td>\n",
       "      <td>108</td>\n",
       "      <td>18</td>\n",
       "      <td>0.000222</td>\n",
       "    </tr>\n",
       "    <tr>\n",
       "      <th>2</th>\n",
       "      <td>0.993333</td>\n",
       "      <td>0.864</td>\n",
       "      <td>0.867925</td>\n",
       "      <td>0.821429</td>\n",
       "      <td>211</td>\n",
       "      <td>106</td>\n",
       "      <td>18</td>\n",
       "      <td>0.000400</td>\n",
       "    </tr>\n",
       "    <tr>\n",
       "      <th>3</th>\n",
       "      <td>0.993333</td>\n",
       "      <td>0.864</td>\n",
       "      <td>0.867925</td>\n",
       "      <td>0.821429</td>\n",
       "      <td>207</td>\n",
       "      <td>104</td>\n",
       "      <td>18</td>\n",
       "      <td>0.000444</td>\n",
       "    </tr>\n",
       "    <tr>\n",
       "      <th>4</th>\n",
       "      <td>0.993333</td>\n",
       "      <td>0.864</td>\n",
       "      <td>0.867925</td>\n",
       "      <td>0.821429</td>\n",
       "      <td>207</td>\n",
       "      <td>104</td>\n",
       "      <td>18</td>\n",
       "      <td>0.000444</td>\n",
       "    </tr>\n",
       "    <tr>\n",
       "      <th>5</th>\n",
       "      <td>0.986667</td>\n",
       "      <td>0.864</td>\n",
       "      <td>0.875000</td>\n",
       "      <td>0.812500</td>\n",
       "      <td>185</td>\n",
       "      <td>93</td>\n",
       "      <td>14</td>\n",
       "      <td>0.000711</td>\n",
       "    </tr>\n",
       "    <tr>\n",
       "      <th>6</th>\n",
       "      <td>0.985333</td>\n",
       "      <td>0.864</td>\n",
       "      <td>0.875000</td>\n",
       "      <td>0.812500</td>\n",
       "      <td>179</td>\n",
       "      <td>90</td>\n",
       "      <td>14</td>\n",
       "      <td>0.000762</td>\n",
       "    </tr>\n",
       "    <tr>\n",
       "      <th>7</th>\n",
       "      <td>0.985333</td>\n",
       "      <td>0.864</td>\n",
       "      <td>0.875000</td>\n",
       "      <td>0.812500</td>\n",
       "      <td>177</td>\n",
       "      <td>89</td>\n",
       "      <td>14</td>\n",
       "      <td>0.000800</td>\n",
       "    </tr>\n",
       "    <tr>\n",
       "      <th>8</th>\n",
       "      <td>0.982667</td>\n",
       "      <td>0.864</td>\n",
       "      <td>0.875000</td>\n",
       "      <td>0.812500</td>\n",
       "      <td>165</td>\n",
       "      <td>83</td>\n",
       "      <td>14</td>\n",
       "      <td>0.000808</td>\n",
       "    </tr>\n",
       "    <tr>\n",
       "      <th>9</th>\n",
       "      <td>0.982667</td>\n",
       "      <td>0.864</td>\n",
       "      <td>0.875000</td>\n",
       "      <td>0.812500</td>\n",
       "      <td>165</td>\n",
       "      <td>83</td>\n",
       "      <td>14</td>\n",
       "      <td>0.000808</td>\n",
       "    </tr>\n",
       "    <tr>\n",
       "      <th>10</th>\n",
       "      <td>0.981333</td>\n",
       "      <td>0.864</td>\n",
       "      <td>0.882353</td>\n",
       "      <td>0.803571</td>\n",
       "      <td>159</td>\n",
       "      <td>80</td>\n",
       "      <td>14</td>\n",
       "      <td>0.000821</td>\n",
       "    </tr>\n",
       "    <tr>\n",
       "      <th>11</th>\n",
       "      <td>0.978667</td>\n",
       "      <td>0.864</td>\n",
       "      <td>0.882353</td>\n",
       "      <td>0.803571</td>\n",
       "      <td>153</td>\n",
       "      <td>77</td>\n",
       "      <td>14</td>\n",
       "      <td>0.000857</td>\n",
       "    </tr>\n",
       "    <tr>\n",
       "      <th>12</th>\n",
       "      <td>0.974667</td>\n",
       "      <td>0.860</td>\n",
       "      <td>0.873786</td>\n",
       "      <td>0.803571</td>\n",
       "      <td>143</td>\n",
       "      <td>72</td>\n",
       "      <td>14</td>\n",
       "      <td>0.000889</td>\n",
       "    </tr>\n",
       "    <tr>\n",
       "      <th>13</th>\n",
       "      <td>0.973333</td>\n",
       "      <td>0.860</td>\n",
       "      <td>0.873786</td>\n",
       "      <td>0.803571</td>\n",
       "      <td>141</td>\n",
       "      <td>71</td>\n",
       "      <td>14</td>\n",
       "      <td>0.000889</td>\n",
       "    </tr>\n",
       "    <tr>\n",
       "      <th>14</th>\n",
       "      <td>0.972000</td>\n",
       "      <td>0.860</td>\n",
       "      <td>0.873786</td>\n",
       "      <td>0.803571</td>\n",
       "      <td>131</td>\n",
       "      <td>66</td>\n",
       "      <td>14</td>\n",
       "      <td>0.000917</td>\n",
       "    </tr>\n",
       "    <tr>\n",
       "      <th>15</th>\n",
       "      <td>0.970667</td>\n",
       "      <td>0.868</td>\n",
       "      <td>0.876190</td>\n",
       "      <td>0.821429</td>\n",
       "      <td>125</td>\n",
       "      <td>63</td>\n",
       "      <td>14</td>\n",
       "      <td>0.000917</td>\n",
       "    </tr>\n",
       "    <tr>\n",
       "      <th>16</th>\n",
       "      <td>0.969333</td>\n",
       "      <td>0.868</td>\n",
       "      <td>0.876190</td>\n",
       "      <td>0.821429</td>\n",
       "      <td>121</td>\n",
       "      <td>61</td>\n",
       "      <td>14</td>\n",
       "      <td>0.001000</td>\n",
       "    </tr>\n",
       "    <tr>\n",
       "      <th>17</th>\n",
       "      <td>0.969333</td>\n",
       "      <td>0.868</td>\n",
       "      <td>0.876190</td>\n",
       "      <td>0.821429</td>\n",
       "      <td>121</td>\n",
       "      <td>61</td>\n",
       "      <td>14</td>\n",
       "      <td>0.001000</td>\n",
       "    </tr>\n",
       "    <tr>\n",
       "      <th>18</th>\n",
       "      <td>0.964000</td>\n",
       "      <td>0.872</td>\n",
       "      <td>0.877358</td>\n",
       "      <td>0.830357</td>\n",
       "      <td>107</td>\n",
       "      <td>54</td>\n",
       "      <td>14</td>\n",
       "      <td>0.001018</td>\n",
       "    </tr>\n",
       "    <tr>\n",
       "      <th>19</th>\n",
       "      <td>0.961333</td>\n",
       "      <td>0.868</td>\n",
       "      <td>0.876190</td>\n",
       "      <td>0.821429</td>\n",
       "      <td>99</td>\n",
       "      <td>50</td>\n",
       "      <td>14</td>\n",
       "      <td>0.001037</td>\n",
       "    </tr>\n",
       "    <tr>\n",
       "      <th>20</th>\n",
       "      <td>0.952000</td>\n",
       "      <td>0.896</td>\n",
       "      <td>0.938776</td>\n",
       "      <td>0.821429</td>\n",
       "      <td>71</td>\n",
       "      <td>36</td>\n",
       "      <td>14</td>\n",
       "      <td>0.001134</td>\n",
       "    </tr>\n",
       "    <tr>\n",
       "      <th>21</th>\n",
       "      <td>0.952000</td>\n",
       "      <td>0.896</td>\n",
       "      <td>0.938776</td>\n",
       "      <td>0.821429</td>\n",
       "      <td>71</td>\n",
       "      <td>36</td>\n",
       "      <td>14</td>\n",
       "      <td>0.001200</td>\n",
       "    </tr>\n",
       "    <tr>\n",
       "      <th>22</th>\n",
       "      <td>0.948000</td>\n",
       "      <td>0.908</td>\n",
       "      <td>0.940594</td>\n",
       "      <td>0.848214</td>\n",
       "      <td>61</td>\n",
       "      <td>31</td>\n",
       "      <td>9</td>\n",
       "      <td>0.001280</td>\n",
       "    </tr>\n",
       "    <tr>\n",
       "      <th>23</th>\n",
       "      <td>0.946667</td>\n",
       "      <td>0.912</td>\n",
       "      <td>0.941176</td>\n",
       "      <td>0.857143</td>\n",
       "      <td>57</td>\n",
       "      <td>29</td>\n",
       "      <td>9</td>\n",
       "      <td>0.001284</td>\n",
       "    </tr>\n",
       "    <tr>\n",
       "      <th>24</th>\n",
       "      <td>0.946667</td>\n",
       "      <td>0.912</td>\n",
       "      <td>0.941176</td>\n",
       "      <td>0.857143</td>\n",
       "      <td>57</td>\n",
       "      <td>29</td>\n",
       "      <td>9</td>\n",
       "      <td>0.001363</td>\n",
       "    </tr>\n",
       "    <tr>\n",
       "      <th>25</th>\n",
       "      <td>0.942667</td>\n",
       "      <td>0.908</td>\n",
       "      <td>0.940594</td>\n",
       "      <td>0.848214</td>\n",
       "      <td>53</td>\n",
       "      <td>27</td>\n",
       "      <td>9</td>\n",
       "      <td>0.001406</td>\n",
       "    </tr>\n",
       "    <tr>\n",
       "      <th>26</th>\n",
       "      <td>0.940000</td>\n",
       "      <td>0.908</td>\n",
       "      <td>0.940594</td>\n",
       "      <td>0.848214</td>\n",
       "      <td>49</td>\n",
       "      <td>25</td>\n",
       "      <td>9</td>\n",
       "      <td>0.001600</td>\n",
       "    </tr>\n",
       "    <tr>\n",
       "      <th>27</th>\n",
       "      <td>0.940000</td>\n",
       "      <td>0.908</td>\n",
       "      <td>0.940594</td>\n",
       "      <td>0.848214</td>\n",
       "      <td>47</td>\n",
       "      <td>24</td>\n",
       "      <td>9</td>\n",
       "      <td>0.001623</td>\n",
       "    </tr>\n",
       "    <tr>\n",
       "      <th>28</th>\n",
       "      <td>0.933333</td>\n",
       "      <td>0.908</td>\n",
       "      <td>0.940594</td>\n",
       "      <td>0.848214</td>\n",
       "      <td>33</td>\n",
       "      <td>17</td>\n",
       "      <td>7</td>\n",
       "      <td>0.001876</td>\n",
       "    </tr>\n",
       "    <tr>\n",
       "      <th>29</th>\n",
       "      <td>0.933333</td>\n",
       "      <td>0.908</td>\n",
       "      <td>0.940594</td>\n",
       "      <td>0.848214</td>\n",
       "      <td>31</td>\n",
       "      <td>16</td>\n",
       "      <td>7</td>\n",
       "      <td>0.001896</td>\n",
       "    </tr>\n",
       "    <tr>\n",
       "      <th>30</th>\n",
       "      <td>0.933333</td>\n",
       "      <td>0.908</td>\n",
       "      <td>0.940594</td>\n",
       "      <td>0.848214</td>\n",
       "      <td>29</td>\n",
       "      <td>15</td>\n",
       "      <td>7</td>\n",
       "      <td>0.001916</td>\n",
       "    </tr>\n",
       "    <tr>\n",
       "      <th>31</th>\n",
       "      <td>0.930667</td>\n",
       "      <td>0.908</td>\n",
       "      <td>0.940594</td>\n",
       "      <td>0.848214</td>\n",
       "      <td>27</td>\n",
       "      <td>14</td>\n",
       "      <td>6</td>\n",
       "      <td>0.002640</td>\n",
       "    </tr>\n",
       "    <tr>\n",
       "      <th>32</th>\n",
       "      <td>0.928000</td>\n",
       "      <td>0.908</td>\n",
       "      <td>0.915888</td>\n",
       "      <td>0.875000</td>\n",
       "      <td>25</td>\n",
       "      <td>13</td>\n",
       "      <td>6</td>\n",
       "      <td>0.002685</td>\n",
       "    </tr>\n",
       "    <tr>\n",
       "      <th>33</th>\n",
       "      <td>0.920000</td>\n",
       "      <td>0.904</td>\n",
       "      <td>0.923077</td>\n",
       "      <td>0.857143</td>\n",
       "      <td>19</td>\n",
       "      <td>10</td>\n",
       "      <td>4</td>\n",
       "      <td>0.003762</td>\n",
       "    </tr>\n",
       "    <tr>\n",
       "      <th>34</th>\n",
       "      <td>0.920000</td>\n",
       "      <td>0.904</td>\n",
       "      <td>0.923077</td>\n",
       "      <td>0.857143</td>\n",
       "      <td>15</td>\n",
       "      <td>8</td>\n",
       "      <td>4</td>\n",
       "      <td>0.004499</td>\n",
       "    </tr>\n",
       "    <tr>\n",
       "      <th>35</th>\n",
       "      <td>0.920000</td>\n",
       "      <td>0.904</td>\n",
       "      <td>0.923077</td>\n",
       "      <td>0.857143</td>\n",
       "      <td>15</td>\n",
       "      <td>8</td>\n",
       "      <td>4</td>\n",
       "      <td>0.005108</td>\n",
       "    </tr>\n",
       "    <tr>\n",
       "      <th>36</th>\n",
       "      <td>0.902667</td>\n",
       "      <td>0.896</td>\n",
       "      <td>0.846774</td>\n",
       "      <td>0.937500</td>\n",
       "      <td>5</td>\n",
       "      <td>3</td>\n",
       "      <td>2</td>\n",
       "      <td>0.008576</td>\n",
       "    </tr>\n",
       "    <tr>\n",
       "      <th>37</th>\n",
       "      <td>0.824000</td>\n",
       "      <td>0.808</td>\n",
       "      <td>0.833333</td>\n",
       "      <td>0.714286</td>\n",
       "      <td>3</td>\n",
       "      <td>2</td>\n",
       "      <td>1</td>\n",
       "      <td>0.122084</td>\n",
       "    </tr>\n",
       "    <tr>\n",
       "      <th>38</th>\n",
       "      <td>0.613333</td>\n",
       "      <td>0.552</td>\n",
       "      <td>0.000000</td>\n",
       "      <td>0.000000</td>\n",
       "      <td>1</td>\n",
       "      <td>1</td>\n",
       "      <td>0</td>\n",
       "      <td>0.184288</td>\n",
       "    </tr>\n",
       "  </tbody>\n",
       "</table>\n",
       "</div>"
      ],
      "text/plain": [
       "    Train Score  Test Score  Test Precision  Test Recall  Nodes  Leaves  \\\n",
       "0      0.993333       0.864        0.867925     0.821429    217     109   \n",
       "1      0.993333       0.864        0.867925     0.821429    215     108   \n",
       "2      0.993333       0.864        0.867925     0.821429    211     106   \n",
       "3      0.993333       0.864        0.867925     0.821429    207     104   \n",
       "4      0.993333       0.864        0.867925     0.821429    207     104   \n",
       "5      0.986667       0.864        0.875000     0.812500    185      93   \n",
       "6      0.985333       0.864        0.875000     0.812500    179      90   \n",
       "7      0.985333       0.864        0.875000     0.812500    177      89   \n",
       "8      0.982667       0.864        0.875000     0.812500    165      83   \n",
       "9      0.982667       0.864        0.875000     0.812500    165      83   \n",
       "10     0.981333       0.864        0.882353     0.803571    159      80   \n",
       "11     0.978667       0.864        0.882353     0.803571    153      77   \n",
       "12     0.974667       0.860        0.873786     0.803571    143      72   \n",
       "13     0.973333       0.860        0.873786     0.803571    141      71   \n",
       "14     0.972000       0.860        0.873786     0.803571    131      66   \n",
       "15     0.970667       0.868        0.876190     0.821429    125      63   \n",
       "16     0.969333       0.868        0.876190     0.821429    121      61   \n",
       "17     0.969333       0.868        0.876190     0.821429    121      61   \n",
       "18     0.964000       0.872        0.877358     0.830357    107      54   \n",
       "19     0.961333       0.868        0.876190     0.821429     99      50   \n",
       "20     0.952000       0.896        0.938776     0.821429     71      36   \n",
       "21     0.952000       0.896        0.938776     0.821429     71      36   \n",
       "22     0.948000       0.908        0.940594     0.848214     61      31   \n",
       "23     0.946667       0.912        0.941176     0.857143     57      29   \n",
       "24     0.946667       0.912        0.941176     0.857143     57      29   \n",
       "25     0.942667       0.908        0.940594     0.848214     53      27   \n",
       "26     0.940000       0.908        0.940594     0.848214     49      25   \n",
       "27     0.940000       0.908        0.940594     0.848214     47      24   \n",
       "28     0.933333       0.908        0.940594     0.848214     33      17   \n",
       "29     0.933333       0.908        0.940594     0.848214     31      16   \n",
       "30     0.933333       0.908        0.940594     0.848214     29      15   \n",
       "31     0.930667       0.908        0.940594     0.848214     27      14   \n",
       "32     0.928000       0.908        0.915888     0.875000     25      13   \n",
       "33     0.920000       0.904        0.923077     0.857143     19      10   \n",
       "34     0.920000       0.904        0.923077     0.857143     15       8   \n",
       "35     0.920000       0.904        0.923077     0.857143     15       8   \n",
       "36     0.902667       0.896        0.846774     0.937500      5       3   \n",
       "37     0.824000       0.808        0.833333     0.714286      3       2   \n",
       "38     0.613333       0.552        0.000000     0.000000      1       1   \n",
       "\n",
       "    Depths     Alpha  \n",
       "0       18  0.000000  \n",
       "1       18  0.000222  \n",
       "2       18  0.000400  \n",
       "3       18  0.000444  \n",
       "4       18  0.000444  \n",
       "5       14  0.000711  \n",
       "6       14  0.000762  \n",
       "7       14  0.000800  \n",
       "8       14  0.000808  \n",
       "9       14  0.000808  \n",
       "10      14  0.000821  \n",
       "11      14  0.000857  \n",
       "12      14  0.000889  \n",
       "13      14  0.000889  \n",
       "14      14  0.000917  \n",
       "15      14  0.000917  \n",
       "16      14  0.001000  \n",
       "17      14  0.001000  \n",
       "18      14  0.001018  \n",
       "19      14  0.001037  \n",
       "20      14  0.001134  \n",
       "21      14  0.001200  \n",
       "22       9  0.001280  \n",
       "23       9  0.001284  \n",
       "24       9  0.001363  \n",
       "25       9  0.001406  \n",
       "26       9  0.001600  \n",
       "27       9  0.001623  \n",
       "28       7  0.001876  \n",
       "29       7  0.001896  \n",
       "30       7  0.001916  \n",
       "31       6  0.002640  \n",
       "32       6  0.002685  \n",
       "33       4  0.003762  \n",
       "34       4  0.004499  \n",
       "35       4  0.005108  \n",
       "36       2  0.008576  \n",
       "37       1  0.122084  \n",
       "38       0  0.184288  "
      ]
     },
     "execution_count": 16,
     "metadata": {},
     "output_type": "execute_result"
    }
   ],
   "source": [
    "#Step 4 - create a table\n",
    "results = pd.DataFrame( {'Train Score': train_scores,\n",
    "                        'Test Score':test_scores,\n",
    "                        'Test Precision':test_precision,\n",
    "                        'Test Recall':test_recall,\n",
    "                        'Nodes':nodes,\n",
    "                        'Leaves':leaves,\n",
    "                        'Depths':depths,\n",
    "                        'Alpha':ccp_alphas}   )\n",
    "results"
   ]
  },
  {
   "cell_type": "code",
   "execution_count": 23,
   "id": "fa676aa4-39ef-4e9c-9acc-ef71c8f70800",
   "metadata": {},
   "outputs": [
    {
     "data": {
      "text/plain": [
       "(23, 0.0012839506172839501)"
      ]
     },
     "execution_count": 23,
     "metadata": {},
     "output_type": "execute_result"
    }
   ],
   "source": [
    "best_model_index = results.sort_values('Test Score', ascending=False).index[0]\n",
    "best_ccp = ccp_alphas[best_model_index]\n",
    "\n",
    "best_model_index, best_ccp"
   ]
  },
  {
   "cell_type": "code",
   "execution_count": 27,
   "id": "d7365c35-5f3a-43bd-8edc-da1cb6635c0d",
   "metadata": {},
   "outputs": [
    {
     "data": {
      "text/plain": [
       "0.0012839506172839501"
      ]
     },
     "execution_count": 27,
     "metadata": {},
     "output_type": "execute_result"
    }
   ],
   "source": [
    "results.sort_values('Test Score', ascending=False)['Alpha'].iloc[0]"
   ]
  },
  {
   "cell_type": "code",
   "execution_count": 29,
   "id": "e36e4594-7103-4be9-9ac2-7c0ab91b5702",
   "metadata": {},
   "outputs": [
    {
     "data": {
      "text/html": [
       "<style>#sk-container-id-1 {color: black;}#sk-container-id-1 pre{padding: 0;}#sk-container-id-1 div.sk-toggleable {background-color: white;}#sk-container-id-1 label.sk-toggleable__label {cursor: pointer;display: block;width: 100%;margin-bottom: 0;padding: 0.3em;box-sizing: border-box;text-align: center;}#sk-container-id-1 label.sk-toggleable__label-arrow:before {content: \"▸\";float: left;margin-right: 0.25em;color: #696969;}#sk-container-id-1 label.sk-toggleable__label-arrow:hover:before {color: black;}#sk-container-id-1 div.sk-estimator:hover label.sk-toggleable__label-arrow:before {color: black;}#sk-container-id-1 div.sk-toggleable__content {max-height: 0;max-width: 0;overflow: hidden;text-align: left;background-color: #f0f8ff;}#sk-container-id-1 div.sk-toggleable__content pre {margin: 0.2em;color: black;border-radius: 0.25em;background-color: #f0f8ff;}#sk-container-id-1 input.sk-toggleable__control:checked~div.sk-toggleable__content {max-height: 200px;max-width: 100%;overflow: auto;}#sk-container-id-1 input.sk-toggleable__control:checked~label.sk-toggleable__label-arrow:before {content: \"▾\";}#sk-container-id-1 div.sk-estimator input.sk-toggleable__control:checked~label.sk-toggleable__label {background-color: #d4ebff;}#sk-container-id-1 div.sk-label input.sk-toggleable__control:checked~label.sk-toggleable__label {background-color: #d4ebff;}#sk-container-id-1 input.sk-hidden--visually {border: 0;clip: rect(1px 1px 1px 1px);clip: rect(1px, 1px, 1px, 1px);height: 1px;margin: -1px;overflow: hidden;padding: 0;position: absolute;width: 1px;}#sk-container-id-1 div.sk-estimator {font-family: monospace;background-color: #f0f8ff;border: 1px dotted black;border-radius: 0.25em;box-sizing: border-box;margin-bottom: 0.5em;}#sk-container-id-1 div.sk-estimator:hover {background-color: #d4ebff;}#sk-container-id-1 div.sk-parallel-item::after {content: \"\";width: 100%;border-bottom: 1px solid gray;flex-grow: 1;}#sk-container-id-1 div.sk-label:hover label.sk-toggleable__label {background-color: #d4ebff;}#sk-container-id-1 div.sk-serial::before {content: \"\";position: absolute;border-left: 1px solid gray;box-sizing: border-box;top: 0;bottom: 0;left: 50%;z-index: 0;}#sk-container-id-1 div.sk-serial {display: flex;flex-direction: column;align-items: center;background-color: white;padding-right: 0.2em;padding-left: 0.2em;position: relative;}#sk-container-id-1 div.sk-item {position: relative;z-index: 1;}#sk-container-id-1 div.sk-parallel {display: flex;align-items: stretch;justify-content: center;background-color: white;position: relative;}#sk-container-id-1 div.sk-item::before, #sk-container-id-1 div.sk-parallel-item::before {content: \"\";position: absolute;border-left: 1px solid gray;box-sizing: border-box;top: 0;bottom: 0;left: 50%;z-index: -1;}#sk-container-id-1 div.sk-parallel-item {display: flex;flex-direction: column;z-index: 1;position: relative;background-color: white;}#sk-container-id-1 div.sk-parallel-item:first-child::after {align-self: flex-end;width: 50%;}#sk-container-id-1 div.sk-parallel-item:last-child::after {align-self: flex-start;width: 50%;}#sk-container-id-1 div.sk-parallel-item:only-child::after {width: 0;}#sk-container-id-1 div.sk-dashed-wrapped {border: 1px dashed gray;margin: 0 0.4em 0.5em 0.4em;box-sizing: border-box;padding-bottom: 0.4em;background-color: white;}#sk-container-id-1 div.sk-label label {font-family: monospace;font-weight: bold;display: inline-block;line-height: 1.2em;}#sk-container-id-1 div.sk-label-container {text-align: center;}#sk-container-id-1 div.sk-container {/* jupyter's `normalize.less` sets `[hidden] { display: none; }` but bootstrap.min.css set `[hidden] { display: none !important; }` so we also need the `!important` here to be able to override the default hidden behavior on the sphinx rendered scikit-learn.org. See: https://github.com/scikit-learn/scikit-learn/issues/21755 */display: inline-block !important;position: relative;}#sk-container-id-1 div.sk-text-repr-fallback {display: none;}</style><div id=\"sk-container-id-1\" class=\"sk-top-container\"><div class=\"sk-text-repr-fallback\"><pre>DecisionTreeClassifier(ccp_alpha=0.0012839506172839501, random_state=0)</pre><b>In a Jupyter environment, please rerun this cell to show the HTML representation or trust the notebook. <br />On GitHub, the HTML representation is unable to render, please try loading this page with nbviewer.org.</b></div><div class=\"sk-container\" hidden><div class=\"sk-item\"><div class=\"sk-estimator sk-toggleable\"><input class=\"sk-toggleable__control sk-hidden--visually\" id=\"sk-estimator-id-1\" type=\"checkbox\" checked><label for=\"sk-estimator-id-1\" class=\"sk-toggleable__label sk-toggleable__label-arrow\">DecisionTreeClassifier</label><div class=\"sk-toggleable__content\"><pre>DecisionTreeClassifier(ccp_alpha=0.0012839506172839501, random_state=0)</pre></div></div></div></div></div>"
      ],
      "text/plain": [
       "DecisionTreeClassifier(ccp_alpha=0.0012839506172839501, random_state=0)"
      ]
     },
     "execution_count": 29,
     "metadata": {},
     "output_type": "execute_result"
    }
   ],
   "source": [
    "best_clf = models[best_model_index]\n",
    "best_clf"
   ]
  },
  {
   "cell_type": "code",
   "execution_count": 33,
   "id": "7fbd216b-9f8b-4c56-99c9-55b50f88666c",
   "metadata": {},
   "outputs": [
    {
     "data": {
      "image/png": "[encoded data removed]",
      "text/plain": [
       "<Figure size 1200x1200 with 1 Axes>"
      ]
     },
     "metadata": {},
     "output_type": "display_data"
    }
   ],
   "source": [
    "plt.figure(figsize=(12,12))\n",
    "tree.plot_tree(best_clf, fontsize=6)\n",
    "plt.show()"
   ]
  },
  {
   "cell_type": "markdown",
   "id": "4c1e52d8-41e0-49e2-9489-feda803a0acb",
   "metadata": {},
   "source": [
    "## Coffee break until 10:15am EST\n",
    "\n",
    "Feedback surveys (both links in the chat):\n",
    "- TTS: https://www.coursecheck.com/ref/1/422/261894 --> info goes to me and my employer (can choose to write feedback anonymously)\n",
    "- JPM: https://www.surveymonkey.com/r/VFQYMNL --> info is private and goes to JPM (I get a summary)\n",
    "\n"
   ]
  },
  {
   "cell_type": "markdown",
   "id": "0574ce95-ebe0-4d85-8d2f-d28ffdd354f3",
   "metadata": {},
   "source": [
    "# Model Selection\n",
    "- open the `ModelSelection.ipynb` file\n",
    "- import the packages at the top of the file\n",
    "- slide 83 in the presentation"
   ]
  },
  {
   "cell_type": "code",
   "execution_count": 34,
   "id": "ab8cc029-9fd2-4cfd-859c-9a002f840937",
   "metadata": {},
   "outputs": [],
   "source": [
    "import numpy as np\n",
    "import pandas as pd\n",
    "import matplotlib.pyplot as plt\n",
    "import seaborn as sns\n",
    "from sklearn import tree\n",
    "from sklearn.metrics import classification_report\n",
    "from sklearn.metrics import roc_curve, auc\n",
    "from sklearn.model_selection import cross_val_score\n",
    "from sklearn.model_selection import train_test_split\n",
    "from sklearn.model_selection import (KFold, StratifiedKFold, GroupKFold)"
   ]
  },
  {
   "cell_type": "code",
   "execution_count": 38,
   "id": "96ad75be-abc5-4294-944b-38137b51b9bd",
   "metadata": {},
   "outputs": [],
   "source": [
    "df = pd.read_csv(\"ExData/car_data.csv\", index_col=['User ID'])\n",
    "df = pd.concat([df, pd.get_dummies(df['Gender'],dtype=int)], axis=1)"
   ]
  },
  {
   "cell_type": "markdown",
   "id": "f437da5b-f6d4-4af6-acc9-a0c2fe056c35",
   "metadata": {},
   "source": [
    "## Cross Validation\n",
    "- `cross_val_score(model, X, y, cv=number of tests, scoring=metric)`\n",
    "    - default scoring=accuracy if your model is a classification model\n",
    "    - but you can change to precision or recall or something else\n",
    "    - `scoring='precision'` or `scoring='recall'`"
   ]
  },
  {
   "cell_type": "code",
   "execution_count": 66,
   "id": "a78d7041-271e-4fba-bb63-baf849bd5cec",
   "metadata": {},
   "outputs": [
    {
     "data": {
      "text/plain": [
       "(array([0.88 , 0.875, 0.905, 0.875, 0.87 ]),\n",
       " 0.881,\n",
       " 0.905,\n",
       " 0.87,\n",
       " 0.012409673645990868)"
      ]
     },
     "execution_count": 66,
     "metadata": {},
     "output_type": "execute_result"
    }
   ],
   "source": [
    "clf = tree.DecisionTreeClassifier(random_state=42, ccp_alpha=0)\n",
    "scores = cross_val_score(clf, df[['Age', 'AnnualSalary', 'Female']], df['Purchased'], cv=5)\n",
    "scores, scores.mean(), scores.max(), scores.min(), scores.std() #scores of the TEST data within each test"
   ]
  },
  {
   "cell_type": "code",
   "execution_count": 50,
   "id": "258cef62-b5a8-467d-aa2c-319f1ef81eb6",
   "metadata": {},
   "outputs": [
    {
     "data": {
      "text/plain": [
       "array([0.795, 0.81 , 0.835, 0.8  , 0.78 ])"
      ]
     },
     "execution_count": 50,
     "metadata": {},
     "output_type": "execute_result"
    }
   ],
   "source": [
    "cross_val_score(clf, df[['Age','Female']], df['Purchased'], cv=5)"
   ]
  },
  {
   "cell_type": "code",
   "execution_count": 51,
   "id": "8a8fe933-6f01-48b4-b542-ce4a47262c53",
   "metadata": {},
   "outputs": [
    {
     "data": {
      "text/plain": [
       "array([0.845, 0.855, 0.89 , 0.855, 0.845])"
      ]
     },
     "execution_count": 51,
     "metadata": {},
     "output_type": "execute_result"
    }
   ],
   "source": [
    "cross_val_score(clf, df[['Age','AnnualSalary']], df['Purchased'], cv=5)"
   ]
  },
  {
   "cell_type": "code",
   "execution_count": 61,
   "id": "7c72759f-736c-4ce4-b90d-7f944b6c3c4c",
   "metadata": {},
   "outputs": [],
   "source": [
    "from sklearn.linear_model import LogisticRegression\n",
    "from sklearn.preprocessing import StandardScaler"
   ]
  },
  {
   "cell_type": "code",
   "execution_count": 67,
   "id": "d900c88d-b62d-42ce-a598-42d09f51f668",
   "metadata": {},
   "outputs": [
    {
     "data": {
      "text/plain": [
       "(array([0.82, 0.82, 0.89, 0.84, 0.79]),\n",
       " 0.8320000000000001,\n",
       " 0.89,\n",
       " 0.79,\n",
       " 0.0331058907144937)"
      ]
     },
     "execution_count": 67,
     "metadata": {},
     "output_type": "execute_result"
    }
   ],
   "source": [
    "df['AnnualSalaryStd'] = StandardScaler().fit_transform(df[['AnnualSalary']])\n",
    "clf_logistic = LogisticRegression(random_state=0)\n",
    "scores = cross_val_score(clf_logistic, df[['Age', 'AnnualSalaryStd', 'Female']], df['Purchased'], cv=5)\n",
    "scores, scores.mean(), scores.max(), scores.min(), scores.std() #scores of the TEST data within each test"
   ]
  },
  {
   "cell_type": "markdown",
   "id": "2c22b3a6-1bbf-4c62-a6cb-aa9d4cfc8630",
   "metadata": {},
   "source": [
    "## Train/Test Split of Data\n",
    "- "
   ]
  },
  {
   "cell_type": "code",
   "execution_count": 68,
   "id": "d9eefe90-9b71-480c-85c4-5969753e5236",
   "metadata": {},
   "outputs": [],
   "source": [
    "X_train, X_test, y_train, y_test = train_test_split(df[['Age', 'AnnualSalary','AnnualSalaryStd','Female']],\n",
    "                                                    df['Purchased'], \n",
    "                                                    test_size=0.2,\n",
    "                                                    random_state=0)"
   ]
  },
  {
   "cell_type": "code",
   "execution_count": 69,
   "id": "6779c926-666f-46de-867c-812c620d3431",
   "metadata": {},
   "outputs": [],
   "source": [
    "x_columns = [['Age'], ['Age', 'AnnualSalary'], ['Age', 'Female']]"
   ]
  },
  {
   "cell_type": "code",
   "execution_count": 72,
   "id": "e7a55807-eb70-410c-9e8d-697f57cebe21",
   "metadata": {},
   "outputs": [
    {
     "name": "stdout",
     "output_type": "stream",
     "text": [
      "['Age']\n",
      "[0.671875   0.71875    0.58461538 0.72307692 0.76923077] 0.6935096153846154 0.7692307692307693 0.5846153846153846 0.0625635771310429\n",
      "['Age', 'AnnualSalary']\n",
      "[0.765625   0.859375   0.78461538 0.78461538 0.81538462] 0.8019230769230768 0.859375 0.765625 0.032859090971410876\n",
      "['Age', 'Female']\n",
      "[0.65625    0.640625   0.56923077 0.72307692 0.78461538] 0.6747596153846154 0.7846153846153846 0.5692307692307692 0.07354857912376186\n"
     ]
    }
   ],
   "source": [
    "for x_cols in x_columns:\n",
    "    print(x_cols)\n",
    "    clf = tree.DecisionTreeClassifier(random_state=42, ccp_alpha=0)\n",
    "    scores = cross_val_score(clf, X_train[x_cols], y_train, cv=5, scoring='recall')\n",
    "    print(scores, scores.mean(), scores.max(), scores.min(), scores.std()) #scores of the TEST data within each test"
   ]
  },
  {
   "cell_type": "code",
   "execution_count": 73,
   "id": "3c15acfe-5647-4d28-aaf1-27b5140de240",
   "metadata": {},
   "outputs": [
    {
     "data": {
      "text/html": [
       "<style>#sk-container-id-2 {color: black;}#sk-container-id-2 pre{padding: 0;}#sk-container-id-2 div.sk-toggleable {background-color: white;}#sk-container-id-2 label.sk-toggleable__label {cursor: pointer;display: block;width: 100%;margin-bottom: 0;padding: 0.3em;box-sizing: border-box;text-align: center;}#sk-container-id-2 label.sk-toggleable__label-arrow:before {content: \"▸\";float: left;margin-right: 0.25em;color: #696969;}#sk-container-id-2 label.sk-toggleable__label-arrow:hover:before {color: black;}#sk-container-id-2 div.sk-estimator:hover label.sk-toggleable__label-arrow:before {color: black;}#sk-container-id-2 div.sk-toggleable__content {max-height: 0;max-width: 0;overflow: hidden;text-align: left;background-color: #f0f8ff;}#sk-container-id-2 div.sk-toggleable__content pre {margin: 0.2em;color: black;border-radius: 0.25em;background-color: #f0f8ff;}#sk-container-id-2 input.sk-toggleable__control:checked~div.sk-toggleable__content {max-height: 200px;max-width: 100%;overflow: auto;}#sk-container-id-2 input.sk-toggleable__control:checked~label.sk-toggleable__label-arrow:before {content: \"▾\";}#sk-container-id-2 div.sk-estimator input.sk-toggleable__control:checked~label.sk-toggleable__label {background-color: #d4ebff;}#sk-container-id-2 div.sk-label input.sk-toggleable__control:checked~label.sk-toggleable__label {background-color: #d4ebff;}#sk-container-id-2 input.sk-hidden--visually {border: 0;clip: rect(1px 1px 1px 1px);clip: rect(1px, 1px, 1px, 1px);height: 1px;margin: -1px;overflow: hidden;padding: 0;position: absolute;width: 1px;}#sk-container-id-2 div.sk-estimator {font-family: monospace;background-color: #f0f8ff;border: 1px dotted black;border-radius: 0.25em;box-sizing: border-box;margin-bottom: 0.5em;}#sk-container-id-2 div.sk-estimator:hover {background-color: #d4ebff;}#sk-container-id-2 div.sk-parallel-item::after {content: \"\";width: 100%;border-bottom: 1px solid gray;flex-grow: 1;}#sk-container-id-2 div.sk-label:hover label.sk-toggleable__label {background-color: #d4ebff;}#sk-container-id-2 div.sk-serial::before {content: \"\";position: absolute;border-left: 1px solid gray;box-sizing: border-box;top: 0;bottom: 0;left: 50%;z-index: 0;}#sk-container-id-2 div.sk-serial {display: flex;flex-direction: column;align-items: center;background-color: white;padding-right: 0.2em;padding-left: 0.2em;position: relative;}#sk-container-id-2 div.sk-item {position: relative;z-index: 1;}#sk-container-id-2 div.sk-parallel {display: flex;align-items: stretch;justify-content: center;background-color: white;position: relative;}#sk-container-id-2 div.sk-item::before, #sk-container-id-2 div.sk-parallel-item::before {content: \"\";position: absolute;border-left: 1px solid gray;box-sizing: border-box;top: 0;bottom: 0;left: 50%;z-index: -1;}#sk-container-id-2 div.sk-parallel-item {display: flex;flex-direction: column;z-index: 1;position: relative;background-color: white;}#sk-container-id-2 div.sk-parallel-item:first-child::after {align-self: flex-end;width: 50%;}#sk-container-id-2 div.sk-parallel-item:last-child::after {align-self: flex-start;width: 50%;}#sk-container-id-2 div.sk-parallel-item:only-child::after {width: 0;}#sk-container-id-2 div.sk-dashed-wrapped {border: 1px dashed gray;margin: 0 0.4em 0.5em 0.4em;box-sizing: border-box;padding-bottom: 0.4em;background-color: white;}#sk-container-id-2 div.sk-label label {font-family: monospace;font-weight: bold;display: inline-block;line-height: 1.2em;}#sk-container-id-2 div.sk-label-container {text-align: center;}#sk-container-id-2 div.sk-container {/* jupyter's `normalize.less` sets `[hidden] { display: none; }` but bootstrap.min.css set `[hidden] { display: none !important; }` so we also need the `!important` here to be able to override the default hidden behavior on the sphinx rendered scikit-learn.org. See: https://github.com/scikit-learn/scikit-learn/issues/21755 */display: inline-block !important;position: relative;}#sk-container-id-2 div.sk-text-repr-fallback {display: none;}</style><div id=\"sk-container-id-2\" class=\"sk-top-container\"><div class=\"sk-text-repr-fallback\"><pre>DecisionTreeClassifier(ccp_alpha=0, random_state=42)</pre><b>In a Jupyter environment, please rerun this cell to show the HTML representation or trust the notebook. <br />On GitHub, the HTML representation is unable to render, please try loading this page with nbviewer.org.</b></div><div class=\"sk-container\" hidden><div class=\"sk-item\"><div class=\"sk-estimator sk-toggleable\"><input class=\"sk-toggleable__control sk-hidden--visually\" id=\"sk-estimator-id-2\" type=\"checkbox\" checked><label for=\"sk-estimator-id-2\" class=\"sk-toggleable__label sk-toggleable__label-arrow\">DecisionTreeClassifier</label><div class=\"sk-toggleable__content\"><pre>DecisionTreeClassifier(ccp_alpha=0, random_state=42)</pre></div></div></div></div></div>"
      ],
      "text/plain": [
       "DecisionTreeClassifier(ccp_alpha=0, random_state=42)"
      ]
     },
     "execution_count": 73,
     "metadata": {},
     "output_type": "execute_result"
    }
   ],
   "source": [
    "best_xs = ['Age', 'AnnualSalary']\n",
    "clf.fit(X_train[best_xs], y_train)"
   ]
  },
  {
   "cell_type": "code",
   "execution_count": 80,
   "id": "b4ae5388-07e9-449d-8891-b0701633f9ed",
   "metadata": {},
   "outputs": [
    {
     "name": "stdout",
     "output_type": "stream",
     "text": [
      "              precision    recall  f1-score   support\n",
      "\n",
      "           0       0.99      1.00      0.99       477\n",
      "           1       1.00      0.98      0.99       323\n",
      "\n",
      "    accuracy                           0.99       800\n",
      "   macro avg       0.99      0.99      0.99       800\n",
      "weighted avg       0.99      0.99      0.99       800\n",
      "\n"
     ]
    }
   ],
   "source": [
    "print(classification_report(y_train, clf.predict(X_train[best_xs])))"
   ]
  },
  {
   "cell_type": "code",
   "execution_count": 79,
   "id": "164a526a-74f8-4d10-af35-f771bd48573b",
   "metadata": {},
   "outputs": [
    {
     "name": "stdout",
     "output_type": "stream",
     "text": [
      "              precision    recall  f1-score   support\n",
      "\n",
      "           0       0.90      0.94      0.92       121\n",
      "           1       0.91      0.85      0.88        79\n",
      "\n",
      "    accuracy                           0.91       200\n",
      "   macro avg       0.91      0.90      0.90       200\n",
      "weighted avg       0.91      0.91      0.90       200\n",
      "\n"
     ]
    }
   ],
   "source": [
    "#Final Evaluation on data it has never seen and was not used to create the model\n",
    "print(classification_report(y_test, clf.predict(X_test[best_xs])))"
   ]
  }
 ],
 "metadata": {
  "kernelspec": {
   "display_name": "Python 3 (ipykernel)",
   "language": "python",
   "name": "python3"
  },
  "language_info": {
   "codemirror_mode": {
    "name": "ipython",
    "version": 3
   },
   "file_extension": ".py",
   "mimetype": "text/x-python",
   "name": "python",
   "nbconvert_exporter": "python",
   "pygments_lexer": "ipython3",
   "version": "3.8.10"
  }
 },
 "nbformat": 4,
 "nbformat_minor": 5
}
