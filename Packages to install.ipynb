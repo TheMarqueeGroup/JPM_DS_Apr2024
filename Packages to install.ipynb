{
 "cells": [
  {
   "cell_type": "markdown",
   "id": "ea8a0aa3",
   "metadata": {},
   "source": [
    "Run the cell block below if running Python in Intellij on your work device, in order to quickly install all required packages."
   ]
  },
  {
   "cell_type": "code",
   "execution_count": null,
   "id": "d1255fbe",
   "metadata": {},
   "outputs": [],
   "source": [
    "!pip install pandas\n",
    "!pip install numpy\n",
    "!pip install matplotlib\n",
    "!pip install seaborn\n",
    "!pip install plotly\n",
    "!pip install scipy\n",
    "!pip install statsmodels\n",
    "!pip install scikit-learn\n",
    "!pip install openpyxl\n",
    "!pip install lxml\n",
    "!pip install xlrd"
   ]
  }
 ],
 "metadata": {
  "kernelspec": {
   "display_name": "Python 3 (ipykernel)",
   "language": "python",
   "name": "python3"
  },
  "language_info": {
   "codemirror_mode": {
    "name": "ipython",
    "version": 3
   },
   "file_extension": ".py",
   "mimetype": "text/x-python",
   "name": "python",
   "nbconvert_exporter": "python",
   "pygments_lexer": "ipython3",
   "version": "3.9.17"
  }
 },
 "nbformat": 4,
 "nbformat_minor": 5
}
